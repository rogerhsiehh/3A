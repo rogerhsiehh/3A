{
 "cells": [
  {
   "cell_type": "markdown",
   "metadata": {},
   "source": [
    "# 0. Install Dependencies"
   ]
  },
  {
   "cell_type": "code",
   "execution_count": 2,
   "metadata": {},
   "outputs": [
    {
     "name": "stdout",
     "output_type": "stream",
     "text": [
      "Requirement already satisfied: tensorflow in /Users/hsienpanghsieh/miniconda3/lib/python3.10/site-packages (2.17.0)\n",
      "Requirement already satisfied: google-pasta>=0.1.1 in /Users/hsienpanghsieh/miniconda3/lib/python3.10/site-packages (from tensorflow) (0.2.0)\n",
      "Requirement already satisfied: packaging in /Users/hsienpanghsieh/miniconda3/lib/python3.10/site-packages (from tensorflow) (23.0)\n",
      "Requirement already satisfied: absl-py>=1.0.0 in /Users/hsienpanghsieh/miniconda3/lib/python3.10/site-packages (from tensorflow) (2.1.0)\n",
      "Requirement already satisfied: termcolor>=1.1.0 in /Users/hsienpanghsieh/miniconda3/lib/python3.10/site-packages (from tensorflow) (2.4.0)\n",
      "Requirement already satisfied: keras>=3.2.0 in /Users/hsienpanghsieh/miniconda3/lib/python3.10/site-packages (from tensorflow) (3.4.1)\n",
      "Requirement already satisfied: grpcio<2.0,>=1.24.3 in /Users/hsienpanghsieh/miniconda3/lib/python3.10/site-packages (from tensorflow) (1.64.1)\n",
      "Requirement already satisfied: typing-extensions>=3.6.6 in /Users/hsienpanghsieh/miniconda3/lib/python3.10/site-packages (from tensorflow) (4.12.2)\n",
      "Requirement already satisfied: tensorboard<2.18,>=2.17 in /Users/hsienpanghsieh/miniconda3/lib/python3.10/site-packages (from tensorflow) (2.17.0)\n",
      "Requirement already satisfied: tensorflow-io-gcs-filesystem>=0.23.1 in /Users/hsienpanghsieh/miniconda3/lib/python3.10/site-packages (from tensorflow) (0.37.1)\n",
      "Requirement already satisfied: flatbuffers>=24.3.25 in /Users/hsienpanghsieh/miniconda3/lib/python3.10/site-packages (from tensorflow) (24.3.25)\n",
      "Requirement already satisfied: h5py>=3.10.0 in /Users/hsienpanghsieh/miniconda3/lib/python3.10/site-packages (from tensorflow) (3.11.0)\n",
      "Requirement already satisfied: numpy<2.0.0,>=1.23.5 in /Users/hsienpanghsieh/miniconda3/lib/python3.10/site-packages (from tensorflow) (1.23.5)\n",
      "Requirement already satisfied: gast!=0.5.0,!=0.5.1,!=0.5.2,>=0.2.1 in /Users/hsienpanghsieh/miniconda3/lib/python3.10/site-packages (from tensorflow) (0.6.0)\n",
      "Requirement already satisfied: astunparse>=1.6.0 in /Users/hsienpanghsieh/miniconda3/lib/python3.10/site-packages (from tensorflow) (1.6.3)\n",
      "Requirement already satisfied: wrapt>=1.11.0 in /Users/hsienpanghsieh/miniconda3/lib/python3.10/site-packages (from tensorflow) (1.16.0)\n",
      "Requirement already satisfied: protobuf!=4.21.0,!=4.21.1,!=4.21.2,!=4.21.3,!=4.21.4,!=4.21.5,<5.0.0dev,>=3.20.3 in /Users/hsienpanghsieh/miniconda3/lib/python3.10/site-packages (from tensorflow) (4.25.3)\n",
      "Requirement already satisfied: opt-einsum>=2.3.2 in /Users/hsienpanghsieh/miniconda3/lib/python3.10/site-packages (from tensorflow) (3.3.0)\n",
      "Requirement already satisfied: requests<3,>=2.21.0 in /Users/hsienpanghsieh/miniconda3/lib/python3.10/site-packages (from tensorflow) (2.28.1)\n",
      "Requirement already satisfied: libclang>=13.0.0 in /Users/hsienpanghsieh/miniconda3/lib/python3.10/site-packages (from tensorflow) (18.1.1)\n",
      "Requirement already satisfied: ml-dtypes<0.5.0,>=0.3.1 in /Users/hsienpanghsieh/miniconda3/lib/python3.10/site-packages (from tensorflow) (0.4.0)\n",
      "Requirement already satisfied: setuptools in /Users/hsienpanghsieh/miniconda3/lib/python3.10/site-packages (from tensorflow) (65.6.3)\n",
      "Requirement already satisfied: six>=1.12.0 in /Users/hsienpanghsieh/miniconda3/lib/python3.10/site-packages (from tensorflow) (1.16.0)\n",
      "Requirement already satisfied: wheel<1.0,>=0.23.0 in /Users/hsienpanghsieh/miniconda3/lib/python3.10/site-packages (from astunparse>=1.6.0->tensorflow) (0.37.1)\n",
      "Requirement already satisfied: optree in /Users/hsienpanghsieh/miniconda3/lib/python3.10/site-packages (from keras>=3.2.0->tensorflow) (0.12.1)\n",
      "Requirement already satisfied: rich in /Users/hsienpanghsieh/miniconda3/lib/python3.10/site-packages (from keras>=3.2.0->tensorflow) (13.7.1)\n",
      "Requirement already satisfied: namex in /Users/hsienpanghsieh/miniconda3/lib/python3.10/site-packages (from keras>=3.2.0->tensorflow) (0.0.8)\n",
      "Requirement already satisfied: certifi>=2017.4.17 in /Users/hsienpanghsieh/miniconda3/lib/python3.10/site-packages (from requests<3,>=2.21.0->tensorflow) (2022.12.7)\n",
      "Requirement already satisfied: idna<4,>=2.5 in /Users/hsienpanghsieh/miniconda3/lib/python3.10/site-packages (from requests<3,>=2.21.0->tensorflow) (3.4)\n",
      "Requirement already satisfied: charset-normalizer<3,>=2 in /Users/hsienpanghsieh/miniconda3/lib/python3.10/site-packages (from requests<3,>=2.21.0->tensorflow) (2.0.4)\n",
      "Requirement already satisfied: urllib3<1.27,>=1.21.1 in /Users/hsienpanghsieh/miniconda3/lib/python3.10/site-packages (from requests<3,>=2.21.0->tensorflow) (1.26.14)\n",
      "Requirement already satisfied: werkzeug>=1.0.1 in /Users/hsienpanghsieh/miniconda3/lib/python3.10/site-packages (from tensorboard<2.18,>=2.17->tensorflow) (3.0.3)\n",
      "Requirement already satisfied: tensorboard-data-server<0.8.0,>=0.7.0 in /Users/hsienpanghsieh/miniconda3/lib/python3.10/site-packages (from tensorboard<2.18,>=2.17->tensorflow) (0.7.2)\n",
      "Requirement already satisfied: markdown>=2.6.8 in /Users/hsienpanghsieh/miniconda3/lib/python3.10/site-packages (from tensorboard<2.18,>=2.17->tensorflow) (3.6)\n",
      "Requirement already satisfied: MarkupSafe>=2.1.1 in /Users/hsienpanghsieh/miniconda3/lib/python3.10/site-packages (from werkzeug>=1.0.1->tensorboard<2.18,>=2.17->tensorflow) (2.1.1)\n",
      "Requirement already satisfied: pygments<3.0.0,>=2.13.0 in /Users/hsienpanghsieh/miniconda3/lib/python3.10/site-packages (from rich->keras>=3.2.0->tensorflow) (2.18.0)\n",
      "Requirement already satisfied: markdown-it-py>=2.2.0 in /Users/hsienpanghsieh/miniconda3/lib/python3.10/site-packages (from rich->keras>=3.2.0->tensorflow) (3.0.0)\n",
      "Requirement already satisfied: mdurl~=0.1 in /Users/hsienpanghsieh/miniconda3/lib/python3.10/site-packages (from markdown-it-py>=2.2.0->rich->keras>=3.2.0->tensorflow) (0.1.2)\n",
      "Requirement already satisfied: gym in /Users/hsienpanghsieh/miniconda3/lib/python3.10/site-packages (0.26.2)\n",
      "Requirement already satisfied: numpy>=1.18.0 in /Users/hsienpanghsieh/miniconda3/lib/python3.10/site-packages (from gym) (1.23.5)\n",
      "Requirement already satisfied: gym-notices>=0.0.4 in /Users/hsienpanghsieh/miniconda3/lib/python3.10/site-packages (from gym) (0.0.8)\n",
      "Requirement already satisfied: cloudpickle>=1.2.0 in /Users/hsienpanghsieh/miniconda3/lib/python3.10/site-packages (from gym) (3.0.0)\n",
      "Requirement already satisfied: keras in /Users/hsienpanghsieh/miniconda3/lib/python3.10/site-packages (3.4.1)\n",
      "Requirement already satisfied: rich in /Users/hsienpanghsieh/miniconda3/lib/python3.10/site-packages (from keras) (13.7.1)\n",
      "Requirement already satisfied: packaging in /Users/hsienpanghsieh/miniconda3/lib/python3.10/site-packages (from keras) (23.0)\n",
      "Requirement already satisfied: numpy in /Users/hsienpanghsieh/miniconda3/lib/python3.10/site-packages (from keras) (1.23.5)\n",
      "Requirement already satisfied: absl-py in /Users/hsienpanghsieh/miniconda3/lib/python3.10/site-packages (from keras) (2.1.0)\n",
      "Requirement already satisfied: optree in /Users/hsienpanghsieh/miniconda3/lib/python3.10/site-packages (from keras) (0.12.1)\n",
      "Requirement already satisfied: ml-dtypes in /Users/hsienpanghsieh/miniconda3/lib/python3.10/site-packages (from keras) (0.4.0)\n",
      "Requirement already satisfied: h5py in /Users/hsienpanghsieh/miniconda3/lib/python3.10/site-packages (from keras) (3.11.0)\n",
      "Requirement already satisfied: namex in /Users/hsienpanghsieh/miniconda3/lib/python3.10/site-packages (from keras) (0.0.8)\n",
      "Requirement already satisfied: typing-extensions>=4.5.0 in /Users/hsienpanghsieh/miniconda3/lib/python3.10/site-packages (from optree->keras) (4.12.2)\n",
      "Requirement already satisfied: pygments<3.0.0,>=2.13.0 in /Users/hsienpanghsieh/miniconda3/lib/python3.10/site-packages (from rich->keras) (2.18.0)\n",
      "Requirement already satisfied: markdown-it-py>=2.2.0 in /Users/hsienpanghsieh/miniconda3/lib/python3.10/site-packages (from rich->keras) (3.0.0)\n",
      "Requirement already satisfied: mdurl~=0.1 in /Users/hsienpanghsieh/miniconda3/lib/python3.10/site-packages (from markdown-it-py>=2.2.0->rich->keras) (0.1.2)\n",
      "Requirement already satisfied: keras-rl2 in /Users/hsienpanghsieh/miniconda3/lib/python3.10/site-packages (1.0.5)\n",
      "Requirement already satisfied: tensorflow in /Users/hsienpanghsieh/miniconda3/lib/python3.10/site-packages (from keras-rl2) (2.17.0)\n",
      "Requirement already satisfied: setuptools in /Users/hsienpanghsieh/miniconda3/lib/python3.10/site-packages (from tensorflow->keras-rl2) (65.6.3)\n",
      "Requirement already satisfied: protobuf!=4.21.0,!=4.21.1,!=4.21.2,!=4.21.3,!=4.21.4,!=4.21.5,<5.0.0dev,>=3.20.3 in /Users/hsienpanghsieh/miniconda3/lib/python3.10/site-packages (from tensorflow->keras-rl2) (4.25.3)\n",
      "Requirement already satisfied: wrapt>=1.11.0 in /Users/hsienpanghsieh/miniconda3/lib/python3.10/site-packages (from tensorflow->keras-rl2) (1.16.0)\n",
      "Requirement already satisfied: gast!=0.5.0,!=0.5.1,!=0.5.2,>=0.2.1 in /Users/hsienpanghsieh/miniconda3/lib/python3.10/site-packages (from tensorflow->keras-rl2) (0.6.0)\n",
      "Requirement already satisfied: flatbuffers>=24.3.25 in /Users/hsienpanghsieh/miniconda3/lib/python3.10/site-packages (from tensorflow->keras-rl2) (24.3.25)\n",
      "Requirement already satisfied: tensorflow-io-gcs-filesystem>=0.23.1 in /Users/hsienpanghsieh/miniconda3/lib/python3.10/site-packages (from tensorflow->keras-rl2) (0.37.1)\n",
      "Requirement already satisfied: absl-py>=1.0.0 in /Users/hsienpanghsieh/miniconda3/lib/python3.10/site-packages (from tensorflow->keras-rl2) (2.1.0)\n",
      "Requirement already satisfied: tensorboard<2.18,>=2.17 in /Users/hsienpanghsieh/miniconda3/lib/python3.10/site-packages (from tensorflow->keras-rl2) (2.17.0)\n",
      "Requirement already satisfied: packaging in /Users/hsienpanghsieh/miniconda3/lib/python3.10/site-packages (from tensorflow->keras-rl2) (23.0)\n",
      "Requirement already satisfied: keras>=3.2.0 in /Users/hsienpanghsieh/miniconda3/lib/python3.10/site-packages (from tensorflow->keras-rl2) (3.4.1)\n",
      "Requirement already satisfied: libclang>=13.0.0 in /Users/hsienpanghsieh/miniconda3/lib/python3.10/site-packages (from tensorflow->keras-rl2) (18.1.1)\n",
      "Requirement already satisfied: numpy<2.0.0,>=1.23.5 in /Users/hsienpanghsieh/miniconda3/lib/python3.10/site-packages (from tensorflow->keras-rl2) (1.23.5)\n",
      "Requirement already satisfied: six>=1.12.0 in /Users/hsienpanghsieh/miniconda3/lib/python3.10/site-packages (from tensorflow->keras-rl2) (1.16.0)\n",
      "Requirement already satisfied: typing-extensions>=3.6.6 in /Users/hsienpanghsieh/miniconda3/lib/python3.10/site-packages (from tensorflow->keras-rl2) (4.12.2)\n",
      "Requirement already satisfied: termcolor>=1.1.0 in /Users/hsienpanghsieh/miniconda3/lib/python3.10/site-packages (from tensorflow->keras-rl2) (2.4.0)\n",
      "Requirement already satisfied: google-pasta>=0.1.1 in /Users/hsienpanghsieh/miniconda3/lib/python3.10/site-packages (from tensorflow->keras-rl2) (0.2.0)\n",
      "Requirement already satisfied: astunparse>=1.6.0 in /Users/hsienpanghsieh/miniconda3/lib/python3.10/site-packages (from tensorflow->keras-rl2) (1.6.3)\n",
      "Requirement already satisfied: requests<3,>=2.21.0 in /Users/hsienpanghsieh/miniconda3/lib/python3.10/site-packages (from tensorflow->keras-rl2) (2.28.1)\n",
      "Requirement already satisfied: ml-dtypes<0.5.0,>=0.3.1 in /Users/hsienpanghsieh/miniconda3/lib/python3.10/site-packages (from tensorflow->keras-rl2) (0.4.0)\n",
      "Requirement already satisfied: h5py>=3.10.0 in /Users/hsienpanghsieh/miniconda3/lib/python3.10/site-packages (from tensorflow->keras-rl2) (3.11.0)\n",
      "Requirement already satisfied: grpcio<2.0,>=1.24.3 in /Users/hsienpanghsieh/miniconda3/lib/python3.10/site-packages (from tensorflow->keras-rl2) (1.64.1)\n",
      "Requirement already satisfied: opt-einsum>=2.3.2 in /Users/hsienpanghsieh/miniconda3/lib/python3.10/site-packages (from tensorflow->keras-rl2) (3.3.0)\n",
      "Requirement already satisfied: wheel<1.0,>=0.23.0 in /Users/hsienpanghsieh/miniconda3/lib/python3.10/site-packages (from astunparse>=1.6.0->tensorflow->keras-rl2) (0.37.1)\n",
      "Requirement already satisfied: namex in /Users/hsienpanghsieh/miniconda3/lib/python3.10/site-packages (from keras>=3.2.0->tensorflow->keras-rl2) (0.0.8)\n",
      "Requirement already satisfied: rich in /Users/hsienpanghsieh/miniconda3/lib/python3.10/site-packages (from keras>=3.2.0->tensorflow->keras-rl2) (13.7.1)\n",
      "Requirement already satisfied: optree in /Users/hsienpanghsieh/miniconda3/lib/python3.10/site-packages (from keras>=3.2.0->tensorflow->keras-rl2) (0.12.1)\n",
      "Requirement already satisfied: idna<4,>=2.5 in /Users/hsienpanghsieh/miniconda3/lib/python3.10/site-packages (from requests<3,>=2.21.0->tensorflow->keras-rl2) (3.4)\n",
      "Requirement already satisfied: certifi>=2017.4.17 in /Users/hsienpanghsieh/miniconda3/lib/python3.10/site-packages (from requests<3,>=2.21.0->tensorflow->keras-rl2) (2022.12.7)\n",
      "Requirement already satisfied: charset-normalizer<3,>=2 in /Users/hsienpanghsieh/miniconda3/lib/python3.10/site-packages (from requests<3,>=2.21.0->tensorflow->keras-rl2) (2.0.4)\n",
      "Requirement already satisfied: urllib3<1.27,>=1.21.1 in /Users/hsienpanghsieh/miniconda3/lib/python3.10/site-packages (from requests<3,>=2.21.0->tensorflow->keras-rl2) (1.26.14)\n",
      "Requirement already satisfied: tensorboard-data-server<0.8.0,>=0.7.0 in /Users/hsienpanghsieh/miniconda3/lib/python3.10/site-packages (from tensorboard<2.18,>=2.17->tensorflow->keras-rl2) (0.7.2)\n",
      "Requirement already satisfied: markdown>=2.6.8 in /Users/hsienpanghsieh/miniconda3/lib/python3.10/site-packages (from tensorboard<2.18,>=2.17->tensorflow->keras-rl2) (3.6)\n",
      "Requirement already satisfied: werkzeug>=1.0.1 in /Users/hsienpanghsieh/miniconda3/lib/python3.10/site-packages (from tensorboard<2.18,>=2.17->tensorflow->keras-rl2) (3.0.3)\n",
      "Requirement already satisfied: MarkupSafe>=2.1.1 in /Users/hsienpanghsieh/miniconda3/lib/python3.10/site-packages (from werkzeug>=1.0.1->tensorboard<2.18,>=2.17->tensorflow->keras-rl2) (2.1.1)\n",
      "Requirement already satisfied: markdown-it-py>=2.2.0 in /Users/hsienpanghsieh/miniconda3/lib/python3.10/site-packages (from rich->keras>=3.2.0->tensorflow->keras-rl2) (3.0.0)\n",
      "Requirement already satisfied: pygments<3.0.0,>=2.13.0 in /Users/hsienpanghsieh/miniconda3/lib/python3.10/site-packages (from rich->keras>=3.2.0->tensorflow->keras-rl2) (2.18.0)\n",
      "Requirement already satisfied: mdurl~=0.1 in /Users/hsienpanghsieh/miniconda3/lib/python3.10/site-packages (from markdown-it-py>=2.2.0->rich->keras>=3.2.0->tensorflow->keras-rl2) (0.1.2)\n"
     ]
    }
   ],
   "source": [
    "!pip install tensorflow\n",
    "!pip install gym\n",
    "!pip install keras\n",
    "!pip install keras-rl2"
   ]
  },
  {
   "cell_type": "markdown",
   "metadata": {},
   "source": [
    "# 1. Test Random Environment with OpenAI Gym"
   ]
  },
  {
   "cell_type": "code",
   "execution_count": 2,
   "metadata": {},
   "outputs": [],
   "source": [
    "from gym import Env\n",
    "from gym.spaces import Discrete, Box\n",
    "import numpy as np\n",
    "import random"
   ]
  },
  {
   "cell_type": "code",
   "execution_count": 3,
   "metadata": {},
   "outputs": [],
   "source": [
    "import random\n",
    "import numpy as np\n",
    "from gym import Env\n",
    "from gym.spaces import Discrete, Box\n",
    "\n",
    "class TaxiChargingEnv(Env):\n",
    "    def __init__(self):\n",
    "        # Actions we can take: 0 kW, 7 kW, 14 kW, 22 kW\n",
    "        self.action_space = Discrete(4)\n",
    "        # State represents battery charge level (kWh)\n",
    "        self.observation_space = Box(low=np.array([0]), high=np.array([100]))\n",
    "        # Initialize state\n",
    "        self.state = 0\n",
    "        # Battery capacity\n",
    "        self.battery_capacity = 100  # kWh\n",
    "        # Initial battery level\n",
    "        self.battery_level = random.randint(20, 30)\n",
    "        # Charging period (2 hours, every 15 minutes = 8 steps)\n",
    "        self.steps_left = 8\n",
    "        # Energy demand parameters\n",
    "        self.mu = 30  # kWh\n",
    "        self.sigma = 5  # kWh\n",
    "        # Time coefficient for cost function\n",
    "        self.alpha = 0.1\n",
    "    \n",
    "    def step(self, action):\n",
    "        charging_rates = [0, 7, 14, 22]  # kW for each action\n",
    "        power = charging_rates[action]\n",
    "        \n",
    "        # Calculate cost: charging cost (t,p) = ∑ 𝛼𝑡 * e^𝑝\n",
    "        cost = self.alpha * np.exp(power)\n",
    "        \n",
    "        # Update battery level\n",
    "        self.battery_level = min(self.battery_level + power / 4, self.battery_capacity)\n",
    "        \n",
    "        # Reduce the steps left by 1\n",
    "        self.steps_left -= 1\n",
    "        \n",
    "        # If steps are finished, calculate if the battery meets the demand\n",
    "        if self.steps_left == 0:\n",
    "            demand = np.random.normal(self.mu, self.sigma)\n",
    "            if self.battery_level >= demand:\n",
    "                reward = -cost  # Minimize cost, no penalty for meeting demand\n",
    "            else:\n",
    "                reward = -cost - 1000  # High penalty for not meeting demand\n",
    "            done = True\n",
    "        else:\n",
    "            reward = -cost  # Incur cost for charging, continue episode\n",
    "            done = False\n",
    "        \n",
    "        # State is the current battery level\n",
    "        self.state = self.battery_level\n",
    "        \n",
    "        # Info dictionary\n",
    "        info = {\n",
    "            \"battery_level\": self.battery_level,\n",
    "            \"cost\": cost\n",
    "        }\n",
    "        \n",
    "        return self.state, reward, done, info\n",
    "    \n",
    "    def reset(self):\n",
    "        # Reset battery level\n",
    "        self.battery_level = random.randint(20, 30)\n",
    "        # Reset steps left\n",
    "        self.steps_left = 8\n",
    "        # Reset state\n",
    "        self.state = self.battery_level\n",
    "        return self.state\n",
    "    \n",
    "    def render(self):\n",
    "        # For visualization, if needed\n",
    "        pass\n",
    "\n",
    "\n"
   ]
  },
  {
   "cell_type": "code",
   "execution_count": 4,
   "metadata": {},
   "outputs": [
    {
     "name": "stderr",
     "output_type": "stream",
     "text": [
      "/Users/hsienpanghsieh/miniconda3/lib/python3.10/site-packages/gym/spaces/box.py:127: UserWarning: \u001b[33mWARN: Box bound precision lowered by casting to float32\u001b[0m\n",
      "  logger.warn(f\"Box bound precision lowered by casting to {self.dtype}\")\n"
     ]
    }
   ],
   "source": [
    "# Create the environment\n",
    "env = TaxiChargingEnv()"
   ]
  },
  {
   "cell_type": "code",
   "execution_count": 15,
   "metadata": {},
   "outputs": [
    {
     "data": {
      "text/plain": [
       "1"
      ]
     },
     "execution_count": 15,
     "metadata": {},
     "output_type": "execute_result"
    }
   ],
   "source": [
    "env.action_space.sample()"
   ]
  },
  {
   "cell_type": "code",
   "execution_count": 17,
   "metadata": {},
   "outputs": [
    {
     "name": "stdout",
     "output_type": "stream",
     "text": [
      "Episode:1 Score:-717223419.1730989\n",
      "Episode:2 Score:-1075714484.5596263\n",
      "Episode:3 Score:-1075594224.2312098\n",
      "Episode:4 Score:-717223528.7364148\n",
      "Episode:5 Score:-1075834635.324727\n",
      "Episode:6 Score:-1075714484.5596263\n",
      "Episode:7 Score:-1075594114.6678941\n",
      "Episode:8 Score:-1434205878.6361012\n",
      "Episode:9 Score:-358852175.86172456\n",
      "Episode:10 Score:-359212956.84697396\n"
     ]
    }
   ],
   "source": [
    "episodes = 10\n",
    "for episode in range(1, episodes+1):\n",
    "    state = env.reset()\n",
    "    done = False\n",
    "    score = 0 \n",
    "    \n",
    "    while not done:\n",
    "        #env.render()\n",
    "        action = env.action_space.sample()\n",
    "        n_state, reward, done, info = env.step(action)\n",
    "        score += reward\n",
    "    \n",
    "    print('Episode:{} Score:{}'.format(episode, score))\n"
   ]
  },
  {
   "cell_type": "markdown",
   "metadata": {},
   "source": [
    "# 2. Create a Deep Learning Model with Keras"
   ]
  },
  {
   "cell_type": "code",
   "execution_count": 7,
   "metadata": {},
   "outputs": [],
   "source": [
    "import numpy as np\n",
    "from tensorflow.keras.models import Sequential\n",
    "from tensorflow.keras.layers import Dense, Flatten\n",
    "from tensorflow.keras.optimizers import Adam"
   ]
  },
  {
   "cell_type": "code",
   "execution_count": 8,
   "metadata": {},
   "outputs": [],
   "source": [
    "def build_model(states, actions):\n",
    "    model = Sequential()\n",
    "    model.add(Flatten(input_shape=(1,states)))\n",
    "    model.add(Dense(24, activation='relu'))\n",
    "    model.add(Dense(24, activation='relu'))\n",
    "    model.add(Dense(actions, activation='linear'))\n",
    "    return model"
   ]
  },
  {
   "cell_type": "code",
   "execution_count": 20,
   "metadata": {},
   "outputs": [],
   "source": [
    "model = build_model(states, actions)"
   ]
  },
  {
   "cell_type": "code",
   "execution_count": 21,
   "metadata": {},
   "outputs": [
    {
     "name": "stdout",
     "output_type": "stream",
     "text": [
      "Model: \"sequential_1\"\n",
      "_________________________________________________________________\n",
      "Layer (type)                 Output Shape              Param #   \n",
      "=================================================================\n",
      "flatten_1 (Flatten)          (None, 4)                 0         \n",
      "_________________________________________________________________\n",
      "dense_3 (Dense)              (None, 24)                120       \n",
      "_________________________________________________________________\n",
      "dense_4 (Dense)              (None, 24)                600       \n",
      "_________________________________________________________________\n",
      "dense_5 (Dense)              (None, 2)                 50        \n",
      "=================================================================\n",
      "Total params: 770\n",
      "Trainable params: 770\n",
      "Non-trainable params: 0\n",
      "_________________________________________________________________\n"
     ]
    }
   ],
   "source": [
    "model.summary()"
   ]
  },
  {
   "cell_type": "markdown",
   "metadata": {},
   "source": [
    "# 3. Build Agent with Keras-RL"
   ]
  },
  {
   "cell_type": "code",
   "execution_count": 5,
   "metadata": {},
   "outputs": [],
   "source": [
    "from rl.agents import DQNAgent\n",
    "from rl.policy import BoltzmannQPolicy\n",
    "from rl.memory import SequentialMemory"
   ]
  },
  {
   "cell_type": "code",
   "execution_count": 6,
   "metadata": {},
   "outputs": [],
   "source": [
    "def build_agent(model, actions):\n",
    "    policy = BoltzmannQPolicy()\n",
    "    memory = SequentialMemory(limit=50000, window_length=1)\n",
    "    dqn = DQNAgent(model=model, memory=memory, policy=policy, \n",
    "                  nb_actions=actions, nb_steps_warmup=10, target_model_update=1e-2)\n",
    "    return dqn"
   ]
  },
  {
   "cell_type": "code",
   "execution_count": 25,
   "metadata": {},
   "outputs": [
    {
     "name": "stdout",
     "output_type": "stream",
     "text": [
      "Training for 50000 steps ...\n",
      "Interval 1 (0 steps performed)\n",
      "10000/10000 [==============================] - 49s 5ms/step - reward: 1.0000\n",
      "51 episodes - episode_reward: 193.118 [58.000, 200.000] - loss: 5.376 - mae: 39.195 - mean_q: 78.705\n",
      "\n",
      "Interval 2 (10000 steps performed)\n",
      "10000/10000 [==============================] - 49s 5ms/step - reward: 1.0000\n",
      "54 episodes - episode_reward: 185.056 [64.000, 200.000] - loss: 7.553 - mae: 40.527 - mean_q: 81.044\n",
      "\n",
      "Interval 3 (20000 steps performed)\n",
      "10000/10000 [==============================] - 51s 5ms/step - reward: 1.0000\n",
      "52 episodes - episode_reward: 193.462 [33.000, 200.000] - loss: 8.935 - mae: 40.588 - mean_q: 81.322\n",
      "\n",
      "Interval 4 (30000 steps performed)\n",
      "10000/10000 [==============================] - 53s 5ms/step - reward: 1.0000\n",
      "50 episodes - episode_reward: 200.000 [200.000, 200.000] - loss: 11.357 - mae: 41.679 - mean_q: 83.338\n",
      "\n",
      "Interval 5 (40000 steps performed)\n",
      "10000/10000 [==============================] - 54s 5ms/step - reward: 1.0000\n",
      "done, took 256.117 seconds\n"
     ]
    },
    {
     "data": {
      "text/plain": [
       "<tensorflow.python.keras.callbacks.History at 0x7ff0e46ad650>"
      ]
     },
     "execution_count": 25,
     "metadata": {},
     "output_type": "execute_result"
    }
   ],
   "source": [
    "dqn = build_agent(model, actions)\n",
    "dqn.compile(Adam(lr=1e-3), metrics=['mae'])\n",
    "dqn.fit(env, nb_steps=50000, visualize=False, verbose=1)"
   ]
  },
  {
   "cell_type": "code",
   "execution_count": 27,
   "metadata": {},
   "outputs": [
    {
     "name": "stdout",
     "output_type": "stream",
     "text": [
      "Testing for 100 episodes ...\n",
      "Episode 1: reward: 200.000, steps: 200\n",
      "Episode 2: reward: 200.000, steps: 200\n",
      "Episode 3: reward: 200.000, steps: 200\n",
      "Episode 4: reward: 200.000, steps: 200\n",
      "Episode 5: reward: 200.000, steps: 200\n",
      "Episode 6: reward: 200.000, steps: 200\n",
      "Episode 7: reward: 200.000, steps: 200\n",
      "Episode 8: reward: 200.000, steps: 200\n",
      "Episode 9: reward: 200.000, steps: 200\n",
      "Episode 10: reward: 200.000, steps: 200\n",
      "Episode 11: reward: 200.000, steps: 200\n",
      "Episode 12: reward: 200.000, steps: 200\n",
      "Episode 13: reward: 200.000, steps: 200\n",
      "Episode 14: reward: 200.000, steps: 200\n",
      "Episode 15: reward: 200.000, steps: 200\n",
      "Episode 16: reward: 200.000, steps: 200\n",
      "Episode 17: reward: 200.000, steps: 200\n",
      "Episode 18: reward: 200.000, steps: 200\n",
      "Episode 19: reward: 200.000, steps: 200\n",
      "Episode 20: reward: 200.000, steps: 200\n",
      "Episode 21: reward: 200.000, steps: 200\n",
      "Episode 22: reward: 200.000, steps: 200\n",
      "Episode 23: reward: 200.000, steps: 200\n",
      "Episode 24: reward: 200.000, steps: 200\n",
      "Episode 25: reward: 200.000, steps: 200\n",
      "Episode 26: reward: 200.000, steps: 200\n",
      "Episode 27: reward: 200.000, steps: 200\n",
      "Episode 28: reward: 200.000, steps: 200\n",
      "Episode 29: reward: 200.000, steps: 200\n",
      "Episode 30: reward: 200.000, steps: 200\n",
      "Episode 31: reward: 200.000, steps: 200\n",
      "Episode 32: reward: 200.000, steps: 200\n",
      "Episode 33: reward: 200.000, steps: 200\n",
      "Episode 34: reward: 200.000, steps: 200\n",
      "Episode 35: reward: 200.000, steps: 200\n",
      "Episode 36: reward: 200.000, steps: 200\n",
      "Episode 37: reward: 200.000, steps: 200\n",
      "Episode 38: reward: 200.000, steps: 200\n",
      "Episode 39: reward: 200.000, steps: 200\n",
      "Episode 40: reward: 200.000, steps: 200\n",
      "Episode 41: reward: 200.000, steps: 200\n",
      "Episode 42: reward: 200.000, steps: 200\n",
      "Episode 43: reward: 200.000, steps: 200\n",
      "Episode 44: reward: 200.000, steps: 200\n",
      "Episode 45: reward: 200.000, steps: 200\n",
      "Episode 46: reward: 200.000, steps: 200\n",
      "Episode 47: reward: 200.000, steps: 200\n",
      "Episode 48: reward: 200.000, steps: 200\n",
      "Episode 49: reward: 200.000, steps: 200\n",
      "Episode 50: reward: 200.000, steps: 200\n",
      "Episode 51: reward: 200.000, steps: 200\n",
      "Episode 52: reward: 200.000, steps: 200\n",
      "Episode 53: reward: 200.000, steps: 200\n",
      "Episode 54: reward: 200.000, steps: 200\n",
      "Episode 55: reward: 200.000, steps: 200\n",
      "Episode 56: reward: 200.000, steps: 200\n",
      "Episode 57: reward: 200.000, steps: 200\n",
      "Episode 58: reward: 200.000, steps: 200\n",
      "Episode 59: reward: 200.000, steps: 200\n",
      "Episode 60: reward: 200.000, steps: 200\n",
      "Episode 61: reward: 200.000, steps: 200\n",
      "Episode 62: reward: 200.000, steps: 200\n",
      "Episode 63: reward: 200.000, steps: 200\n",
      "Episode 64: reward: 200.000, steps: 200\n",
      "Episode 65: reward: 200.000, steps: 200\n",
      "Episode 66: reward: 200.000, steps: 200\n",
      "Episode 67: reward: 200.000, steps: 200\n",
      "Episode 68: reward: 200.000, steps: 200\n",
      "Episode 69: reward: 200.000, steps: 200\n",
      "Episode 70: reward: 200.000, steps: 200\n",
      "Episode 71: reward: 200.000, steps: 200\n",
      "Episode 72: reward: 200.000, steps: 200\n",
      "Episode 73: reward: 200.000, steps: 200\n",
      "Episode 74: reward: 200.000, steps: 200\n",
      "Episode 75: reward: 200.000, steps: 200\n",
      "Episode 76: reward: 200.000, steps: 200\n",
      "Episode 77: reward: 200.000, steps: 200\n",
      "Episode 78: reward: 200.000, steps: 200\n",
      "Episode 79: reward: 200.000, steps: 200\n",
      "Episode 80: reward: 200.000, steps: 200\n",
      "Episode 81: reward: 200.000, steps: 200\n",
      "Episode 82: reward: 200.000, steps: 200\n",
      "Episode 83: reward: 200.000, steps: 200\n",
      "Episode 84: reward: 200.000, steps: 200\n",
      "Episode 85: reward: 200.000, steps: 200\n",
      "Episode 86: reward: 200.000, steps: 200\n",
      "Episode 87: reward: 200.000, steps: 200\n",
      "Episode 88: reward: 200.000, steps: 200\n",
      "Episode 89: reward: 200.000, steps: 200\n",
      "Episode 90: reward: 200.000, steps: 200\n",
      "Episode 91: reward: 200.000, steps: 200\n",
      "Episode 92: reward: 200.000, steps: 200\n",
      "Episode 93: reward: 200.000, steps: 200\n",
      "Episode 94: reward: 200.000, steps: 200\n",
      "Episode 95: reward: 200.000, steps: 200\n",
      "Episode 96: reward: 200.000, steps: 200\n",
      "Episode 97: reward: 200.000, steps: 200\n",
      "Episode 98: reward: 200.000, steps: 200\n",
      "Episode 99: reward: 200.000, steps: 200\n",
      "Episode 100: reward: 200.000, steps: 200\n",
      "200.0\n"
     ]
    }
   ],
   "source": [
    "scores = dqn.test(env, nb_episodes=100, visualize=False)\n",
    "print(np.mean(scores.history['episode_reward']))"
   ]
  },
  {
   "cell_type": "code",
   "execution_count": 29,
   "metadata": {},
   "outputs": [
    {
     "name": "stdout",
     "output_type": "stream",
     "text": [
      "Testing for 15 episodes ...\n",
      "Episode 1: reward: 200.000, steps: 200\n",
      "Episode 2: reward: 200.000, steps: 200\n",
      "Episode 3: reward: 200.000, steps: 200\n",
      "Episode 4: reward: 200.000, steps: 200\n",
      "Episode 5: reward: 200.000, steps: 200\n",
      "Episode 6: reward: 200.000, steps: 200\n",
      "Episode 7: reward: 200.000, steps: 200\n",
      "Episode 8: reward: 200.000, steps: 200\n",
      "Episode 9: reward: 200.000, steps: 200\n",
      "Episode 10: reward: 200.000, steps: 200\n",
      "Episode 11: reward: 200.000, steps: 200\n",
      "Episode 12: reward: 200.000, steps: 200\n",
      "Episode 13: reward: 200.000, steps: 200\n",
      "Episode 14: reward: 200.000, steps: 200\n",
      "Episode 15: reward: 200.000, steps: 200\n"
     ]
    }
   ],
   "source": [
    "_ = dqn.test(env, nb_episodes=15, visualize=True)"
   ]
  },
  {
   "cell_type": "markdown",
   "metadata": {},
   "source": [
    "# 4. Reloading Agent from Memory"
   ]
  },
  {
   "cell_type": "code",
   "execution_count": 30,
   "metadata": {},
   "outputs": [],
   "source": [
    "dqn.save_weights('dqn_weights.h5f', overwrite=True)"
   ]
  },
  {
   "cell_type": "code",
   "execution_count": 31,
   "metadata": {},
   "outputs": [],
   "source": [
    "del model\n",
    "del dqn\n",
    "del env"
   ]
  },
  {
   "cell_type": "code",
   "execution_count": 9,
   "metadata": {},
   "outputs": [],
   "source": [
    "env = gym.make('CartPole-v0')\n",
    "actions = env.action_space.n\n",
    "states = env.observation_space.shape[0]\n",
    "model = build_model(states, actions)\n",
    "dqn = build_agent(model, actions)\n",
    "dqn.compile(Adam(lr=1e-3), metrics=['mae'])"
   ]
  },
  {
   "cell_type": "code",
   "execution_count": 10,
   "metadata": {},
   "outputs": [],
   "source": [
    "dqn.load_weights('dqn_weights.h5f')"
   ]
  },
  {
   "cell_type": "code",
   "execution_count": 11,
   "metadata": {},
   "outputs": [
    {
     "name": "stdout",
     "output_type": "stream",
     "text": [
      "Testing for 5 episodes ...\n",
      "WARNING:tensorflow:From /Users/nicholasrenotte/opt/anaconda3/lib/python3.7/site-packages/tensorflow/python/keras/engine/training_v1.py:2070: Model.state_updates (from tensorflow.python.keras.engine.training) is deprecated and will be removed in a future version.\n",
      "Instructions for updating:\n",
      "This property should not be used in TensorFlow 2.0, as updates are applied automatically.\n",
      "Episode 1: reward: 200.000, steps: 200\n",
      "Episode 2: reward: 200.000, steps: 200\n",
      "Episode 3: reward: 200.000, steps: 200\n",
      "Episode 4: reward: 200.000, steps: 200\n",
      "Episode 5: reward: 200.000, steps: 200\n"
     ]
    }
   ],
   "source": [
    "_ = dqn.test(env, nb_episodes=5, visualize=True)"
   ]
  },
  {
   "cell_type": "code",
   "execution_count": null,
   "metadata": {},
   "outputs": [],
   "source": []
  }
 ],
 "metadata": {
  "kernelspec": {
   "display_name": "Python 3 (ipykernel)",
   "language": "python",
   "name": "python3"
  },
  "language_info": {
   "codemirror_mode": {
    "name": "ipython",
    "version": 3
   },
   "file_extension": ".py",
   "mimetype": "text/x-python",
   "name": "python",
   "nbconvert_exporter": "python",
   "pygments_lexer": "ipython3",
   "version": "3.10.9"
  }
 },
 "nbformat": 4,
 "nbformat_minor": 4
}
