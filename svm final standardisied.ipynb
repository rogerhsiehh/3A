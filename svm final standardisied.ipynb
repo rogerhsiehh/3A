{
 "cells": [
  {
   "cell_type": "markdown",
   "metadata": {},
   "source": [
    "# THINGS TO KNOW BEFORE RUNNING THIS CODE"
   ]
  },
  {
   "cell_type": "markdown",
   "metadata": {},
   "source": [
    "If you do not mention kernel in SVR, it will automatically use rbf as default. Because I used rbf kernel, I don't have a code that do not specify the kernal"
   ]
  },
  {
   "cell_type": "markdown",
   "metadata": {},
   "source": [
    "Due to the high dimensionality and the challenges of big data, the RBF and polynomial kernels are often approximated to reduce computational complexity. These approximations transform the non-linear kernels into a form that can be processed by linear methods, while preserving the characteristics of the original non-linear space.\n",
    "There is a library called LinearSVR that is designed specifically for running linear support vector regression. Using this library can help run the code much faster, often achieving up to 1000x speed improvements.\n",
    "\n",
    "I also placed # on evaluation of training dataset due to loading time/ my pc freezes if I run it. I think it is because of the capacity and big data. However, I know that training and testset have similar evaluation score due to the evaluation score on non standarisied version. If they are similar there, it should also be similar here."
   ]
  },
  {
   "cell_type": "code",
   "execution_count": 68,
   "metadata": {},
   "outputs": [],
   "source": [
    "import pandas as pd\n",
    "import numpy as np\n",
    "import matplotlib.pyplot as plt\n",
    "import seaborn as sns\n",
    "from sklearn.model_selection import train_test_split, GridSearchCV\n",
    "from sklearn.pipeline import make_pipeline\n",
    "from sklearn.pipeline import Pipeline\n",
    "from sklearn.kernel_approximation import Nystroem\n",
    "from sklearn.svm import SVR, LinearSVR\n",
    "from sklearn.metrics import mean_absolute_error, mean_squared_log_error, r2_score, mean_absolute_percentage_error, mean_squared_error\n",
    "from sklearn.preprocessing import StandardScaler\n",
    "import matplotlib.pyplot as plt\n",
    "from sklearn.model_selection import StratifiedShuffleSplit\n",
    "from sklearn.ensemble import RandomForestClassifier"
   ]
  },
  {
   "cell_type": "markdown",
   "metadata": {},
   "source": [
    "# Loading all dataset"
   ]
  },
  {
   "cell_type": "markdown",
   "metadata": {},
   "source": [
    "### daily hexagon"
   ]
  },
  {
   "cell_type": "code",
   "execution_count": 2,
   "metadata": {},
   "outputs": [],
   "source": [
    "daily_hexagon = pd.read_csv(\"C:/Users/A1DF42D/Downloads/daily_hexagon7_features.csv\")\n",
    "\n",
    "#save for later reuse \n",
    "hexagons = daily_hexagon[\"hex_id_7\"]\n",
    "hexagons2 = daily_hexagon[\"hex_id_POI\"]\n",
    "hexagonGeo= daily_hexagon[\"hex_id_geo\"]\n",
    "\n",
    "#dummies auf Basis von Geo Hexagon\n",
    "daily_hexagon = pd.get_dummies(daily_hexagon, columns=[\"hex_id_geo\"], dtype=float, drop_first=True)\n",
    "daily_hexagon.shape #one less dummy column than categories is correct\n",
    "\n",
    "daily_hexagon[\"hex_id_geo\"] = hexagonGeo\n",
    "\n",
    "#Stratified Sampling\n",
    "\n",
    "# Split-Konfiguration\n",
    "split_ratio = 0.8\n",
    "\n",
    "# StratifiedShuffleSplit erstellen\n",
    "sss = StratifiedShuffleSplit(n_splits=1, test_size=1-split_ratio, random_state=42)\n",
    "\n",
    "# Index für Train und Test Split\n",
    "for train_index, test_index in sss.split(daily_hexagon, daily_hexagon['hex_id_geo']):\n",
    "    daily_hexagon_train_set = daily_hexagon.iloc[train_index]\n",
    "    daily_hexagon_test_set = daily_hexagon.iloc[test_index]"
   ]
  },
  {
   "cell_type": "code",
   "execution_count": 3,
   "metadata": {},
   "outputs": [
    {
     "data": {
      "text/plain": [
       "hex_id_geo\n",
       "872664cd1ffffff    0.009209\n",
       "872664cf4ffffff    0.009147\n",
       "872664ccaffffff    0.009147\n",
       "872664564ffffff    0.009147\n",
       "872664194ffffff    0.009147\n",
       "                     ...   \n",
       "872664ca8ffffff    0.006829\n",
       "872664c86ffffff    0.006578\n",
       "87275936bffffff    0.001472\n",
       "872664c83ffffff    0.000282\n",
       "872664cdeffffff    0.000188\n",
       "Name: proportion, Length: 113, dtype: float64"
      ]
     },
     "execution_count": 3,
     "metadata": {},
     "output_type": "execute_result"
    }
   ],
   "source": [
    "    #Gleiche Proportionen in Train and Test?\n",
    "daily_hexagon_train_set['hex_id_geo'].value_counts(normalize=True)"
   ]
  },
  {
   "cell_type": "code",
   "execution_count": 4,
   "metadata": {},
   "outputs": [
    {
     "data": {
      "text/plain": [
       "hex_id_geo\n",
       "872664c8dffffff    0.009147\n",
       "872664cd3ffffff    0.009147\n",
       "872664c11ffffff    0.009147\n",
       "872664d9bffffff    0.009147\n",
       "872664520ffffff    0.009147\n",
       "                     ...   \n",
       "872664ca8ffffff    0.006766\n",
       "872664c86ffffff    0.006515\n",
       "87275936bffffff    0.001504\n",
       "872664c83ffffff    0.000251\n",
       "872664cdeffffff    0.000125\n",
       "Name: proportion, Length: 113, dtype: float64"
      ]
     },
     "execution_count": 4,
     "metadata": {},
     "output_type": "execute_result"
    }
   ],
   "source": [
    "daily_hexagon_test_set['hex_id_geo'].value_counts(normalize=True)"
   ]
  },
  {
   "cell_type": "code",
   "execution_count": 5,
   "metadata": {},
   "outputs": [],
   "source": [
    "daily_hexagon_X_train = daily_hexagon_train_set.drop([\"Unnamed: 0\", \"Date\", \"Number of Trips\",'hex_id_7','hex_id_POI','hex_id_geo','lat_7','lon_7'], axis=1)\n",
    "daily_hexagon_y_train = daily_hexagon_train_set[\"Number of Trips\"]\n",
    "\n",
    "daily_hexagon_X_test = daily_hexagon_test_set.drop([\"Unnamed: 0\", \"Date\", \"Number of Trips\",'hex_id_7','hex_id_POI','hex_id_geo','lat_7','lon_7'], axis=1)\n",
    "daily_hexagon_y_test = daily_hexagon_test_set[\"Number of Trips\"]\n",
    "\n",
    "#Am besten auch Columns löschen, die Bezug zu Y haben\n",
    "daily_hexagon_X_train.drop(['Trip Seconds', 'Tips', 'Extras','Trip Seconds Avg',\n",
    "       'Trip Miles Avg', 'Fare Avg', 'Tips Avg', 'Tolls Avg', 'Extras Avg',\n",
    "       'Trip Total Avg', 'Fare per Miles'], axis=1, inplace=True)\n",
    "\n",
    "daily_hexagon_X_test.drop(['Trip Seconds', 'Tips', 'Extras','Trip Seconds Avg',\n",
    "       'Trip Miles Avg', 'Fare Avg', 'Tips Avg', 'Tolls Avg', 'Extras Avg',\n",
    "       'Trip Total Avg', 'Fare per Miles'], axis=1, inplace=True)\n",
    "\n",
    "# Standardisierung\n",
    "# Liste der bekannten Dummy-Variablen\n",
    "known_dummy_columns = ['Business Hours', 'Business Travel', 'holiday', 'sports']\n",
    "\n",
    "# Weitere Dummy-Variablen nach Namensmuster \"_Geo\" finden\n",
    "geo_dummy_columns = daily_hexagon_X_train.columns[daily_hexagon_X_train.columns.str.contains('hex_id_geo_')]\n",
    "\n",
    "# Alle Dummy-Variablen zusammenfassen\n",
    "dummy_columns = known_dummy_columns + list(geo_dummy_columns)\n",
    "\n",
    "# Numerische Spalten ohne Dummy-Variablen\n",
    "numeric_columns = daily_hexagon_X_train.columns.difference(dummy_columns)\n",
    "\n",
    "# Initialize the scaler\n",
    "scaler = StandardScaler()\n",
    "\n",
    "# Z-Standardisierung nur auf die numerischen Spalten anwenden\n",
    "scaler = StandardScaler()\n",
    "daily_hexagon_X_train[numeric_columns] = scaler.fit_transform(daily_hexagon_X_train[numeric_columns])\n",
    "\n",
    "# Transformation auf dem Testset mit den im Training erlernten Parametern\n",
    "daily_hexagon_X_test[numeric_columns] = scaler.transform(daily_hexagon_X_test[numeric_columns])\n",
    "\n",
    "# Calculate mean and standard deviation\n",
    "mean_daily_hexagon_y_train = daily_hexagon_y_train.mean()\n",
    "std_daily_hexagon_y_train = daily_hexagon_y_train.std()\n",
    "mean_daily_hexagon_y_test = daily_hexagon_y_test.mean()\n",
    "std_daily_hexagon_y_test = daily_hexagon_y_test.std()\n",
    "\n",
    "# Standardize y\n",
    "daily_hexagon_y_train = (daily_hexagon_y_train - mean_daily_hexagon_y_train) / std_daily_hexagon_y_train\n",
    "daily_hexagon_y_test = (daily_hexagon_y_test - mean_daily_hexagon_y_test) / std_daily_hexagon_y_test\n",
    "\n",
    "#df to input data for model\n",
    "\n",
    "daily_hexagon_X_train = daily_hexagon_X_train.to_numpy()\n",
    "daily_hexagon_X_test = daily_hexagon_X_test.to_numpy()\n",
    "\n",
    "#daily_hexagon_y_train = daily_hexagon_y_train.to_numpy()\n",
    "#daily_hexagon_y_test = daily_hexagon_y_test.to_numpy()"
   ]
  },
  {
   "cell_type": "markdown",
   "metadata": {},
   "source": [
    "### hourly hexagon"
   ]
  },
  {
   "cell_type": "code",
   "execution_count": 6,
   "metadata": {},
   "outputs": [],
   "source": [
    "hourly_hexagon = pd.read_csv(\"C:/Users/A1DF42D/Downloads/hourly_hexagon_features.csv\")\n",
    "\n",
    "#save for later reuse\n",
    "hexagons = hourly_hexagon[\"hex_id_7\"]\n",
    "hexagons2 = hourly_hexagon[\"hex_id_POI\"]\n",
    "hexagonGeo= hourly_hexagon[\"hex_id_geo\"]\n",
    "\n",
    "#dummies auf Basis von Geo Hexagon\n",
    "hourly_hexagon = pd.get_dummies(hourly_hexagon, columns=[\"hex_id_geo\"], dtype=float, drop_first=True)\n",
    "hourly_hexagon.shape #one less dummy column than categories is correct\n",
    "\n",
    "hourly_hexagon[\"hex_id_geo\"] = hexagonGeo\n",
    "\n",
    "#Stratified Sampling\n",
    "\n",
    "# Split-Konfiguration\n",
    "split_ratio = 0.8\n",
    "\n",
    "# StratifiedShuffleSplit erstellen\n",
    "sss = StratifiedShuffleSplit(n_splits=1, test_size=1-split_ratio, random_state=42)\n",
    "\n",
    "# Index für Train und Test Split\n",
    "for train_index, test_index in sss.split(hourly_hexagon, hourly_hexagon['hex_id_geo']):\n",
    "    hourly_hexagon_train_set = hourly_hexagon.loc[train_index]\n",
    "    hourly_hexagon_test_set = hourly_hexagon.loc[test_index]"
   ]
  },
  {
   "cell_type": "code",
   "execution_count": 7,
   "metadata": {},
   "outputs": [
    {
     "data": {
      "text/plain": [
       "hex_id_geo\n",
       "872664c1effffff    0.013804\n",
       "872664c1affffff    0.013788\n",
       "872664c16ffffff    0.013786\n",
       "872759340ffffff    0.013747\n",
       "872759341ffffff    0.013747\n",
       "                     ...   \n",
       "872664ca8ffffff    0.000948\n",
       "872664c86ffffff    0.000737\n",
       "87275936bffffff    0.000102\n",
       "872664c83ffffff    0.000018\n",
       "872664cdeffffff    0.000012\n",
       "Name: proportion, Length: 113, dtype: float64"
      ]
     },
     "execution_count": 7,
     "metadata": {},
     "output_type": "execute_result"
    }
   ],
   "source": [
    "    #Gleiche Proportionen in Train and Test?\n",
    "hourly_hexagon_train_set['hex_id_geo'].value_counts(normalize=True)"
   ]
  },
  {
   "cell_type": "code",
   "execution_count": 8,
   "metadata": {},
   "outputs": [
    {
     "data": {
      "text/plain": [
       "hex_id_geo\n",
       "872664c1effffff    0.013806\n",
       "872664c1affffff    0.013790\n",
       "872664c16ffffff    0.013790\n",
       "87275934effffff    0.013743\n",
       "872759341ffffff    0.013743\n",
       "                     ...   \n",
       "872664ca8ffffff    0.000946\n",
       "872664c86ffffff    0.000733\n",
       "87275936bffffff    0.000102\n",
       "872664c83ffffff    0.000016\n",
       "872664cdeffffff    0.000008\n",
       "Name: proportion, Length: 113, dtype: float64"
      ]
     },
     "execution_count": 8,
     "metadata": {},
     "output_type": "execute_result"
    }
   ],
   "source": [
    "hourly_hexagon_test_set['hex_id_geo'].value_counts(normalize=True)"
   ]
  },
  {
   "cell_type": "code",
   "execution_count": 9,
   "metadata": {},
   "outputs": [],
   "source": [
    "#Entfernen von unnötigen Variablen für Modell\n",
    "hourly_hexagon_X_train = hourly_hexagon_train_set.drop([\"Unnamed: 0\", \"Hour\", \"Number of Trips\",'hex_id_7','hex_id_POI','hex_id_geo','lat_7','lon_7'], axis=1)\n",
    "hourly_hexagon_y_train = hourly_hexagon_train_set[\"Number of Trips\"]\n",
    "\n",
    "hourly_hexagon_X_test = hourly_hexagon_test_set.drop([\"Unnamed: 0\", \"Hour\", \"Number of Trips\",'hex_id_7','hex_id_POI','hex_id_geo','lat_7','lon_7'], axis=1)\n",
    "hourly_hexagon_y_test = hourly_hexagon_test_set[\"Number of Trips\"]\n",
    "\n",
    "#Am besten auch Columns löschen, die Bezug zu Y haben\n",
    "hourly_hexagon_X_train.drop(['Trip Seconds', 'Tips', 'Extras','Trip Seconds Avg',\n",
    "       'Trip Miles Avg', 'Fare Avg', 'Tips Avg', 'Tolls Avg', 'Extras Avg',\n",
    "       'Trip Total Avg', 'Fare per Miles'], axis=1, inplace=True)\n",
    "\n",
    "hourly_hexagon_X_test.drop(['Trip Seconds', 'Tips', 'Extras','Trip Seconds Avg',\n",
    "       'Trip Miles Avg', 'Fare Avg', 'Tips Avg', 'Tolls Avg', 'Extras Avg',\n",
    "       'Trip Total Avg', 'Fare per Miles'], axis=1, inplace=True)\n",
    "\n",
    "\n",
    "# Standardisierung\n",
    "# Liste der bekannten Dummy-Variablen\n",
    "known_dummy_columns = ['Business Hours', 'Business Travel', 'holiday', 'sports']\n",
    "\n",
    "# Weitere Dummy-Variablen nach Namensmuster \"_Geo\" finden\n",
    "geo_dummy_columns = hourly_hexagon_X_train.columns[hourly_hexagon_X_train.columns.str.contains('hex_id_geo_')]\n",
    "\n",
    "# Alle Dummy-Variablen zusammenfassen\n",
    "dummy_columns = known_dummy_columns + list(geo_dummy_columns)\n",
    "\n",
    "# Numerische Spalten ohne Dummy-Variablen\n",
    "numeric_columns = hourly_hexagon_X_train.columns.difference(dummy_columns)\n",
    "\n",
    "# Initialize the scaler\n",
    "scaler = StandardScaler()\n",
    "\n",
    "# Z-Standardisierung nur auf die numerischen Spalten anwenden\n",
    "hourly_hexagon_X_train[numeric_columns] = scaler.fit_transform(hourly_hexagon_X_train[numeric_columns])\n",
    "\n",
    "# Transformation auf dem Testset mit den im Training erlernten Parametern\n",
    "hourly_hexagon_X_test[numeric_columns] = scaler.transform(hourly_hexagon_X_test[numeric_columns])\n",
    "\n",
    "# Calculate mean and standard deviation\n",
    "mean_hourly_hexagon_y_train = hourly_hexagon_y_train.mean()\n",
    "std_hourly_hexagon_y_train = hourly_hexagon_y_train.std()\n",
    "mean_hourly_hexagon_y_test = hourly_hexagon_y_test.mean()\n",
    "std_hourly_hexagon_y_test = hourly_hexagon_y_test.std()\n",
    "\n",
    "# Standardize y\n",
    "hourly_hexagon_y_train = (hourly_hexagon_y_train - mean_hourly_hexagon_y_train) / std_hourly_hexagon_y_train\n",
    "hourly_hexagon_y_test = (hourly_hexagon_y_test - mean_hourly_hexagon_y_test) / std_hourly_hexagon_y_test\n",
    "#df to input data for model\n",
    "\n",
    "hourly_hexagon_X_train = hourly_hexagon_X_train.to_numpy()\n",
    "hourly_hexagon_X_test = hourly_hexagon_X_test.to_numpy()\n",
    "\n",
    "#hourly_hexagon_y_train = hourly_hexagon_y_train.to_numpy()\n",
    "#hourly_hexagon_y_test = hourly_hexagon_y_test.to_numpy()"
   ]
  },
  {
   "cell_type": "markdown",
   "metadata": {},
   "source": [
    "### daily census"
   ]
  },
  {
   "cell_type": "code",
   "execution_count": 10,
   "metadata": {},
   "outputs": [],
   "source": [
    "daily_census = pd.read_csv(\"C:/Users/A1DF42D/Downloads/daily_census_features.csv\")\n",
    "\n",
    "#save for later reuse\n",
    "tracts = daily_census[\"Pickup Census Tract\"]\n",
    "tracts2 = daily_census[\"Census Tract POI\"]\n",
    "tractGeo= daily_census[\"Census Tract Geo\"]\n",
    "\n",
    "#dummies auf Basis von Geo Census\n",
    "daily_census = pd.get_dummies(daily_census, columns=[\"Census Tract Geo\"], dtype=float, drop_first=True)\n",
    "daily_census.shape #one less dummy column than categories is correct\n",
    "\n",
    "daily_census[\"Census Tract Geo\"] = tractGeo\n",
    "\n",
    "#Stratified Sampling\n",
    "\n",
    "# Split-Konfiguration\n",
    "split_ratio = 0.8\n",
    "\n",
    "# StratifiedShuffleSplit erstellen\n",
    "sss = StratifiedShuffleSplit(n_splits=1, test_size=1-split_ratio, random_state=42)\n",
    "\n",
    "# Index für Train und Test Split\n",
    "for train_index, test_index in sss.split(daily_census, daily_census['Census Tract Geo']):\n",
    "    daily_census_train_set = daily_census.loc[train_index]\n",
    "    daily_census_test_set = daily_census.loc[test_index]"
   ]
  },
  {
   "cell_type": "code",
   "execution_count": 11,
   "metadata": {},
   "outputs": [
    {
     "data": {
      "text/plain": [
       "Census Tract Geo\n",
       "17031221300    0.008033\n",
       "17031140602    0.007851\n",
       "17031490902    0.007851\n",
       "17031251500    0.007851\n",
       "17031730400    0.007825\n",
       "                 ...   \n",
       "17031010600    0.000130\n",
       "17031410600    0.000130\n",
       "17031030103    0.000130\n",
       "17031560100    0.000130\n",
       "17031340600    0.000130\n",
       "Name: proportion, Length: 283, dtype: float64"
      ]
     },
     "execution_count": 11,
     "metadata": {},
     "output_type": "execute_result"
    }
   ],
   "source": [
    "    #Gleiche Proportionen in Train and Test?\n",
    "daily_census_train_set['Census Tract Geo'].value_counts(normalize=True)"
   ]
  },
  {
   "cell_type": "code",
   "execution_count": 12,
   "metadata": {},
   "outputs": [
    {
     "data": {
      "text/plain": [
       "Census Tract Geo\n",
       "17031221300    0.008033\n",
       "17031251500    0.007928\n",
       "17031140602    0.007928\n",
       "17031700401    0.007824\n",
       "17031730400    0.007824\n",
       "                 ...   \n",
       "17031843100    0.000104\n",
       "17031410500    0.000104\n",
       "17031030103    0.000104\n",
       "17031430101    0.000104\n",
       "17031010600    0.000104\n",
       "Name: proportion, Length: 283, dtype: float64"
      ]
     },
     "execution_count": 12,
     "metadata": {},
     "output_type": "execute_result"
    }
   ],
   "source": [
    "daily_census_test_set['Census Tract Geo'].value_counts(normalize=True)"
   ]
  },
  {
   "cell_type": "code",
   "execution_count": 13,
   "metadata": {},
   "outputs": [],
   "source": [
    "#Entfernen von unnötigen Variablen für Modell\n",
    "daily_census_X_train = daily_census_train_set.drop([\"Unnamed: 0\", \"Date\", \"Number of Trips\",'Pickup Census Tract','Census Tract POI','Census Tract Geo','latitude','longitude'], axis=1)\n",
    "daily_census_y_train = daily_census_train_set[\"Number of Trips\"]\n",
    "\n",
    "daily_census_X_test = daily_census_test_set.drop([\"Unnamed: 0\", \"Date\", \"Number of Trips\",'Pickup Census Tract','Census Tract POI','Census Tract Geo','latitude','longitude'], axis=1)\n",
    "daily_census_y_test = daily_census_test_set[\"Number of Trips\"]\n",
    "\n",
    "#Am besten auch Columns löschen, die Bezug zu Y haben\n",
    "daily_census_X_train.drop(['Trip Seconds', 'Tips', 'Extras','Trip Seconds Avg',\n",
    "       'Trip Miles Avg', 'Fare Avg', 'Tips Avg', 'Tolls Avg', 'Extras Avg',\n",
    "       'Trip Total Avg', 'Fare per Miles'], axis=1, inplace=True)\n",
    "\n",
    "daily_census_X_test.drop(['Trip Seconds', 'Tips', 'Extras','Trip Seconds Avg',\n",
    "       'Trip Miles Avg', 'Fare Avg', 'Tips Avg', 'Tolls Avg', 'Extras Avg',\n",
    "       'Trip Total Avg', 'Fare per Miles'], axis=1, inplace=True)\n",
    "\n",
    "# Standardisierung\n",
    "# Liste der bekannten Dummy-Variablen\n",
    "known_dummy_columns = ['Business Hours', 'Business Travel', 'holiday', 'sports']\n",
    "\n",
    "# Weitere Dummy-Variablen nach Namensmuster \"_Geo\" finden\n",
    "geo_dummy_columns = daily_census_X_train.columns[daily_census_X_train.columns.str.contains('Census Tract Geo_')]\n",
    "\n",
    "# Alle Dummy-Variablen zusammenfassen\n",
    "dummy_columns = known_dummy_columns + list(geo_dummy_columns)\n",
    "\n",
    "# Numerische Spalten ohne Dummy-Variablen\n",
    "numeric_columns = daily_census_X_train.columns.difference(dummy_columns)\n",
    "\n",
    "# Initialize the scaler\n",
    "scaler = StandardScaler()\n",
    "\n",
    "# Z-Standardisierung nur auf die numerischen Spalten anwenden\n",
    "scaler = StandardScaler()\n",
    "daily_census_X_train[numeric_columns] = scaler.fit_transform(daily_census_X_train[numeric_columns])\n",
    "daily_census_X_test[numeric_columns] = scaler.transform(daily_census_X_test[numeric_columns])\n",
    "\n",
    "\n",
    "# Calculate mean and standard deviation\n",
    "mean_daily_census_y_train = daily_census_y_train.mean()\n",
    "std_daily_census_y_train = daily_census_y_train.std()\n",
    "mean_daily_census_y_test = daily_census_y_test.mean()\n",
    "std_daily_census_y_test = daily_census_y_test.std()\n",
    "\n",
    "# Standardize y\n",
    "daily_census_y_train = (daily_census_y_train - mean_daily_census_y_train) / std_daily_census_y_train\n",
    "daily_census_y_test = (daily_census_y_test - mean_daily_census_y_test) / std_daily_census_y_test\n",
    "#df to input data for model\n",
    "\n",
    "daily_census_X_train = daily_census_X_train.to_numpy()\n",
    "daily_census_X_test = daily_census_X_test.to_numpy()\n",
    "\n",
    "#daily_census_y_train = daily_census_y_train.to_numpy()\n",
    "#daily_census_y_test = daily_census_y_test.to_numpy()"
   ]
  },
  {
   "cell_type": "markdown",
   "metadata": {},
   "source": [
    "### hourly census"
   ]
  },
  {
   "cell_type": "code",
   "execution_count": 14,
   "metadata": {},
   "outputs": [],
   "source": [
    "hourly_census = pd.read_csv(\"C:/Users/A1DF42D/Downloads/hourly_census_features.csv\")\n",
    "\n",
    "#save for later reuse\n",
    "tracts = hourly_census[\"Pickup Census Tract\"]\n",
    "tracts2 = hourly_census[\"Census Tract POI\"]\n",
    "tractGeo= hourly_census[\"Census Tract Geo\"]\n"
   ]
  },
  {
   "cell_type": "code",
   "execution_count": 15,
   "metadata": {},
   "outputs": [],
   "source": [
    "\n",
    "#dummies auf Basis von Geo census\n",
    "hourly_census = pd.get_dummies(hourly_census, columns=[\"Census Tract Geo\"], dtype=float, drop_first=True)\n",
    "hourly_census.shape #one less dummy column than categories is correct\n",
    "\n",
    "hourly_census[\"Census Tract Geo\"] = tractGeo\n",
    "\n",
    "#Stratified Sampling\n",
    "\n",
    "# Split-Konfiguration\n",
    "split_ratio = 0.8\n",
    "\n",
    "# StratifiedShuffleSplit erstellen\n",
    "sss = StratifiedShuffleSplit(n_splits=1, test_size=1-split_ratio, random_state=42)\n",
    "\n",
    "\n",
    "# Index für Train und Test Split\n",
    "for train_index, test_index in sss.split(hourly_census, hourly_census['Census Tract Geo']):\n",
    "    hourly_census_train_set = hourly_census.loc[train_index]\n",
    "    hourly_census_test_set = hourly_census.loc[test_index]"
   ]
  },
  {
   "cell_type": "code",
   "execution_count": 16,
   "metadata": {},
   "outputs": [
    {
     "data": {
      "text/plain": [
       "Census Tract Geo\n",
       "17031081000    0.017049\n",
       "17031320400    0.017003\n",
       "17031980000    0.016986\n",
       "17031062200    0.016979\n",
       "17031832900    0.016877\n",
       "                 ...   \n",
       "17031340600    0.000012\n",
       "17031410600    0.000012\n",
       "17031030103    0.000012\n",
       "17031560100    0.000012\n",
       "17031010600    0.000012\n",
       "Name: proportion, Length: 283, dtype: float64"
      ]
     },
     "execution_count": 16,
     "metadata": {},
     "output_type": "execute_result"
    }
   ],
   "source": [
    "        #Gleiche Proportionen in Train and Test?\n",
    "hourly_census_train_set['Census Tract Geo'].value_counts(normalize=True)"
   ]
  },
  {
   "cell_type": "code",
   "execution_count": 17,
   "metadata": {},
   "outputs": [
    {
     "data": {
      "text/plain": [
       "Census Tract Geo\n",
       "17031081000    0.017052\n",
       "17031320400    0.017003\n",
       "17031980000    0.016984\n",
       "17031062200    0.016974\n",
       "17031832900    0.016877\n",
       "                 ...   \n",
       "17031010600    0.000010\n",
       "17031560100    0.000010\n",
       "17031430101    0.000010\n",
       "17031340600    0.000010\n",
       "17031030103    0.000010\n",
       "Name: proportion, Length: 283, dtype: float64"
      ]
     },
     "execution_count": 17,
     "metadata": {},
     "output_type": "execute_result"
    }
   ],
   "source": [
    "hourly_census_test_set['Census Tract Geo'].value_counts(normalize=True)"
   ]
  },
  {
   "cell_type": "code",
   "execution_count": 18,
   "metadata": {},
   "outputs": [],
   "source": [
    "#Entfernen von unnötigen Variablen für Modell\n",
    "hourly_census_X_train = hourly_census_train_set.drop([\"Unnamed: 0\", \"Hour\", \"Number of Trips\",'Pickup Census Tract','Census Tract POI','Census Tract Geo','latitude','longitude'], axis=1)\n",
    "hourly_census_y_train = hourly_census_train_set[\"Number of Trips\"]\n",
    "\n",
    "hourly_census_X_test = hourly_census_test_set.drop([\"Unnamed: 0\", \"Hour\", \"Number of Trips\",'Pickup Census Tract','Census Tract POI','Census Tract Geo','latitude','longitude'], axis=1)\n",
    "hourly_census_y_test = hourly_census_test_set[\"Number of Trips\"]\n",
    "\n",
    "#Am besten auch Columns löschen, die Bezug zu Y haben\n",
    "hourly_census_X_train.drop(['Trip Seconds', 'Tips', 'Extras','Trip Seconds Avg',\n",
    "       'Trip Miles Avg', 'Fare Avg', 'Tips Avg', 'Tolls Avg', 'Extras Avg',\n",
    "       'Trip Total Avg', 'Fare per Miles'], axis=1, inplace=True)\n",
    "\n",
    "hourly_census_X_test.drop(['Trip Seconds', 'Tips', 'Extras','Trip Seconds Avg',\n",
    "       'Trip Miles Avg', 'Fare Avg', 'Tips Avg', 'Tolls Avg', 'Extras Avg',\n",
    "       'Trip Total Avg', 'Fare per Miles'], axis=1, inplace=True)\n",
    "\n",
    "# Standardisierung\n",
    "# Liste der bekannten Dummy-Variablen\n",
    "known_dummy_columns = ['Business Hours', 'Business Travel', 'holiday', 'sports']\n",
    "\n",
    "# Weitere Dummy-Variablen nach Namensmuster \"_Geo\" finden\n",
    "geo_dummy_columns = hourly_census_X_train.columns[hourly_census_X_train.columns.str.contains('Census Tract Geo_')]\n",
    "\n",
    "# Alle Dummy-Variablen zusammenfassen\n",
    "dummy_columns = known_dummy_columns + list(geo_dummy_columns)\n",
    "\n",
    "# Numerische Spalten ohne Dummy-Variablen\n",
    "numeric_columns = hourly_census_X_train.columns.difference(dummy_columns)\n",
    "\n",
    "# Initialize the scaler\n",
    "scaler = StandardScaler()\n",
    "\n",
    "# Z-Standardisierung nur auf die numerischen Spalten anwenden\n",
    "scaler = StandardScaler()\n",
    "hourly_census_X_train[numeric_columns] = scaler.fit_transform(hourly_census_X_train[numeric_columns])\n",
    "hourly_census_X_test[numeric_columns] = scaler.transform(hourly_census_X_test[numeric_columns])\n",
    "\n",
    "# Calculate mean and standard deviation\n",
    "mean_hourly_census_y_train = hourly_census_y_train.mean()\n",
    "std_hourly_census_y_train = hourly_census_y_train.std()\n",
    "mean_hourly_census_y_test = hourly_census_y_test.mean()\n",
    "std_hourly_census_y_test = hourly_census_y_test.std()\n",
    "\n",
    "# Standardize y\n",
    "hourly_census_y_train = (hourly_census_y_train - mean_hourly_census_y_train) / std_hourly_census_y_train\n",
    "hourly_census_y_test = (hourly_census_y_test - mean_hourly_census_y_test) / std_hourly_census_y_test\n",
    "#df to input data for model\n",
    "\n",
    "hourly_census_X_train = hourly_census_X_train.to_numpy()\n",
    "hourly_census_X_test = hourly_census_X_test.to_numpy()\n",
    "\n",
    "#hourly_census_y_train = hourly_census_y_train.to_numpy()\n",
    "#hourly_census_y_test = hourly_census_y_test.to_numpy()"
   ]
  },
  {
   "cell_type": "markdown",
   "metadata": {},
   "source": [
    "# Linear Kernel"
   ]
  },
  {
   "cell_type": "markdown",
   "metadata": {},
   "source": [
    "### daily hexagon without grid searching"
   ]
  },
  {
   "cell_type": "code",
   "execution_count": 42,
   "metadata": {},
   "outputs": [
    {
     "name": "stdout",
     "output_type": "stream",
     "text": [
      "[LibLinear]"
     ]
    },
    {
     "name": "stderr",
     "output_type": "stream",
     "text": [
      "C:\\Users\\A1DF42D\\AppData\\Roaming\\Python\\Python310\\site-packages\\sklearn\\svm\\_base.py:1235: ConvergenceWarning: Liblinear failed to converge, increase the number of iterations.\n",
      "  warnings.warn(\n"
     ]
    }
   ],
   "source": [
    "# Train SVM model with linear kernel\n",
    "daily_hexagon_svm_linear = LinearSVR(verbose=True)\n",
    "daily_hexagon_svm_linear.fit(daily_hexagon_X_train, daily_hexagon_y_train)\n",
    "\n",
    "# Predict on the test set\n",
    "daily_hexagon_y_pred_linear_test = daily_hexagon_svm_linear.predict(daily_hexagon_X_test)\n",
    "\n",
    "# Predict on the training set\n",
    "daily_hexagon_y_pred_linear_train = daily_hexagon_svm_linear.predict(daily_hexagon_X_train)"
   ]
  },
  {
   "cell_type": "code",
   "execution_count": 43,
   "metadata": {},
   "outputs": [
    {
     "name": "stdout",
     "output_type": "stream",
     "text": [
      "daily_hexagon SVM Model linear kernel (train) - MAE: 0.06793720145265464, MSE: 0.09080001614866343, RMSE: 0.301330410261997, R2: 0.9091971395066275, MASE: 0.18341733589469478, MAPE: 0.35516309797004403, SMAPE: 16.822507311767684\n"
     ]
    }
   ],
   "source": [
    "# # Evaluate on the training set\n",
    "daily_hexagon_mae_linear_train = mean_absolute_error(daily_hexagon_y_train, daily_hexagon_y_pred_linear_train)\n",
    "daily_hexagon_mse_linear_train = mean_squared_error(daily_hexagon_y_train, daily_hexagon_y_pred_linear_train)\n",
    "daily_hexagon_rmse_linear_train = np.sqrt(daily_hexagon_mse_linear_train)\n",
    "daily_hexagon_r2_linear_train = r2_score(daily_hexagon_y_train, daily_hexagon_y_pred_linear_train)\n",
    "\n",
    "def mase(daily_hexagon_y_train, daily_hexagon_y_pred_linear_train):\n",
    "     # Calculate the mean of the observed values\n",
    "    y_mean = np.mean(daily_hexagon_y_train)\n",
    "    \n",
    "    # Calculate MAE of the model\n",
    "    mae_model = np.mean(np.abs(daily_hexagon_y_train - daily_hexagon_y_pred_linear_train))\n",
    "    \n",
    "    # Calculate MAE of the mean forecast\n",
    "    mae_mean = np.mean(np.abs(daily_hexagon_y_train - y_mean))\n",
    "    \n",
    "    # Calculate MASE\n",
    "    mase_value = mae_model / mae_mean\n",
    "    return mase_value\n",
    "\n",
    "daily_hexagon_mase_linear_train = mase(daily_hexagon_y_train, daily_hexagon_y_pred_linear_train)\n",
    "\n",
    "daily_hexagon_mape_linear_train = mean_absolute_percentage_error(daily_hexagon_y_train, daily_hexagon_y_pred_linear_train)\n",
    "\n",
    "# Custom function for SMAPE\n",
    "def smape(daily_hexagon_y_train, daily_hexagon_y_pred_linear_train):\n",
    "    return 100 * np.mean(2 * np.abs(daily_hexagon_y_pred_linear_train - daily_hexagon_y_train) / (np.abs(daily_hexagon_y_pred_linear_train) + np.abs(daily_hexagon_y_train)))\n",
    "\n",
    "daily_hexagon_smape_linear_train = smape(daily_hexagon_y_train, daily_hexagon_y_pred_linear_train)\n",
    "\n",
    "print(f'daily_hexagon SVM Model linear kernel (train) - MAE: {daily_hexagon_mae_linear_train}, MSE: {daily_hexagon_mse_linear_train}, RMSE: {daily_hexagon_rmse_linear_train}, R2: {daily_hexagon_r2_linear_train}, MASE: {daily_hexagon_mase_linear_train}, MAPE: {daily_hexagon_mape_linear_train}, SMAPE: {daily_hexagon_smape_linear_train}')"
   ]
  },
  {
   "cell_type": "code",
   "execution_count": 44,
   "metadata": {},
   "outputs": [
    {
     "name": "stdout",
     "output_type": "stream",
     "text": [
      "daily_hexagon SVM Model linear kernel (test) - MAE: 0.06487729689547268, MSE: 0.07668066147690832, RMSE: 0.2769127326016417, R2: 0.9233097294176434, MASE: 0.17347933765818707, MAPE: 0.42111371341993725, SMAPE: 16.2663760164845\n"
     ]
    }
   ],
   "source": [
    "# Evaluate on the testing set\n",
    "daily_hexagon_mae_linear_test = mean_absolute_error(daily_hexagon_y_test, daily_hexagon_y_pred_linear_test)\n",
    "daily_hexagon_mse_linear_test = mean_squared_error(daily_hexagon_y_test, daily_hexagon_y_pred_linear_test)\n",
    "daily_hexagon_rmse_linear_test = np.sqrt(daily_hexagon_mse_linear_test)\n",
    "daily_hexagon_r2_linear_test = r2_score(daily_hexagon_y_test, daily_hexagon_y_pred_linear_test)\n",
    "\n",
    "def mase(daily_hexagon_y_test, daily_hexagon_y_pred_linear_test):\n",
    "    # Calculate the mean of the observed values\n",
    "    y_mean = np.mean(daily_hexagon_y_test)\n",
    "    \n",
    "    # Calculate MAE of the model\n",
    "    mae_model = np.mean(np.abs(daily_hexagon_y_test - daily_hexagon_y_pred_linear_test))\n",
    "    \n",
    "    # Calculate MAE of the mean forecast\n",
    "    mae_mean = np.mean(np.abs(daily_hexagon_y_test - y_mean))\n",
    "    \n",
    "    # Calculate MASE\n",
    "    mase_value = mae_model / mae_mean\n",
    "    return mase_value\n",
    "\n",
    "daily_hexagon_mase_linear_test = mase(daily_hexagon_y_test, daily_hexagon_y_pred_linear_test)\n",
    "\n",
    "daily_hexagon_mape_linear_test = mean_absolute_percentage_error(daily_hexagon_y_test, daily_hexagon_y_pred_linear_test)\n",
    "\n",
    "# Custom function for SMAPE\n",
    "def smape(daily_hexagon_y_test, daily_hexagon_y_pred_linear_test):\n",
    "    return 100 * np.mean(2 * np.abs(daily_hexagon_y_pred_linear_test - daily_hexagon_y_test) / (np.abs(daily_hexagon_y_pred_linear_test) + np.abs(daily_hexagon_y_test)))\n",
    "\n",
    "daily_hexagon_smape_linear_test = smape(daily_hexagon_y_test, daily_hexagon_y_pred_linear_test)\n",
    "\n",
    "print(f'daily_hexagon SVM Model linear kernel (test) - MAE: {daily_hexagon_mae_linear_test}, MSE: {daily_hexagon_mse_linear_test}, RMSE: {daily_hexagon_rmse_linear_test}, R2: {daily_hexagon_r2_linear_test}, MASE: {daily_hexagon_mase_linear_test}, MAPE: {daily_hexagon_mape_linear_test}, SMAPE: {daily_hexagon_smape_linear_test}')"
   ]
  },
  {
   "cell_type": "markdown",
   "metadata": {},
   "source": [
    "### daily hexagon with grid searching"
   ]
  },
  {
   "cell_type": "code",
   "execution_count": 45,
   "metadata": {},
   "outputs": [
    {
     "name": "stdout",
     "output_type": "stream",
     "text": [
      "[LibLinear]"
     ]
    },
    {
     "name": "stderr",
     "output_type": "stream",
     "text": [
      "C:\\Users\\A1DF42D\\AppData\\Roaming\\Python\\Python310\\site-packages\\sklearn\\svm\\_base.py:1235: ConvergenceWarning: Liblinear failed to converge, increase the number of iterations.\n",
      "  warnings.warn(\n"
     ]
    },
    {
     "name": "stdout",
     "output_type": "stream",
     "text": [
      "[LibLinear]"
     ]
    },
    {
     "name": "stderr",
     "output_type": "stream",
     "text": [
      "C:\\Users\\A1DF42D\\AppData\\Roaming\\Python\\Python310\\site-packages\\sklearn\\svm\\_base.py:1235: ConvergenceWarning: Liblinear failed to converge, increase the number of iterations.\n",
      "  warnings.warn(\n"
     ]
    },
    {
     "name": "stdout",
     "output_type": "stream",
     "text": [
      "[LibLinear]"
     ]
    },
    {
     "name": "stderr",
     "output_type": "stream",
     "text": [
      "C:\\Users\\A1DF42D\\AppData\\Roaming\\Python\\Python310\\site-packages\\sklearn\\svm\\_base.py:1235: ConvergenceWarning: Liblinear failed to converge, increase the number of iterations.\n",
      "  warnings.warn(\n"
     ]
    },
    {
     "name": "stdout",
     "output_type": "stream",
     "text": [
      "[LibLinear]"
     ]
    },
    {
     "name": "stderr",
     "output_type": "stream",
     "text": [
      "C:\\Users\\A1DF42D\\AppData\\Roaming\\Python\\Python310\\site-packages\\sklearn\\svm\\_base.py:1235: ConvergenceWarning: Liblinear failed to converge, increase the number of iterations.\n",
      "  warnings.warn(\n"
     ]
    },
    {
     "name": "stdout",
     "output_type": "stream",
     "text": [
      "[LibLinear]"
     ]
    },
    {
     "name": "stderr",
     "output_type": "stream",
     "text": [
      "C:\\Users\\A1DF42D\\AppData\\Roaming\\Python\\Python310\\site-packages\\sklearn\\svm\\_base.py:1235: ConvergenceWarning: Liblinear failed to converge, increase the number of iterations.\n",
      "  warnings.warn(\n"
     ]
    },
    {
     "name": "stdout",
     "output_type": "stream",
     "text": [
      "[LibLinear]"
     ]
    },
    {
     "name": "stderr",
     "output_type": "stream",
     "text": [
      "C:\\Users\\A1DF42D\\AppData\\Roaming\\Python\\Python310\\site-packages\\sklearn\\svm\\_base.py:1235: ConvergenceWarning: Liblinear failed to converge, increase the number of iterations.\n",
      "  warnings.warn(\n"
     ]
    },
    {
     "name": "stdout",
     "output_type": "stream",
     "text": [
      "[LibLinear]"
     ]
    },
    {
     "name": "stderr",
     "output_type": "stream",
     "text": [
      "C:\\Users\\A1DF42D\\AppData\\Roaming\\Python\\Python310\\site-packages\\sklearn\\svm\\_base.py:1235: ConvergenceWarning: Liblinear failed to converge, increase the number of iterations.\n",
      "  warnings.warn(\n"
     ]
    },
    {
     "name": "stdout",
     "output_type": "stream",
     "text": [
      "[LibLinear]"
     ]
    },
    {
     "name": "stderr",
     "output_type": "stream",
     "text": [
      "C:\\Users\\A1DF42D\\AppData\\Roaming\\Python\\Python310\\site-packages\\sklearn\\svm\\_base.py:1235: ConvergenceWarning: Liblinear failed to converge, increase the number of iterations.\n",
      "  warnings.warn(\n"
     ]
    },
    {
     "name": "stdout",
     "output_type": "stream",
     "text": [
      "[LibLinear]"
     ]
    },
    {
     "name": "stderr",
     "output_type": "stream",
     "text": [
      "C:\\Users\\A1DF42D\\AppData\\Roaming\\Python\\Python310\\site-packages\\sklearn\\svm\\_base.py:1235: ConvergenceWarning: Liblinear failed to converge, increase the number of iterations.\n",
      "  warnings.warn(\n"
     ]
    },
    {
     "name": "stdout",
     "output_type": "stream",
     "text": [
      "[LibLinear]"
     ]
    },
    {
     "name": "stderr",
     "output_type": "stream",
     "text": [
      "C:\\Users\\A1DF42D\\AppData\\Roaming\\Python\\Python310\\site-packages\\sklearn\\svm\\_base.py:1235: ConvergenceWarning: Liblinear failed to converge, increase the number of iterations.\n",
      "  warnings.warn(\n"
     ]
    },
    {
     "name": "stdout",
     "output_type": "stream",
     "text": [
      "[LibLinear]"
     ]
    },
    {
     "name": "stderr",
     "output_type": "stream",
     "text": [
      "C:\\Users\\A1DF42D\\AppData\\Roaming\\Python\\Python310\\site-packages\\sklearn\\svm\\_base.py:1235: ConvergenceWarning: Liblinear failed to converge, increase the number of iterations.\n",
      "  warnings.warn(\n"
     ]
    },
    {
     "name": "stdout",
     "output_type": "stream",
     "text": [
      "[LibLinear]"
     ]
    },
    {
     "name": "stderr",
     "output_type": "stream",
     "text": [
      "C:\\Users\\A1DF42D\\AppData\\Roaming\\Python\\Python310\\site-packages\\sklearn\\svm\\_base.py:1235: ConvergenceWarning: Liblinear failed to converge, increase the number of iterations.\n",
      "  warnings.warn(\n"
     ]
    },
    {
     "name": "stdout",
     "output_type": "stream",
     "text": [
      "[LibLinear]"
     ]
    },
    {
     "name": "stderr",
     "output_type": "stream",
     "text": [
      "C:\\Users\\A1DF42D\\AppData\\Roaming\\Python\\Python310\\site-packages\\sklearn\\svm\\_base.py:1235: ConvergenceWarning: Liblinear failed to converge, increase the number of iterations.\n",
      "  warnings.warn(\n"
     ]
    },
    {
     "name": "stdout",
     "output_type": "stream",
     "text": [
      "[LibLinear]"
     ]
    },
    {
     "name": "stderr",
     "output_type": "stream",
     "text": [
      "C:\\Users\\A1DF42D\\AppData\\Roaming\\Python\\Python310\\site-packages\\sklearn\\svm\\_base.py:1235: ConvergenceWarning: Liblinear failed to converge, increase the number of iterations.\n",
      "  warnings.warn(\n"
     ]
    },
    {
     "name": "stdout",
     "output_type": "stream",
     "text": [
      "[LibLinear]"
     ]
    },
    {
     "name": "stderr",
     "output_type": "stream",
     "text": [
      "C:\\Users\\A1DF42D\\AppData\\Roaming\\Python\\Python310\\site-packages\\sklearn\\svm\\_base.py:1235: ConvergenceWarning: Liblinear failed to converge, increase the number of iterations.\n",
      "  warnings.warn(\n"
     ]
    },
    {
     "name": "stdout",
     "output_type": "stream",
     "text": [
      "[LibLinear]"
     ]
    },
    {
     "name": "stderr",
     "output_type": "stream",
     "text": [
      "C:\\Users\\A1DF42D\\AppData\\Roaming\\Python\\Python310\\site-packages\\sklearn\\svm\\_base.py:1235: ConvergenceWarning: Liblinear failed to converge, increase the number of iterations.\n",
      "  warnings.warn(\n"
     ]
    },
    {
     "name": "stdout",
     "output_type": "stream",
     "text": [
      "[LibLinear]"
     ]
    },
    {
     "name": "stderr",
     "output_type": "stream",
     "text": [
      "C:\\Users\\A1DF42D\\AppData\\Roaming\\Python\\Python310\\site-packages\\sklearn\\svm\\_base.py:1235: ConvergenceWarning: Liblinear failed to converge, increase the number of iterations.\n",
      "  warnings.warn(\n"
     ]
    },
    {
     "name": "stdout",
     "output_type": "stream",
     "text": [
      "[LibLinear]"
     ]
    },
    {
     "name": "stderr",
     "output_type": "stream",
     "text": [
      "C:\\Users\\A1DF42D\\AppData\\Roaming\\Python\\Python310\\site-packages\\sklearn\\svm\\_base.py:1235: ConvergenceWarning: Liblinear failed to converge, increase the number of iterations.\n",
      "  warnings.warn(\n"
     ]
    },
    {
     "name": "stdout",
     "output_type": "stream",
     "text": [
      "[LibLinear]"
     ]
    },
    {
     "name": "stderr",
     "output_type": "stream",
     "text": [
      "C:\\Users\\A1DF42D\\AppData\\Roaming\\Python\\Python310\\site-packages\\sklearn\\svm\\_base.py:1235: ConvergenceWarning: Liblinear failed to converge, increase the number of iterations.\n",
      "  warnings.warn(\n"
     ]
    },
    {
     "name": "stdout",
     "output_type": "stream",
     "text": [
      "[LibLinear]"
     ]
    },
    {
     "name": "stderr",
     "output_type": "stream",
     "text": [
      "C:\\Users\\A1DF42D\\AppData\\Roaming\\Python\\Python310\\site-packages\\sklearn\\svm\\_base.py:1235: ConvergenceWarning: Liblinear failed to converge, increase the number of iterations.\n",
      "  warnings.warn(\n"
     ]
    },
    {
     "name": "stdout",
     "output_type": "stream",
     "text": [
      "[LibLinear]"
     ]
    },
    {
     "name": "stderr",
     "output_type": "stream",
     "text": [
      "C:\\Users\\A1DF42D\\AppData\\Roaming\\Python\\Python310\\site-packages\\sklearn\\svm\\_base.py:1235: ConvergenceWarning: Liblinear failed to converge, increase the number of iterations.\n",
      "  warnings.warn(\n"
     ]
    },
    {
     "name": "stdout",
     "output_type": "stream",
     "text": [
      "[LibLinear]"
     ]
    },
    {
     "name": "stderr",
     "output_type": "stream",
     "text": [
      "C:\\Users\\A1DF42D\\AppData\\Roaming\\Python\\Python310\\site-packages\\sklearn\\svm\\_base.py:1235: ConvergenceWarning: Liblinear failed to converge, increase the number of iterations.\n",
      "  warnings.warn(\n"
     ]
    },
    {
     "name": "stdout",
     "output_type": "stream",
     "text": [
      "[LibLinear]"
     ]
    },
    {
     "name": "stderr",
     "output_type": "stream",
     "text": [
      "C:\\Users\\A1DF42D\\AppData\\Roaming\\Python\\Python310\\site-packages\\sklearn\\svm\\_base.py:1235: ConvergenceWarning: Liblinear failed to converge, increase the number of iterations.\n",
      "  warnings.warn(\n"
     ]
    },
    {
     "name": "stdout",
     "output_type": "stream",
     "text": [
      "[LibLinear]"
     ]
    },
    {
     "name": "stderr",
     "output_type": "stream",
     "text": [
      "C:\\Users\\A1DF42D\\AppData\\Roaming\\Python\\Python310\\site-packages\\sklearn\\svm\\_base.py:1235: ConvergenceWarning: Liblinear failed to converge, increase the number of iterations.\n",
      "  warnings.warn(\n"
     ]
    },
    {
     "name": "stdout",
     "output_type": "stream",
     "text": [
      "[LibLinear]"
     ]
    },
    {
     "name": "stderr",
     "output_type": "stream",
     "text": [
      "C:\\Users\\A1DF42D\\AppData\\Roaming\\Python\\Python310\\site-packages\\sklearn\\svm\\_base.py:1235: ConvergenceWarning: Liblinear failed to converge, increase the number of iterations.\n",
      "  warnings.warn(\n"
     ]
    },
    {
     "name": "stdout",
     "output_type": "stream",
     "text": [
      "[LibLinear]Best parameters for linear kernel: {'C': 0.1}\n"
     ]
    },
    {
     "name": "stderr",
     "output_type": "stream",
     "text": [
      "C:\\Users\\A1DF42D\\AppData\\Roaming\\Python\\Python310\\site-packages\\sklearn\\svm\\_base.py:1235: ConvergenceWarning: Liblinear failed to converge, increase the number of iterations.\n",
      "  warnings.warn(\n"
     ]
    }
   ],
   "source": [
    "# Parameter grid for LinearSVR\n",
    "daily_hexagon_param_grid_linear = {\n",
    "    'C': [0.1, 1, 10, 100, 1000]\n",
    "}\n",
    "\n",
    "# Initialize and perform Grid Search for LinearSVR\n",
    "daily_hexagon_grid_search_linear = GridSearchCV(LinearSVR(verbose=True), daily_hexagon_param_grid_linear, cv=5, scoring='neg_mean_absolute_error')\n",
    "daily_hexagon_grid_search_linear.fit(daily_hexagon_X_train, daily_hexagon_y_train)\n",
    "\n",
    "# Best parameters from Grid Search\n",
    "print(f'Best parameters for linear kernel: {daily_hexagon_grid_search_linear.best_params_}')\n",
    "\n",
    "# Get the best model from grid search\n",
    "best_svm_linear = daily_hexagon_grid_search_linear.best_estimator_\n",
    "\n",
    "# Predict on the test set\n",
    "daily_hexagon_best_svm_linear_test = best_svm_linear.predict(daily_hexagon_X_test)\n",
    "\n",
    "# Predict on the training set\n",
    "daily_hexagon_best_svm_linear_train = best_svm_linear.predict(daily_hexagon_X_train)"
   ]
  },
  {
   "cell_type": "code",
   "execution_count": 67,
   "metadata": {},
   "outputs": [
    {
     "ename": "NameError",
     "evalue": "name 'daily_hexagon_best_svm_linear_train' is not defined",
     "output_type": "error",
     "traceback": [
      "\u001b[1;31m---------------------------------------------------------------------------\u001b[0m",
      "\u001b[1;31mNameError\u001b[0m                                 Traceback (most recent call last)",
      "Cell \u001b[1;32mIn[67], line 2\u001b[0m\n\u001b[0;32m      1\u001b[0m \u001b[38;5;66;03m# Evaluate on the training set\u001b[39;00m\n\u001b[1;32m----> 2\u001b[0m daily_hexagon_best_mae_linear_train \u001b[38;5;241m=\u001b[39m mean_absolute_error(daily_hexagon_y_train, \u001b[43mdaily_hexagon_best_svm_linear_train\u001b[49m)\n\u001b[0;32m      3\u001b[0m daily_hexagon_best_mse_linear_train \u001b[38;5;241m=\u001b[39m mean_squared_error(daily_hexagon_y_train, daily_hexagon_best_svm_linear_train)\n\u001b[0;32m      4\u001b[0m daily_hexagon_best_rmse_linear_train \u001b[38;5;241m=\u001b[39m np\u001b[38;5;241m.\u001b[39msqrt(daily_hexagon_best_mse_linear_train)\n",
      "\u001b[1;31mNameError\u001b[0m: name 'daily_hexagon_best_svm_linear_train' is not defined"
     ]
    }
   ],
   "source": [
    "# Evaluate on the training set\n",
    "daily_hexagon_best_mae_linear_train = mean_absolute_error(daily_hexagon_y_train, daily_hexagon_best_svm_linear_train)\n",
    "daily_hexagon_best_mse_linear_train = mean_squared_error(daily_hexagon_y_train, daily_hexagon_best_svm_linear_train)\n",
    "daily_hexagon_best_rmse_linear_train = np.sqrt(daily_hexagon_best_mse_linear_train)\n",
    "daily_hexagon_best_r2_linear_train = r2_score(daily_hexagon_y_train, daily_hexagon_best_svm_linear_train)\n",
    "\n",
    "def mase(daily_hexagon_y_train, daily_hexagon_best_svm_linear_train):\n",
    "    # Calculate the mean of the observed values\n",
    "    y_mean = np.mean(daily_hexagon_y_train)\n",
    "    \n",
    "    # Calculate MAE of the model\n",
    "    mae_model = np.mean(np.abs(daily_hexagon_y_train - daily_hexagon_best_svm_linear_train))\n",
    "    \n",
    "    # Calculate MAE of the mean forecast\n",
    "    mae_mean = np.mean(np.abs(daily_hexagon_y_train - y_mean))\n",
    "    \n",
    "    # Calculate MASE\n",
    "    mase_value = mae_model / mae_mean\n",
    "    return mase_value\n",
    "\n",
    "daily_hexagon_best_mase_linear_train = mase(daily_hexagon_y_train, daily_hexagon_best_svm_linear_train)\n",
    "\n",
    "daily_hexagon_best_mape_linear_train = mean_absolute_percentage_error(daily_hexagon_y_train, daily_hexagon_best_svm_linear_train)\n",
    "\n",
    "# Custom function for SMAPE\n",
    "def smape(daily_hexagon_y_train, daily_hexagon_best_svm_linear_train):\n",
    "    return 100 * np.mean(2 * np.abs(daily_hexagon_best_svm_linear_train - daily_hexagon_y_train) / (np.abs(daily_hexagon_best_svm_linear_train) + np.abs(daily_hexagon_y_train)))\n",
    "\n",
    "daily_hexagon_best_smape_linear_train = smape(daily_hexagon_y_train, daily_hexagon_best_svm_linear_train)\n",
    "\n",
    "print(f'daily_hexagon SVM Model linear kernel (train) - MAE: {daily_hexagon_best_mae_linear_train}, MSE: {daily_hexagon_best_mse_linear_train}, RMSE: {daily_hexagon_best_rmse_linear_train}, R2: {daily_hexagon_best_r2_linear_train}, MASE: {daily_hexagon_best_mase_linear_train}, MAPE: {daily_hexagon_best_mape_linear_train}, SMAPE: {daily_hexagon_best_smape_linear_train}')"
   ]
  },
  {
   "cell_type": "code",
   "execution_count": 47,
   "metadata": {},
   "outputs": [
    {
     "name": "stdout",
     "output_type": "stream",
     "text": [
      "daily_hexagon SVM Model linear kernel (test) - MAE: 0.06341903395821766, MSE: 0.07560532135497512, RMSE: 0.27496421831753876, R2: 0.9243852042939779, MASE: 0.16957999997625386, MAPE: 0.3944670122357065, SMAPE: 15.749184814252501\n"
     ]
    }
   ],
   "source": [
    "# Evaluate on the testing set\n",
    "daily_hexagon_best_mae_linear_test = mean_absolute_error(daily_hexagon_y_test, daily_hexagon_best_svm_linear_test)\n",
    "daily_hexagon_best_mse_linear_test = mean_squared_error(daily_hexagon_y_test, daily_hexagon_best_svm_linear_test)\n",
    "daily_hexagon_best_rmse_linear_test = np.sqrt(daily_hexagon_best_mse_linear_test)\n",
    "daily_hexagon_best_r2_linear_test = r2_score(daily_hexagon_y_test, daily_hexagon_best_svm_linear_test)\n",
    "\n",
    "def mase(daily_hexagon_y_test, daily_hexagon_best_svm_linear_test):\n",
    "    # Calculate the mean of the observed values\n",
    "    y_mean = np.mean(daily_hexagon_y_test)\n",
    "    \n",
    "    # Calculate MAE of the model\n",
    "    mae_model = np.mean(np.abs(daily_hexagon_y_test - daily_hexagon_best_svm_linear_test))\n",
    "    \n",
    "    # Calculate MAE of the mean forecast\n",
    "    mae_mean = np.mean(np.abs(daily_hexagon_y_test - y_mean))\n",
    "    \n",
    "    # Calculate MASE\n",
    "    mase_value = mae_model / mae_mean\n",
    "    return mase_value\n",
    "\n",
    "daily_hexagon_best_mase_linear_test = mase(daily_hexagon_y_test, daily_hexagon_best_svm_linear_test)\n",
    "\n",
    "daily_hexagon_best_mape_linear_test = mean_absolute_percentage_error(daily_hexagon_y_test, daily_hexagon_best_svm_linear_test)\n",
    "\n",
    "# Custom function for SMAPE\n",
    "def smape(daily_hexagon_y_test, daily_hexagon_best_svm_linear_test):\n",
    "    return 100 * np.mean(2 * np.abs(daily_hexagon_best_svm_linear_test - daily_hexagon_y_test) / (np.abs(daily_hexagon_best_svm_linear_test) + np.abs(daily_hexagon_y_test)))\n",
    "\n",
    "daily_hexagon_best_smape_linear_test = smape(daily_hexagon_y_test, daily_hexagon_best_svm_linear_test)\n",
    "\n",
    "print(f'daily_hexagon SVM Model linear kernel (test) - MAE: {daily_hexagon_best_mae_linear_test}, MSE: {daily_hexagon_best_mse_linear_test}, RMSE: {daily_hexagon_best_rmse_linear_test}, R2: {daily_hexagon_best_r2_linear_test}, MASE: {daily_hexagon_best_mase_linear_test}, MAPE: {daily_hexagon_best_mape_linear_test}, SMAPE: {daily_hexagon_best_smape_linear_test}')"
   ]
  },
  {
   "cell_type": "markdown",
   "metadata": {},
   "source": [
    "### hourly hexagon without grid searching"
   ]
  },
  {
   "cell_type": "code",
   "execution_count": 48,
   "metadata": {},
   "outputs": [
    {
     "name": "stdout",
     "output_type": "stream",
     "text": [
      "[LibLinear]"
     ]
    },
    {
     "name": "stderr",
     "output_type": "stream",
     "text": [
      "C:\\Users\\A1DF42D\\AppData\\Roaming\\Python\\Python310\\site-packages\\sklearn\\svm\\_base.py:1235: ConvergenceWarning: Liblinear failed to converge, increase the number of iterations.\n",
      "  warnings.warn(\n"
     ]
    }
   ],
   "source": [
    "# Train SVM model with linear kernel\n",
    "hourly_hexagon_svm_linear = LinearSVR(verbose=True)\n",
    "hourly_hexagon_svm_linear.fit(hourly_hexagon_X_train, hourly_hexagon_y_train)\n",
    "\n",
    "# Predict on the test set\n",
    "hourly_hexagon_y_pred_linear_test = hourly_hexagon_svm_linear.predict(hourly_hexagon_X_test)\n",
    "\n",
    "# Predict on the training set\n",
    "hourly_hexagon_y_pred_linear_train = hourly_hexagon_svm_linear.predict(hourly_hexagon_X_train)"
   ]
  },
  {
   "cell_type": "code",
   "execution_count": 49,
   "metadata": {},
   "outputs": [],
   "source": [
    "# Evaluate on the training set\n",
    "hourly_hexagon_mae_linear_train = mean_absolute_error(hourly_hexagon_y_train, hourly_hexagon_y_pred_linear_train)\n",
    "hourly_hexagon_mse_linear_train = mean_squared_error(hourly_hexagon_y_train, hourly_hexagon_y_pred_linear_train)\n",
    "hourly_hexagon_rmse_linear_train = np.sqrt(hourly_hexagon_mse_linear_train)\n",
    "hourly_hexagon_r2_linear_train = r2_score(hourly_hexagon_y_train, hourly_hexagon_y_pred_linear_train)\n",
    "\n",
    "def mase(hourly_hexagon_y_train, hourly_hexagon_y_pred_linear_train):\n",
    "    # Calculate the mean of the observed values\n",
    "    y_mean = np.mean(hourly_hexagon_y_train)\n",
    "    \n",
    "    # Calculate MAE of the model\n",
    "    mae_model = np.mean(np.abs(hourly_hexagon_y_train - hourly_hexagon_y_pred_linear_train))\n",
    "    \n",
    "    # Calculate MAE of the mean forecast\n",
    "    mae_mean = np.mean(np.abs(hourly_hexagon_y_train - y_mean))\n",
    "    \n",
    "    # Calculate MASE\n",
    "    mase_value = mae_model / mae_mean\n",
    "    return mase_value\n",
    "\n",
    "hourly_hexagon_mase_linear_train = mase(hourly_hexagon_y_train, hourly_hexagon_y_pred_linear_train)\n",
    "\n",
    "hourly_hexagon_mape_linear_train = mean_absolute_percentage_error(hourly_hexagon_y_train, hourly_hexagon_y_pred_linear_train)\n",
    "\n",
    "# Custom function for SMAPE\n",
    "def smape(hourly_hexagon_y_train, hourly_hexagon_y_pred_linear_train):\n",
    "    return 100 * np.mean(2 * np.abs(hourly_hexagon_y_pred_linear_train - hourly_hexagon_y_train) / (np.abs(hourly_hexagon_y_pred_linear_train) + np.abs(hourly_hexagon_y_train)))\n",
    "\n",
    "hourly_hexagon_smape_linear_train = smape(hourly_hexagon_y_train, hourly_hexagon_y_pred_linear_train)\n",
    "\n",
    "print(f'hourly_hexagon SVM Model linear kernel (train) - MAE: {hourly_hexagon_mae_linear_train}, MSE: {hourly_hexagon_mse_linear_train}, RMSE: {hourly_hexagon_rmse_linear_train}, R2: {hourly_hexagon_r2_linear_train}, MASE: {hourly_hexagon_mase_linear_train}, MAPE: {hourly_hexagon_mape_linear_train}, SMAPE: {hourly_hexagon_smape_linear_train}')"
   ]
  },
  {
   "cell_type": "code",
   "execution_count": 50,
   "metadata": {},
   "outputs": [
    {
     "name": "stdout",
     "output_type": "stream",
     "text": [
      "hourly_hexagon SVM Model linear kernel (test) - MAE: 0.16975494224104742, MSE: 0.4075116569043201, RMSE: 0.6383663970670136, R2: 0.592485131839213, MASE: 0.4615531314716895, MAPE: 0.839942791419351, SMAPE: 41.66600038969502\n"
     ]
    }
   ],
   "source": [
    "# Evaluate on the testing set\n",
    "hourly_hexagon_mae_linear_test = mean_absolute_error(hourly_hexagon_y_test, hourly_hexagon_y_pred_linear_test)\n",
    "hourly_hexagon_mse_linear_test = mean_squared_error(hourly_hexagon_y_test, hourly_hexagon_y_pred_linear_test)\n",
    "hourly_hexagon_rmse_linear_test = np.sqrt(hourly_hexagon_mse_linear_test)\n",
    "hourly_hexagon_r2_linear_test = r2_score(hourly_hexagon_y_test, hourly_hexagon_y_pred_linear_test)\n",
    "\n",
    "def mase(hourly_hexagon_y_test, hourly_hexagon_y_pred_linear_test):\n",
    "    # Calculate the mean of the observed values\n",
    "    y_mean = np.mean(hourly_hexagon_y_test)\n",
    "    \n",
    "    # Calculate MAE of the model\n",
    "    mae_model = np.mean(np.abs(hourly_hexagon_y_test - hourly_hexagon_y_pred_linear_test))\n",
    "    \n",
    "    # Calculate MAE of the mean forecast\n",
    "    mae_mean = np.mean(np.abs(hourly_hexagon_y_test - y_mean))\n",
    "    \n",
    "    # Calculate MASE\n",
    "    mase_value = mae_model / mae_mean\n",
    "    return mase_value\n",
    "\n",
    "hourly_hexagon_mase_linear_test = mase(hourly_hexagon_y_test, hourly_hexagon_y_pred_linear_test)\n",
    "\n",
    "hourly_hexagon_mape_linear_test = mean_absolute_percentage_error(hourly_hexagon_y_test, hourly_hexagon_y_pred_linear_test)\n",
    "\n",
    "# Custom function for SMAPE\n",
    "def smape(hourly_hexagon_y_test, hourly_hexagon_y_pred_linear_test):\n",
    "    return 100 * np.mean(2 * np.abs(hourly_hexagon_y_pred_linear_test - hourly_hexagon_y_test) / (np.abs(hourly_hexagon_y_pred_linear_test) + np.abs(hourly_hexagon_y_test)))\n",
    "\n",
    "hourly_hexagon_smape_linear_test = smape(hourly_hexagon_y_test, hourly_hexagon_y_pred_linear_test)\n",
    "\n",
    "print(f'hourly_hexagon SVM Model linear kernel (test) - MAE: {hourly_hexagon_mae_linear_test}, MSE: {hourly_hexagon_mse_linear_test}, RMSE: {hourly_hexagon_rmse_linear_test}, R2: {hourly_hexagon_r2_linear_test}, MASE: {hourly_hexagon_mase_linear_test}, MAPE: {hourly_hexagon_mape_linear_test}, SMAPE: {hourly_hexagon_smape_linear_test}')"
   ]
  },
  {
   "cell_type": "markdown",
   "metadata": {},
   "source": [
    "### hourly hexagon with grid searching"
   ]
  },
  {
   "cell_type": "code",
   "execution_count": 51,
   "metadata": {},
   "outputs": [
    {
     "name": "stdout",
     "output_type": "stream",
     "text": [
      "[LibLinear]"
     ]
    },
    {
     "name": "stderr",
     "output_type": "stream",
     "text": [
      "C:\\Users\\A1DF42D\\AppData\\Roaming\\Python\\Python310\\site-packages\\sklearn\\svm\\_base.py:1235: ConvergenceWarning: Liblinear failed to converge, increase the number of iterations.\n",
      "  warnings.warn(\n"
     ]
    },
    {
     "name": "stdout",
     "output_type": "stream",
     "text": [
      "[LibLinear]"
     ]
    },
    {
     "name": "stderr",
     "output_type": "stream",
     "text": [
      "C:\\Users\\A1DF42D\\AppData\\Roaming\\Python\\Python310\\site-packages\\sklearn\\svm\\_base.py:1235: ConvergenceWarning: Liblinear failed to converge, increase the number of iterations.\n",
      "  warnings.warn(\n"
     ]
    },
    {
     "name": "stdout",
     "output_type": "stream",
     "text": [
      "[LibLinear]"
     ]
    },
    {
     "name": "stderr",
     "output_type": "stream",
     "text": [
      "C:\\Users\\A1DF42D\\AppData\\Roaming\\Python\\Python310\\site-packages\\sklearn\\svm\\_base.py:1235: ConvergenceWarning: Liblinear failed to converge, increase the number of iterations.\n",
      "  warnings.warn(\n"
     ]
    },
    {
     "name": "stdout",
     "output_type": "stream",
     "text": [
      "[LibLinear]"
     ]
    },
    {
     "name": "stderr",
     "output_type": "stream",
     "text": [
      "C:\\Users\\A1DF42D\\AppData\\Roaming\\Python\\Python310\\site-packages\\sklearn\\svm\\_base.py:1235: ConvergenceWarning: Liblinear failed to converge, increase the number of iterations.\n",
      "  warnings.warn(\n"
     ]
    },
    {
     "name": "stdout",
     "output_type": "stream",
     "text": [
      "[LibLinear]"
     ]
    },
    {
     "name": "stderr",
     "output_type": "stream",
     "text": [
      "C:\\Users\\A1DF42D\\AppData\\Roaming\\Python\\Python310\\site-packages\\sklearn\\svm\\_base.py:1235: ConvergenceWarning: Liblinear failed to converge, increase the number of iterations.\n",
      "  warnings.warn(\n"
     ]
    },
    {
     "name": "stdout",
     "output_type": "stream",
     "text": [
      "[LibLinear]"
     ]
    },
    {
     "name": "stderr",
     "output_type": "stream",
     "text": [
      "C:\\Users\\A1DF42D\\AppData\\Roaming\\Python\\Python310\\site-packages\\sklearn\\svm\\_base.py:1235: ConvergenceWarning: Liblinear failed to converge, increase the number of iterations.\n",
      "  warnings.warn(\n"
     ]
    },
    {
     "name": "stdout",
     "output_type": "stream",
     "text": [
      "[LibLinear]"
     ]
    },
    {
     "name": "stderr",
     "output_type": "stream",
     "text": [
      "C:\\Users\\A1DF42D\\AppData\\Roaming\\Python\\Python310\\site-packages\\sklearn\\svm\\_base.py:1235: ConvergenceWarning: Liblinear failed to converge, increase the number of iterations.\n",
      "  warnings.warn(\n"
     ]
    },
    {
     "name": "stdout",
     "output_type": "stream",
     "text": [
      "[LibLinear]"
     ]
    },
    {
     "name": "stderr",
     "output_type": "stream",
     "text": [
      "C:\\Users\\A1DF42D\\AppData\\Roaming\\Python\\Python310\\site-packages\\sklearn\\svm\\_base.py:1235: ConvergenceWarning: Liblinear failed to converge, increase the number of iterations.\n",
      "  warnings.warn(\n"
     ]
    },
    {
     "name": "stdout",
     "output_type": "stream",
     "text": [
      "[LibLinear]"
     ]
    },
    {
     "name": "stderr",
     "output_type": "stream",
     "text": [
      "C:\\Users\\A1DF42D\\AppData\\Roaming\\Python\\Python310\\site-packages\\sklearn\\svm\\_base.py:1235: ConvergenceWarning: Liblinear failed to converge, increase the number of iterations.\n",
      "  warnings.warn(\n"
     ]
    },
    {
     "name": "stdout",
     "output_type": "stream",
     "text": [
      "[LibLinear]"
     ]
    },
    {
     "name": "stderr",
     "output_type": "stream",
     "text": [
      "C:\\Users\\A1DF42D\\AppData\\Roaming\\Python\\Python310\\site-packages\\sklearn\\svm\\_base.py:1235: ConvergenceWarning: Liblinear failed to converge, increase the number of iterations.\n",
      "  warnings.warn(\n"
     ]
    },
    {
     "name": "stdout",
     "output_type": "stream",
     "text": [
      "[LibLinear]"
     ]
    },
    {
     "name": "stderr",
     "output_type": "stream",
     "text": [
      "C:\\Users\\A1DF42D\\AppData\\Roaming\\Python\\Python310\\site-packages\\sklearn\\svm\\_base.py:1235: ConvergenceWarning: Liblinear failed to converge, increase the number of iterations.\n",
      "  warnings.warn(\n"
     ]
    },
    {
     "name": "stdout",
     "output_type": "stream",
     "text": [
      "[LibLinear]"
     ]
    },
    {
     "name": "stderr",
     "output_type": "stream",
     "text": [
      "C:\\Users\\A1DF42D\\AppData\\Roaming\\Python\\Python310\\site-packages\\sklearn\\svm\\_base.py:1235: ConvergenceWarning: Liblinear failed to converge, increase the number of iterations.\n",
      "  warnings.warn(\n"
     ]
    },
    {
     "name": "stdout",
     "output_type": "stream",
     "text": [
      "[LibLinear]"
     ]
    },
    {
     "name": "stderr",
     "output_type": "stream",
     "text": [
      "C:\\Users\\A1DF42D\\AppData\\Roaming\\Python\\Python310\\site-packages\\sklearn\\svm\\_base.py:1235: ConvergenceWarning: Liblinear failed to converge, increase the number of iterations.\n",
      "  warnings.warn(\n"
     ]
    },
    {
     "name": "stdout",
     "output_type": "stream",
     "text": [
      "[LibLinear]"
     ]
    },
    {
     "name": "stderr",
     "output_type": "stream",
     "text": [
      "C:\\Users\\A1DF42D\\AppData\\Roaming\\Python\\Python310\\site-packages\\sklearn\\svm\\_base.py:1235: ConvergenceWarning: Liblinear failed to converge, increase the number of iterations.\n",
      "  warnings.warn(\n"
     ]
    },
    {
     "name": "stdout",
     "output_type": "stream",
     "text": [
      "[LibLinear]"
     ]
    },
    {
     "name": "stderr",
     "output_type": "stream",
     "text": [
      "C:\\Users\\A1DF42D\\AppData\\Roaming\\Python\\Python310\\site-packages\\sklearn\\svm\\_base.py:1235: ConvergenceWarning: Liblinear failed to converge, increase the number of iterations.\n",
      "  warnings.warn(\n"
     ]
    },
    {
     "name": "stdout",
     "output_type": "stream",
     "text": [
      "[LibLinear]"
     ]
    },
    {
     "name": "stderr",
     "output_type": "stream",
     "text": [
      "C:\\Users\\A1DF42D\\AppData\\Roaming\\Python\\Python310\\site-packages\\sklearn\\svm\\_base.py:1235: ConvergenceWarning: Liblinear failed to converge, increase the number of iterations.\n",
      "  warnings.warn(\n"
     ]
    },
    {
     "name": "stdout",
     "output_type": "stream",
     "text": [
      "[LibLinear]"
     ]
    },
    {
     "name": "stderr",
     "output_type": "stream",
     "text": [
      "C:\\Users\\A1DF42D\\AppData\\Roaming\\Python\\Python310\\site-packages\\sklearn\\svm\\_base.py:1235: ConvergenceWarning: Liblinear failed to converge, increase the number of iterations.\n",
      "  warnings.warn(\n"
     ]
    },
    {
     "name": "stdout",
     "output_type": "stream",
     "text": [
      "[LibLinear]"
     ]
    },
    {
     "name": "stderr",
     "output_type": "stream",
     "text": [
      "C:\\Users\\A1DF42D\\AppData\\Roaming\\Python\\Python310\\site-packages\\sklearn\\svm\\_base.py:1235: ConvergenceWarning: Liblinear failed to converge, increase the number of iterations.\n",
      "  warnings.warn(\n"
     ]
    },
    {
     "name": "stdout",
     "output_type": "stream",
     "text": [
      "[LibLinear]"
     ]
    },
    {
     "name": "stderr",
     "output_type": "stream",
     "text": [
      "C:\\Users\\A1DF42D\\AppData\\Roaming\\Python\\Python310\\site-packages\\sklearn\\svm\\_base.py:1235: ConvergenceWarning: Liblinear failed to converge, increase the number of iterations.\n",
      "  warnings.warn(\n"
     ]
    },
    {
     "name": "stdout",
     "output_type": "stream",
     "text": [
      "[LibLinear]"
     ]
    },
    {
     "name": "stderr",
     "output_type": "stream",
     "text": [
      "C:\\Users\\A1DF42D\\AppData\\Roaming\\Python\\Python310\\site-packages\\sklearn\\svm\\_base.py:1235: ConvergenceWarning: Liblinear failed to converge, increase the number of iterations.\n",
      "  warnings.warn(\n"
     ]
    },
    {
     "name": "stdout",
     "output_type": "stream",
     "text": [
      "[LibLinear]"
     ]
    },
    {
     "name": "stderr",
     "output_type": "stream",
     "text": [
      "C:\\Users\\A1DF42D\\AppData\\Roaming\\Python\\Python310\\site-packages\\sklearn\\svm\\_base.py:1235: ConvergenceWarning: Liblinear failed to converge, increase the number of iterations.\n",
      "  warnings.warn(\n"
     ]
    },
    {
     "name": "stdout",
     "output_type": "stream",
     "text": [
      "[LibLinear]"
     ]
    },
    {
     "name": "stderr",
     "output_type": "stream",
     "text": [
      "C:\\Users\\A1DF42D\\AppData\\Roaming\\Python\\Python310\\site-packages\\sklearn\\svm\\_base.py:1235: ConvergenceWarning: Liblinear failed to converge, increase the number of iterations.\n",
      "  warnings.warn(\n"
     ]
    },
    {
     "name": "stdout",
     "output_type": "stream",
     "text": [
      "[LibLinear]"
     ]
    },
    {
     "name": "stderr",
     "output_type": "stream",
     "text": [
      "C:\\Users\\A1DF42D\\AppData\\Roaming\\Python\\Python310\\site-packages\\sklearn\\svm\\_base.py:1235: ConvergenceWarning: Liblinear failed to converge, increase the number of iterations.\n",
      "  warnings.warn(\n"
     ]
    },
    {
     "name": "stdout",
     "output_type": "stream",
     "text": [
      "[LibLinear]"
     ]
    },
    {
     "name": "stderr",
     "output_type": "stream",
     "text": [
      "C:\\Users\\A1DF42D\\AppData\\Roaming\\Python\\Python310\\site-packages\\sklearn\\svm\\_base.py:1235: ConvergenceWarning: Liblinear failed to converge, increase the number of iterations.\n",
      "  warnings.warn(\n"
     ]
    },
    {
     "name": "stdout",
     "output_type": "stream",
     "text": [
      "[LibLinear]"
     ]
    },
    {
     "name": "stderr",
     "output_type": "stream",
     "text": [
      "C:\\Users\\A1DF42D\\AppData\\Roaming\\Python\\Python310\\site-packages\\sklearn\\svm\\_base.py:1235: ConvergenceWarning: Liblinear failed to converge, increase the number of iterations.\n",
      "  warnings.warn(\n"
     ]
    },
    {
     "name": "stdout",
     "output_type": "stream",
     "text": [
      "[LibLinear]"
     ]
    },
    {
     "name": "stderr",
     "output_type": "stream",
     "text": [
      "C:\\Users\\A1DF42D\\AppData\\Roaming\\Python\\Python310\\site-packages\\sklearn\\svm\\_base.py:1235: ConvergenceWarning: Liblinear failed to converge, increase the number of iterations.\n",
      "  warnings.warn(\n"
     ]
    },
    {
     "name": "stdout",
     "output_type": "stream",
     "text": [
      "Best parameters for linear kernel: {'C': 0.1}\n"
     ]
    }
   ],
   "source": [
    "# Parameter grid for LinearSVR\n",
    "hourly_hexagon_param_grid_linear = {\n",
    "    'C': [0.1, 1, 10, 100, 1000]\n",
    "}\n",
    "\n",
    "# Initialize and perform Grid Search for LinearSVR\n",
    "hourly_hexagon_grid_search_linear = GridSearchCV(LinearSVR(verbose=True), hourly_hexagon_param_grid_linear, cv=5, scoring='neg_mean_absolute_error')\n",
    "hourly_hexagon_grid_search_linear.fit(hourly_hexagon_X_train, hourly_hexagon_y_train)\n",
    "\n",
    "# Best parameters from Grid Search\n",
    "print(f'Best parameters for linear kernel: {hourly_hexagon_grid_search_linear.best_params_}')\n",
    "\n",
    "# Get the best model from grid search\n",
    "best_svm_linear = hourly_hexagon_grid_search_linear.best_estimator_\n",
    "\n",
    "# Predict on the test set\n",
    "hourly_hexagon_best_svm_linear_test = best_svm_linear.predict(hourly_hexagon_X_test)\n",
    "\n",
    "# Predict on the training set\n",
    "hourly_hexagon_best_svm_linear_train = best_svm_linear.predict(hourly_hexagon_X_train)"
   ]
  },
  {
   "cell_type": "code",
   "execution_count": 52,
   "metadata": {},
   "outputs": [],
   "source": [
    "# Evaluate on the training set\n",
    "hourly_hexagon_best_mae_linear_train = mean_absolute_error(hourly_hexagon_y_train, hourly_hexagon_best_svm_linear_train)\n",
    "hourly_hexagon_best_mse_linear_train = mean_squared_error(hourly_hexagon_y_train, hourly_hexagon_best_svm_linear_train)\n",
    "hourly_hexagon_best_rmse_linear_train = np.sqrt(hourly_hexagon_best_mse_linear_train)\n",
    "hourly_hexagon_best_r2_linear_train = r2_score(hourly_hexagon_y_train, hourly_hexagon_best_svm_linear_train)\n",
    "\n",
    "def mase(hourly_hexagon_y_train, hourly_hexagon_best_svm_linear_train):\n",
    "    # Calculate the mean of the observed values\n",
    "    y_mean = np.mean(hourly_hexagon_y_train)\n",
    "    \n",
    "    # Calculate MAE of the model\n",
    "    mae_model = np.mean(np.abs(hourly_hexagon_y_train - hourly_hexagon_best_svm_linear_train))\n",
    "    \n",
    "    # Calculate MAE of the mean forecast\n",
    "    mae_mean = np.mean(np.abs(hourly_hexagon_y_train - y_mean))\n",
    "    \n",
    "    # Calculate MASE\n",
    "    mase_value = mae_model / mae_mean\n",
    "    return mase_value\n",
    "\n",
    "hourly_hexagon_best_mase_linear_train = mase(hourly_hexagon_y_train, hourly_hexagon_best_svm_linear_train)\n",
    "\n",
    "hourly_hexagon_best_mape_linear_train = mean_absolute_percentage_error(hourly_hexagon_y_train, hourly_hexagon_best_svm_linear_train)\n",
    "\n",
    "# Custom function for SMAPE\n",
    "def smape(hourly_hexagon_y_train, hourly_hexagon_best_svm_linear_train):\n",
    "    return 100 * np.mean(2 * np.abs(hourly_hexagon_best_svm_linear_train - hourly_hexagon_y_train) / (np.abs(hourly_hexagon_best_svm_linear_train) + np.abs(hourly_hexagon_y_train)))\n",
    "\n",
    "hourly_hexagon_best_smape_linear_train = smape(hourly_hexagon_y_train, hourly_hexagon_best_svm_linear_train)\n",
    "\n",
    "print(f'hourly_hexagon SVM Model linear kernel (train) - MAE: {hourly_hexagon_best_mae_linear_train}, MSE: {hourly_hexagon_best_mse_linear_train}, RMSE: {hourly_hexagon_best_rmse_linear_train}, R2: {hourly_hexagon_best_r2_linear_train}, MASE: {hourly_hexagon_best_mase_linear_train}, MAPE: {hourly_hexagon_best_mape_linear_train}, SMAPE: {hourly_hexagon_best_smape_linear_train}')"
   ]
  },
  {
   "cell_type": "code",
   "execution_count": 53,
   "metadata": {},
   "outputs": [
    {
     "name": "stdout",
     "output_type": "stream",
     "text": [
      "hourly_hexagon SVM Model linear kernel (test) - MAE: 0.16847870957783911, MSE: 0.405647247111871, RMSE: 0.6369044254139478, R2: 0.5943495563235068, MASE: 0.458083134224989, MAPE: 0.8313244482505456, SMAPE: 40.84497830994766\n"
     ]
    }
   ],
   "source": [
    "# Evaluate on the testing set\n",
    "hourly_hexagon_best_mae_linear_test = mean_absolute_error(hourly_hexagon_y_test, hourly_hexagon_best_svm_linear_test)\n",
    "hourly_hexagon_best_mse_linear_test = mean_squared_error(hourly_hexagon_y_test, hourly_hexagon_best_svm_linear_test)\n",
    "hourly_hexagon_best_rmse_linear_test = np.sqrt(hourly_hexagon_best_mse_linear_test)\n",
    "hourly_hexagon_best_r2_linear_test = r2_score(hourly_hexagon_y_test, hourly_hexagon_best_svm_linear_test)\n",
    "\n",
    "def mase(hourly_hexagon_y_test, hourly_hexagon_best_svm_linear_test):\n",
    "    # Calculate the mean of the observed values\n",
    "    y_mean = np.mean(hourly_hexagon_y_test)\n",
    "    \n",
    "    # Calculate MAE of the model\n",
    "    mae_model = np.mean(np.abs(hourly_hexagon_y_test - hourly_hexagon_best_svm_linear_test))\n",
    "    \n",
    "    # Calculate MAE of the mean forecast\n",
    "    mae_mean = np.mean(np.abs(hourly_hexagon_y_test - y_mean))\n",
    "    \n",
    "    # Calculate MASE\n",
    "    mase_value = mae_model / mae_mean\n",
    "    return mase_value\n",
    "\n",
    "hourly_hexagon_best_mase_linear_test = mase(hourly_hexagon_y_test, hourly_hexagon_best_svm_linear_test)\n",
    "\n",
    "hourly_hexagon_best_mape_linear_test = mean_absolute_percentage_error(hourly_hexagon_y_test, hourly_hexagon_best_svm_linear_test)\n",
    "\n",
    "# Custom function for SMAPE\n",
    "def smape(hourly_hexagon_y_test, hourly_hexagon_best_svm_linear_test):\n",
    "    return 100 * np.mean(2 * np.abs(hourly_hexagon_best_svm_linear_test - hourly_hexagon_y_test) / (np.abs(hourly_hexagon_best_svm_linear_test) + np.abs(hourly_hexagon_y_test)))\n",
    "\n",
    "hourly_hexagon_best_smape_linear_test = smape(hourly_hexagon_y_test, hourly_hexagon_best_svm_linear_test)\n",
    "\n",
    "print(f'hourly_hexagon SVM Model linear kernel (test) - MAE: {hourly_hexagon_best_mae_linear_test}, MSE: {hourly_hexagon_best_mse_linear_test}, RMSE: {hourly_hexagon_best_rmse_linear_test}, R2: {hourly_hexagon_best_r2_linear_test}, MASE: {hourly_hexagon_best_mase_linear_test}, MAPE: {hourly_hexagon_best_mape_linear_test}, SMAPE: {hourly_hexagon_best_smape_linear_test}')"
   ]
  },
  {
   "cell_type": "markdown",
   "metadata": {},
   "source": [
    "### daily census without grid searching"
   ]
  },
  {
   "cell_type": "code",
   "execution_count": 54,
   "metadata": {},
   "outputs": [
    {
     "name": "stdout",
     "output_type": "stream",
     "text": [
      "[LibLinear]"
     ]
    },
    {
     "name": "stderr",
     "output_type": "stream",
     "text": [
      "C:\\Users\\A1DF42D\\AppData\\Roaming\\Python\\Python310\\site-packages\\sklearn\\svm\\_base.py:1235: ConvergenceWarning: Liblinear failed to converge, increase the number of iterations.\n",
      "  warnings.warn(\n"
     ]
    }
   ],
   "source": [
    "# Train SVM model with linear kernel\n",
    "daily_census_svm_linear = LinearSVR(verbose=True)\n",
    "daily_census_svm_linear.fit(daily_census_X_train, daily_census_y_train)\n",
    "\n",
    "# Predict on the test set\n",
    "daily_census_y_pred_linear_test = daily_census_svm_linear.predict(daily_census_X_test)\n",
    "\n",
    "# Predict on the training set\n",
    "daily_census_y_pred_linear_train = daily_census_svm_linear.predict(daily_census_X_train)"
   ]
  },
  {
   "cell_type": "code",
   "execution_count": 55,
   "metadata": {},
   "outputs": [],
   "source": [
    "# Evaluate on the training set\n",
    "daily_census_mae_linear_train = mean_absolute_error(daily_census_y_train, daily_census_y_pred_linear_train)\n",
    "daily_census_mse_linear_train = mean_squared_error(daily_census_y_train, daily_census_y_pred_linear_train)\n",
    "daily_census_rmse_linear_train = np.sqrt(daily_census_mse_linear_train)\n",
    "daily_census_r2_linear_train = r2_score(daily_census_y_train, daily_census_y_pred_linear_train)\n",
    "\n",
    "def mase(daily_census_y_train, daily_census_y_pred_linear_train):\n",
    "    # Calculate the mean of the observed values\n",
    "    y_mean = np.mean(daily_census_y_train)\n",
    "    \n",
    "    # Calculate MAE of the model\n",
    "    mae_model = np.mean(np.abs(daily_census_y_train - daily_census_y_pred_linear_train))\n",
    "    \n",
    "    # Calculate MAE of the mean forecast\n",
    "    mae_mean = np.mean(np.abs(daily_census_y_train - y_mean))\n",
    "    \n",
    "    # Calculate MASE\n",
    "    mase_value = mae_model / mae_mean\n",
    "    return mase_value\n",
    "\n",
    "daily_census_mase_linear_train = mase(daily_census_y_train, daily_census_y_pred_linear_train)\n",
    "\n",
    "daily_census_mape_linear_train = mean_absolute_percentage_error(daily_census_y_train, daily_census_y_pred_linear_train)\n",
    "\n",
    "# Custom function for SMAPE\n",
    "def smape(daily_census_y_train, daily_census_y_pred_linear_train):\n",
    "    return 100 * np.mean(2 * np.abs(daily_census_y_pred_linear_train - daily_census_y_train) / (np.abs(daily_census_y_pred_linear_train) + np.abs(daily_census_y_train)))\n",
    "\n",
    "daily_census_smape_linear_train = smape(daily_census_y_train, daily_census_y_pred_linear_train)\n",
    "\n",
    "print(f'daily_census SVM Model linear kernel (train) - MAE: {daily_census_mae_linear_train}, MSE: {daily_census_mse_linear_train}, RMSE: {daily_census_rmse_linear_train}, R2: {daily_census_r2_linear_train}, MASE: {daily_census_mase_linear_train}, MAPE: {daily_census_mape_linear_train}, SMAPE: {daily_census_smape_linear_train}')"
   ]
  },
  {
   "cell_type": "code",
   "execution_count": 56,
   "metadata": {},
   "outputs": [
    {
     "name": "stdout",
     "output_type": "stream",
     "text": [
      "daily_census SVM Model linear kernel (test) - MAE: 0.09911384472625229, MSE: 0.11014623823146535, RMSE: 0.33188286824038593, R2: 0.889842270246549, MASE: 0.21196799116364298, MAPE: 0.9021408741103316, SMAPE: 22.832067612488373\n"
     ]
    }
   ],
   "source": [
    "# Evaluate on the testing set\n",
    "daily_census_mae_linear_test = mean_absolute_error(daily_census_y_test, daily_census_y_pred_linear_test)\n",
    "daily_census_mse_linear_test = mean_squared_error(daily_census_y_test, daily_census_y_pred_linear_test)\n",
    "daily_census_rmse_linear_test = np.sqrt(daily_census_mse_linear_test)\n",
    "daily_census_r2_linear_test = r2_score(daily_census_y_test, daily_census_y_pred_linear_test)\n",
    "\n",
    "def mase(daily_census_y_test, daily_census_y_pred_linear_test):\n",
    "    # Calculate the mean of the observed values\n",
    "    y_mean = np.mean(daily_census_y_test)\n",
    "    \n",
    "    # Calculate MAE of the model\n",
    "    mae_model = np.mean(np.abs(daily_census_y_test - daily_census_y_pred_linear_test))\n",
    "    \n",
    "    # Calculate MAE of the mean forecast\n",
    "    mae_mean = np.mean(np.abs(daily_census_y_test - y_mean))\n",
    "    \n",
    "    # Calculate MASE\n",
    "    mase_value = mae_model / mae_mean\n",
    "    return mase_value\n",
    "\n",
    "daily_census_mase_linear_test = mase(daily_census_y_test, daily_census_y_pred_linear_test)\n",
    "\n",
    "daily_census_mape_linear_test = mean_absolute_percentage_error(daily_census_y_test, daily_census_y_pred_linear_test)\n",
    "\n",
    "# Custom function for SMAPE\n",
    "def smape(daily_census_y_test, daily_census_y_pred_linear_test):\n",
    "    return 100 * np.mean(2 * np.abs(daily_census_y_pred_linear_test - daily_census_y_test) / (np.abs(daily_census_y_pred_linear_test) + np.abs(daily_census_y_test)))\n",
    "\n",
    "daily_census_smape_linear_test = smape(daily_census_y_test, daily_census_y_pred_linear_test)\n",
    "\n",
    "print(f'daily_census SVM Model linear kernel (test) - MAE: {daily_census_mae_linear_test}, MSE: {daily_census_mse_linear_test}, RMSE: {daily_census_rmse_linear_test}, R2: {daily_census_r2_linear_test}, MASE: {daily_census_mase_linear_test}, MAPE: {daily_census_mape_linear_test}, SMAPE: {daily_census_smape_linear_test}')"
   ]
  },
  {
   "cell_type": "markdown",
   "metadata": {},
   "source": [
    "### daily census with grid searching"
   ]
  },
  {
   "cell_type": "code",
   "execution_count": 57,
   "metadata": {},
   "outputs": [
    {
     "name": "stdout",
     "output_type": "stream",
     "text": [
      "[LibLinear]"
     ]
    },
    {
     "name": "stderr",
     "output_type": "stream",
     "text": [
      "C:\\Users\\A1DF42D\\AppData\\Roaming\\Python\\Python310\\site-packages\\sklearn\\svm\\_base.py:1235: ConvergenceWarning: Liblinear failed to converge, increase the number of iterations.\n",
      "  warnings.warn(\n"
     ]
    },
    {
     "name": "stdout",
     "output_type": "stream",
     "text": [
      "[LibLinear]"
     ]
    },
    {
     "name": "stderr",
     "output_type": "stream",
     "text": [
      "C:\\Users\\A1DF42D\\AppData\\Roaming\\Python\\Python310\\site-packages\\sklearn\\svm\\_base.py:1235: ConvergenceWarning: Liblinear failed to converge, increase the number of iterations.\n",
      "  warnings.warn(\n"
     ]
    },
    {
     "name": "stdout",
     "output_type": "stream",
     "text": [
      "[LibLinear]"
     ]
    },
    {
     "name": "stderr",
     "output_type": "stream",
     "text": [
      "C:\\Users\\A1DF42D\\AppData\\Roaming\\Python\\Python310\\site-packages\\sklearn\\svm\\_base.py:1235: ConvergenceWarning: Liblinear failed to converge, increase the number of iterations.\n",
      "  warnings.warn(\n"
     ]
    },
    {
     "name": "stdout",
     "output_type": "stream",
     "text": [
      "[LibLinear]"
     ]
    },
    {
     "name": "stderr",
     "output_type": "stream",
     "text": [
      "C:\\Users\\A1DF42D\\AppData\\Roaming\\Python\\Python310\\site-packages\\sklearn\\svm\\_base.py:1235: ConvergenceWarning: Liblinear failed to converge, increase the number of iterations.\n",
      "  warnings.warn(\n"
     ]
    },
    {
     "name": "stdout",
     "output_type": "stream",
     "text": [
      "[LibLinear]"
     ]
    },
    {
     "name": "stderr",
     "output_type": "stream",
     "text": [
      "C:\\Users\\A1DF42D\\AppData\\Roaming\\Python\\Python310\\site-packages\\sklearn\\svm\\_base.py:1235: ConvergenceWarning: Liblinear failed to converge, increase the number of iterations.\n",
      "  warnings.warn(\n"
     ]
    },
    {
     "name": "stdout",
     "output_type": "stream",
     "text": [
      "[LibLinear]"
     ]
    },
    {
     "name": "stderr",
     "output_type": "stream",
     "text": [
      "C:\\Users\\A1DF42D\\AppData\\Roaming\\Python\\Python310\\site-packages\\sklearn\\svm\\_base.py:1235: ConvergenceWarning: Liblinear failed to converge, increase the number of iterations.\n",
      "  warnings.warn(\n"
     ]
    },
    {
     "name": "stdout",
     "output_type": "stream",
     "text": [
      "[LibLinear]"
     ]
    },
    {
     "name": "stderr",
     "output_type": "stream",
     "text": [
      "C:\\Users\\A1DF42D\\AppData\\Roaming\\Python\\Python310\\site-packages\\sklearn\\svm\\_base.py:1235: ConvergenceWarning: Liblinear failed to converge, increase the number of iterations.\n",
      "  warnings.warn(\n"
     ]
    },
    {
     "name": "stdout",
     "output_type": "stream",
     "text": [
      "[LibLinear]"
     ]
    },
    {
     "name": "stderr",
     "output_type": "stream",
     "text": [
      "C:\\Users\\A1DF42D\\AppData\\Roaming\\Python\\Python310\\site-packages\\sklearn\\svm\\_base.py:1235: ConvergenceWarning: Liblinear failed to converge, increase the number of iterations.\n",
      "  warnings.warn(\n"
     ]
    },
    {
     "name": "stdout",
     "output_type": "stream",
     "text": [
      "[LibLinear]"
     ]
    },
    {
     "name": "stderr",
     "output_type": "stream",
     "text": [
      "C:\\Users\\A1DF42D\\AppData\\Roaming\\Python\\Python310\\site-packages\\sklearn\\svm\\_base.py:1235: ConvergenceWarning: Liblinear failed to converge, increase the number of iterations.\n",
      "  warnings.warn(\n"
     ]
    },
    {
     "name": "stdout",
     "output_type": "stream",
     "text": [
      "[LibLinear]"
     ]
    },
    {
     "name": "stderr",
     "output_type": "stream",
     "text": [
      "C:\\Users\\A1DF42D\\AppData\\Roaming\\Python\\Python310\\site-packages\\sklearn\\svm\\_base.py:1235: ConvergenceWarning: Liblinear failed to converge, increase the number of iterations.\n",
      "  warnings.warn(\n"
     ]
    },
    {
     "name": "stdout",
     "output_type": "stream",
     "text": [
      "[LibLinear]"
     ]
    },
    {
     "name": "stderr",
     "output_type": "stream",
     "text": [
      "C:\\Users\\A1DF42D\\AppData\\Roaming\\Python\\Python310\\site-packages\\sklearn\\svm\\_base.py:1235: ConvergenceWarning: Liblinear failed to converge, increase the number of iterations.\n",
      "  warnings.warn(\n"
     ]
    },
    {
     "name": "stdout",
     "output_type": "stream",
     "text": [
      "[LibLinear]"
     ]
    },
    {
     "name": "stderr",
     "output_type": "stream",
     "text": [
      "C:\\Users\\A1DF42D\\AppData\\Roaming\\Python\\Python310\\site-packages\\sklearn\\svm\\_base.py:1235: ConvergenceWarning: Liblinear failed to converge, increase the number of iterations.\n",
      "  warnings.warn(\n"
     ]
    },
    {
     "name": "stdout",
     "output_type": "stream",
     "text": [
      "[LibLinear]"
     ]
    },
    {
     "name": "stderr",
     "output_type": "stream",
     "text": [
      "C:\\Users\\A1DF42D\\AppData\\Roaming\\Python\\Python310\\site-packages\\sklearn\\svm\\_base.py:1235: ConvergenceWarning: Liblinear failed to converge, increase the number of iterations.\n",
      "  warnings.warn(\n"
     ]
    },
    {
     "name": "stdout",
     "output_type": "stream",
     "text": [
      "[LibLinear]"
     ]
    },
    {
     "name": "stderr",
     "output_type": "stream",
     "text": [
      "C:\\Users\\A1DF42D\\AppData\\Roaming\\Python\\Python310\\site-packages\\sklearn\\svm\\_base.py:1235: ConvergenceWarning: Liblinear failed to converge, increase the number of iterations.\n",
      "  warnings.warn(\n"
     ]
    },
    {
     "name": "stdout",
     "output_type": "stream",
     "text": [
      "[LibLinear]"
     ]
    },
    {
     "name": "stderr",
     "output_type": "stream",
     "text": [
      "C:\\Users\\A1DF42D\\AppData\\Roaming\\Python\\Python310\\site-packages\\sklearn\\svm\\_base.py:1235: ConvergenceWarning: Liblinear failed to converge, increase the number of iterations.\n",
      "  warnings.warn(\n"
     ]
    },
    {
     "name": "stdout",
     "output_type": "stream",
     "text": [
      "[LibLinear]"
     ]
    },
    {
     "name": "stderr",
     "output_type": "stream",
     "text": [
      "C:\\Users\\A1DF42D\\AppData\\Roaming\\Python\\Python310\\site-packages\\sklearn\\svm\\_base.py:1235: ConvergenceWarning: Liblinear failed to converge, increase the number of iterations.\n",
      "  warnings.warn(\n"
     ]
    },
    {
     "name": "stdout",
     "output_type": "stream",
     "text": [
      "[LibLinear]"
     ]
    },
    {
     "name": "stderr",
     "output_type": "stream",
     "text": [
      "C:\\Users\\A1DF42D\\AppData\\Roaming\\Python\\Python310\\site-packages\\sklearn\\svm\\_base.py:1235: ConvergenceWarning: Liblinear failed to converge, increase the number of iterations.\n",
      "  warnings.warn(\n"
     ]
    },
    {
     "name": "stdout",
     "output_type": "stream",
     "text": [
      "[LibLinear]"
     ]
    },
    {
     "name": "stderr",
     "output_type": "stream",
     "text": [
      "C:\\Users\\A1DF42D\\AppData\\Roaming\\Python\\Python310\\site-packages\\sklearn\\svm\\_base.py:1235: ConvergenceWarning: Liblinear failed to converge, increase the number of iterations.\n",
      "  warnings.warn(\n"
     ]
    },
    {
     "name": "stdout",
     "output_type": "stream",
     "text": [
      "[LibLinear]"
     ]
    },
    {
     "name": "stderr",
     "output_type": "stream",
     "text": [
      "C:\\Users\\A1DF42D\\AppData\\Roaming\\Python\\Python310\\site-packages\\sklearn\\svm\\_base.py:1235: ConvergenceWarning: Liblinear failed to converge, increase the number of iterations.\n",
      "  warnings.warn(\n"
     ]
    },
    {
     "name": "stdout",
     "output_type": "stream",
     "text": [
      "[LibLinear]"
     ]
    },
    {
     "name": "stderr",
     "output_type": "stream",
     "text": [
      "C:\\Users\\A1DF42D\\AppData\\Roaming\\Python\\Python310\\site-packages\\sklearn\\svm\\_base.py:1235: ConvergenceWarning: Liblinear failed to converge, increase the number of iterations.\n",
      "  warnings.warn(\n"
     ]
    },
    {
     "name": "stdout",
     "output_type": "stream",
     "text": [
      "[LibLinear]"
     ]
    },
    {
     "name": "stderr",
     "output_type": "stream",
     "text": [
      "C:\\Users\\A1DF42D\\AppData\\Roaming\\Python\\Python310\\site-packages\\sklearn\\svm\\_base.py:1235: ConvergenceWarning: Liblinear failed to converge, increase the number of iterations.\n",
      "  warnings.warn(\n"
     ]
    },
    {
     "name": "stdout",
     "output_type": "stream",
     "text": [
      "[LibLinear]"
     ]
    },
    {
     "name": "stderr",
     "output_type": "stream",
     "text": [
      "C:\\Users\\A1DF42D\\AppData\\Roaming\\Python\\Python310\\site-packages\\sklearn\\svm\\_base.py:1235: ConvergenceWarning: Liblinear failed to converge, increase the number of iterations.\n",
      "  warnings.warn(\n"
     ]
    },
    {
     "name": "stdout",
     "output_type": "stream",
     "text": [
      "[LibLinear]"
     ]
    },
    {
     "name": "stderr",
     "output_type": "stream",
     "text": [
      "C:\\Users\\A1DF42D\\AppData\\Roaming\\Python\\Python310\\site-packages\\sklearn\\svm\\_base.py:1235: ConvergenceWarning: Liblinear failed to converge, increase the number of iterations.\n",
      "  warnings.warn(\n"
     ]
    },
    {
     "name": "stdout",
     "output_type": "stream",
     "text": [
      "[LibLinear]"
     ]
    },
    {
     "name": "stderr",
     "output_type": "stream",
     "text": [
      "C:\\Users\\A1DF42D\\AppData\\Roaming\\Python\\Python310\\site-packages\\sklearn\\svm\\_base.py:1235: ConvergenceWarning: Liblinear failed to converge, increase the number of iterations.\n",
      "  warnings.warn(\n"
     ]
    },
    {
     "name": "stdout",
     "output_type": "stream",
     "text": [
      "[LibLinear]"
     ]
    },
    {
     "name": "stderr",
     "output_type": "stream",
     "text": [
      "C:\\Users\\A1DF42D\\AppData\\Roaming\\Python\\Python310\\site-packages\\sklearn\\svm\\_base.py:1235: ConvergenceWarning: Liblinear failed to converge, increase the number of iterations.\n",
      "  warnings.warn(\n"
     ]
    },
    {
     "name": "stdout",
     "output_type": "stream",
     "text": [
      "[LibLinear]Best parameters for linear kernel: {'C': 0.1}\n"
     ]
    },
    {
     "name": "stderr",
     "output_type": "stream",
     "text": [
      "C:\\Users\\A1DF42D\\AppData\\Roaming\\Python\\Python310\\site-packages\\sklearn\\svm\\_base.py:1235: ConvergenceWarning: Liblinear failed to converge, increase the number of iterations.\n",
      "  warnings.warn(\n"
     ]
    }
   ],
   "source": [
    "# Parameter grid for LinearSVR\n",
    "daily_census_param_grid_linear = {\n",
    "    'C': [0.1, 1, 10, 100, 1000]\n",
    "}\n",
    "\n",
    "# Initialize and perform Grid Search for LinearSVR\n",
    "daily_census_grid_search_linear = GridSearchCV(LinearSVR(verbose=True), daily_census_param_grid_linear, cv=5, scoring='neg_mean_absolute_error')\n",
    "daily_census_grid_search_linear.fit(daily_census_X_train, daily_census_y_train)\n",
    "\n",
    "# Best parameters from Grid Search\n",
    "print(f'Best parameters for linear kernel: {daily_census_grid_search_linear.best_params_}')\n",
    "# Get the best model from grid search\n",
    "best_svm_linear = daily_census_grid_search_linear.best_estimator_\n",
    "\n",
    "# Predict on the test set\n",
    "daily_census_best_svm_linear_test = best_svm_linear.predict(daily_census_X_test)\n",
    "\n",
    "# Predict on the training set\n",
    "daily_census_best_svm_linear_train = best_svm_linear.predict(daily_census_X_train)"
   ]
  },
  {
   "cell_type": "code",
   "execution_count": 58,
   "metadata": {},
   "outputs": [],
   "source": [
    "# Evaluate on the training set\n",
    "daily_census_best_mae_linear_train = mean_absolute_error(daily_census_y_train, daily_census_best_svm_linear_train)\n",
    "daily_census_best_mse_linear_train = mean_squared_error(daily_census_y_train, daily_census_best_svm_linear_train)\n",
    "daily_census_best_rmse_linear_train = np.sqrt(daily_census_best_mse_linear_train)\n",
    "daily_census_best_r2_linear_train = r2_score(daily_census_y_train, daily_census_best_svm_linear_train)\n",
    "\n",
    "def mase(daily_census_y_train, daily_census_best_svm_linear_train):\n",
    "    # Calculate the mean of the observed values\n",
    "    y_mean = np.mean(daily_census_y_train)\n",
    "    \n",
    "    # Calculate MAE of the model\n",
    "    mae_model = np.mean(np.abs(daily_census_y_train - daily_census_best_svm_linear_train))\n",
    "    \n",
    "    # Calculate MAE of the mean forecast\n",
    "    mae_mean = np.mean(np.abs(daily_census_y_train - y_mean))\n",
    "    \n",
    "    # Calculate MASE\n",
    "    mase_value = mae_model / mae_mean\n",
    "    return mase_value\n",
    "\n",
    "daily_census_best_mase_linear_train = mase(daily_census_y_train, daily_census_best_svm_linear_train)\n",
    "\n",
    "daily_census_best_mape_linear_train = mean_absolute_percentage_error(daily_census_y_train, daily_census_best_svm_linear_train)\n",
    "\n",
    "# Custom function for SMAPE\n",
    "def smape(daily_census_y_train, daily_census_best_svm_linear_train):\n",
    "    return 100 * np.mean(2 * np.abs(daily_census_best_svm_linear_train - daily_census_y_train) / (np.abs(daily_census_best_svm_linear_train) + np.abs(daily_census_y_train)))\n",
    "\n",
    "daily_census_best_smape_linear_train = smape(daily_census_y_train, daily_census_best_svm_linear_train)\n",
    "\n",
    "print(f'daily_census SVM Model linear kernel (train) - MAE: {daily_census_best_mae_linear_train}, MSE: {daily_census_best_mse_linear_train}, RMSE: {daily_census_best_rmse_linear_train}, R2: {daily_census_best_r2_linear_train}, MASE: {daily_census_best_mase_linear_train}, MAPE: {daily_census_best_mape_linear_train}, SMAPE: {daily_census_best_smape_linear_train}')"
   ]
  },
  {
   "cell_type": "code",
   "execution_count": 59,
   "metadata": {},
   "outputs": [
    {
     "name": "stdout",
     "output_type": "stream",
     "text": [
      "daily_census SVM Model linear kernel (test) - MAE: 0.09843528164214813, MSE: 0.1099558683957956, RMSE: 0.33159594146460175, R2: 0.8900326599434433, MASE: 0.21051679477213353, MAPE: 0.9214630960176761, SMAPE: 21.810787851329763\n"
     ]
    }
   ],
   "source": [
    "# Evaluate on the testing set\n",
    "daily_census_best_mae_linear_test = mean_absolute_error(daily_census_y_test, daily_census_best_svm_linear_test)\n",
    "daily_census_best_mse_linear_test = mean_squared_error(daily_census_y_test, daily_census_best_svm_linear_test)\n",
    "daily_census_best_rmse_linear_test = np.sqrt(daily_census_best_mse_linear_test)\n",
    "daily_census_best_r2_linear_test = r2_score(daily_census_y_test, daily_census_best_svm_linear_test)\n",
    "\n",
    "def mase(daily_census_y_test, daily_census_best_svm_linear_test):\n",
    "    # Calculate the mean of the observed values\n",
    "    y_mean = np.mean(daily_census_y_test)\n",
    "    \n",
    "    # Calculate MAE of the model\n",
    "    mae_model = np.mean(np.abs(daily_census_y_test - daily_census_best_svm_linear_test))\n",
    "    \n",
    "    # Calculate MAE of the mean forecast\n",
    "    mae_mean = np.mean(np.abs(daily_census_y_test - y_mean))\n",
    "    \n",
    "    # Calculate MASE\n",
    "    mase_value = mae_model / mae_mean\n",
    "    return mase_value\n",
    "\n",
    "daily_census_best_mase_linear_test = mase(daily_census_y_test, daily_census_best_svm_linear_test)\n",
    "\n",
    "daily_census_best_mape_linear_test = mean_absolute_percentage_error(daily_census_y_test, daily_census_best_svm_linear_test)\n",
    "\n",
    "# Custom function for SMAPE\n",
    "def smape(daily_census_y_test, daily_census_best_svm_linear_test):\n",
    "    return 100 * np.mean(2 * np.abs(daily_census_best_svm_linear_test - daily_census_y_test) / (np.abs(daily_census_best_svm_linear_test) + np.abs(daily_census_y_test)))\n",
    "\n",
    "daily_census_best_smape_linear_test = smape(daily_census_y_test, daily_census_best_svm_linear_test)\n",
    "\n",
    "print(f'daily_census SVM Model linear kernel (test) - MAE: {daily_census_best_mae_linear_test}, MSE: {daily_census_best_mse_linear_test}, RMSE: {daily_census_best_rmse_linear_test}, R2: {daily_census_best_r2_linear_test}, MASE: {daily_census_best_mase_linear_test}, MAPE: {daily_census_best_mape_linear_test}, SMAPE: {daily_census_best_smape_linear_test}')"
   ]
  },
  {
   "cell_type": "markdown",
   "metadata": {},
   "source": [
    "### hourly census without grid searching"
   ]
  },
  {
   "cell_type": "code",
   "execution_count": 60,
   "metadata": {},
   "outputs": [
    {
     "name": "stdout",
     "output_type": "stream",
     "text": [
      "[LibLinear]"
     ]
    },
    {
     "name": "stderr",
     "output_type": "stream",
     "text": [
      "C:\\Users\\A1DF42D\\AppData\\Roaming\\Python\\Python310\\site-packages\\sklearn\\svm\\_base.py:1235: ConvergenceWarning: Liblinear failed to converge, increase the number of iterations.\n",
      "  warnings.warn(\n"
     ]
    }
   ],
   "source": [
    "# Train SVM model with linear kernel\n",
    "hourly_census_svm_linear = LinearSVR(verbose=True)\n",
    "hourly_census_svm_linear.fit(hourly_census_X_train, hourly_census_y_train)\n",
    "\n",
    "# Predict on the test set\n",
    "hourly_census_y_pred_linear_test = hourly_census_svm_linear.predict(hourly_census_X_test)\n",
    "\n",
    "# Predict on the training set\n",
    "hourly_census_y_pred_linear_train = hourly_census_svm_linear.predict(hourly_census_X_train)"
   ]
  },
  {
   "cell_type": "code",
   "execution_count": 61,
   "metadata": {},
   "outputs": [],
   "source": [
    "# Evaluate on the training set\n",
    "hourly_census_mae_linear_train = mean_absolute_error(hourly_census_y_train, hourly_census_y_pred_linear_train)\n",
    "hourly_census_mse_linear_train = mean_squared_error(hourly_census_y_train, hourly_census_y_pred_linear_train)\n",
    "hourly_census_rmse_linear_train = np.sqrt(hourly_census_mse_linear_train)\n",
    "hourly_census_r2_linear_train = r2_score(hourly_census_y_train, hourly_census_y_pred_linear_train)\n",
    "\n",
    "def mase(hourly_census_y_train, hourly_census_y_pred_linear_train):\n",
    "    # Calculate the mean of the observed values\n",
    "    y_mean = np.mean(hourly_census_y_train)\n",
    "    \n",
    "    # Calculate MAE of the model\n",
    "    mae_model = np.mean(np.abs(hourly_census_y_train - hourly_census_y_pred_linear_train))\n",
    "    \n",
    "    # Calculate MAE of the mean forecast\n",
    "    mae_mean = np.mean(np.abs(hourly_census_y_train - y_mean))\n",
    "    \n",
    "    # Calculate MASE\n",
    "    mase_value = mae_model / mae_mean\n",
    "    return mase_value\n",
    "\n",
    "hourly_census_mase_linear_train = mase(hourly_census_y_train, hourly_census_y_pred_linear_train)\n",
    "\n",
    "hourly_census_mape_linear_train = mean_absolute_percentage_error(hourly_census_y_train, hourly_census_y_pred_linear_train)\n",
    "\n",
    "# Custom function for SMAPE\n",
    "def smape(hourly_census_y_train, hourly_census_y_pred_linear_train):\n",
    "    return 100 * np.mean(2 * np.abs(hourly_census_y_pred_linear_train - hourly_census_y_train) / (np.abs(hourly_census_y_pred_linear_train) + np.abs(hourly_census_y_train)))\n",
    "\n",
    "hourly_census_smape_linear_train = smape(hourly_census_y_train, hourly_census_y_pred_linear_train)\n",
    "\n",
    "print(f'hourly_census SVM Model linear kernel (train) - MAE: {hourly_census_mae_linear_train}, MSE: {hourly_census_mse_linear_train}, RMSE: {hourly_census_rmse_linear_train}, R2: {hourly_census_r2_linear_train}, MASE: {hourly_census_mase_linear_train}, MAPE: {hourly_census_mape_linear_train}, SMAPE: {hourly_census_smape_linear_train}')"
   ]
  },
  {
   "cell_type": "code",
   "execution_count": 62,
   "metadata": {},
   "outputs": [
    {
     "name": "stdout",
     "output_type": "stream",
     "text": [
      "hourly_census SVM Model linear kernel (test) - MAE: 0.24699475795752182, MSE: 0.41755298553428066, RMSE: 0.6461833993026134, R2: 0.5824429504523897, MASE: 0.4810781890356571, MAPE: 1.1183572030503566, SMAPE: 52.09806997118057\n"
     ]
    }
   ],
   "source": [
    "# Evaluate on the testing set\n",
    "hourly_census_mae_linear_test = mean_absolute_error(hourly_census_y_test, hourly_census_y_pred_linear_test)\n",
    "hourly_census_mse_linear_test = mean_squared_error(hourly_census_y_test, hourly_census_y_pred_linear_test)\n",
    "hourly_census_rmse_linear_test = np.sqrt(hourly_census_mse_linear_test)\n",
    "hourly_census_r2_linear_test = r2_score(hourly_census_y_test, hourly_census_y_pred_linear_test)\n",
    "\n",
    "def mase(hourly_census_y_test, hourly_census_y_pred_linear_test):\n",
    "    # Calculate the mean of the observed values\n",
    "    y_mean = np.mean(hourly_census_y_test)\n",
    "    \n",
    "    # Calculate MAE of the model\n",
    "    mae_model = np.mean(np.abs(hourly_census_y_test - hourly_census_y_pred_linear_test))\n",
    "    \n",
    "    # Calculate MAE of the mean forecast\n",
    "    mae_mean = np.mean(np.abs(hourly_census_y_test - y_mean))\n",
    "    \n",
    "    # Calculate MASE\n",
    "    mase_value = mae_model / mae_mean\n",
    "    return mase_value\n",
    "\n",
    "hourly_census_mase_linear_test = mase(hourly_census_y_test, hourly_census_y_pred_linear_test)\n",
    "\n",
    "hourly_census_mape_linear_test = mean_absolute_percentage_error(hourly_census_y_test, hourly_census_y_pred_linear_test)\n",
    "\n",
    "# Custom function for SMAPE\n",
    "def smape(hourly_census_y_test, hourly_census_y_pred_linear_test):\n",
    "    return 100 * np.mean(2 * np.abs(hourly_census_y_pred_linear_test - hourly_census_y_test) / (np.abs(hourly_census_y_pred_linear_test) + np.abs(hourly_census_y_test)))\n",
    "\n",
    "hourly_census_smape_linear_test = smape(hourly_census_y_test, hourly_census_y_pred_linear_test)\n",
    "\n",
    "print(f'hourly_census SVM Model linear kernel (test) - MAE: {hourly_census_mae_linear_test}, MSE: {hourly_census_mse_linear_test}, RMSE: {hourly_census_rmse_linear_test}, R2: {hourly_census_r2_linear_test}, MASE: {hourly_census_mase_linear_test}, MAPE: {hourly_census_mape_linear_test}, SMAPE: {hourly_census_smape_linear_test}')"
   ]
  },
  {
   "cell_type": "markdown",
   "metadata": {},
   "source": [
    "### hourly census with grid searching"
   ]
  },
  {
   "cell_type": "code",
   "execution_count": 63,
   "metadata": {},
   "outputs": [
    {
     "name": "stdout",
     "output_type": "stream",
     "text": [
      "[LibLinear]"
     ]
    },
    {
     "name": "stderr",
     "output_type": "stream",
     "text": [
      "C:\\Users\\A1DF42D\\AppData\\Roaming\\Python\\Python310\\site-packages\\sklearn\\svm\\_base.py:1235: ConvergenceWarning: Liblinear failed to converge, increase the number of iterations.\n",
      "  warnings.warn(\n"
     ]
    },
    {
     "name": "stdout",
     "output_type": "stream",
     "text": [
      "[LibLinear]"
     ]
    },
    {
     "name": "stderr",
     "output_type": "stream",
     "text": [
      "C:\\Users\\A1DF42D\\AppData\\Roaming\\Python\\Python310\\site-packages\\sklearn\\svm\\_base.py:1235: ConvergenceWarning: Liblinear failed to converge, increase the number of iterations.\n",
      "  warnings.warn(\n"
     ]
    },
    {
     "name": "stdout",
     "output_type": "stream",
     "text": [
      "[LibLinear]"
     ]
    },
    {
     "name": "stderr",
     "output_type": "stream",
     "text": [
      "C:\\Users\\A1DF42D\\AppData\\Roaming\\Python\\Python310\\site-packages\\sklearn\\svm\\_base.py:1235: ConvergenceWarning: Liblinear failed to converge, increase the number of iterations.\n",
      "  warnings.warn(\n"
     ]
    },
    {
     "name": "stdout",
     "output_type": "stream",
     "text": [
      "[LibLinear]"
     ]
    },
    {
     "name": "stderr",
     "output_type": "stream",
     "text": [
      "C:\\Users\\A1DF42D\\AppData\\Roaming\\Python\\Python310\\site-packages\\sklearn\\svm\\_base.py:1235: ConvergenceWarning: Liblinear failed to converge, increase the number of iterations.\n",
      "  warnings.warn(\n"
     ]
    },
    {
     "name": "stdout",
     "output_type": "stream",
     "text": [
      "[LibLinear]"
     ]
    },
    {
     "name": "stderr",
     "output_type": "stream",
     "text": [
      "C:\\Users\\A1DF42D\\AppData\\Roaming\\Python\\Python310\\site-packages\\sklearn\\svm\\_base.py:1235: ConvergenceWarning: Liblinear failed to converge, increase the number of iterations.\n",
      "  warnings.warn(\n"
     ]
    },
    {
     "name": "stdout",
     "output_type": "stream",
     "text": [
      "[LibLinear]"
     ]
    },
    {
     "name": "stderr",
     "output_type": "stream",
     "text": [
      "C:\\Users\\A1DF42D\\AppData\\Roaming\\Python\\Python310\\site-packages\\sklearn\\svm\\_base.py:1235: ConvergenceWarning: Liblinear failed to converge, increase the number of iterations.\n",
      "  warnings.warn(\n"
     ]
    },
    {
     "name": "stdout",
     "output_type": "stream",
     "text": [
      "[LibLinear]"
     ]
    },
    {
     "name": "stderr",
     "output_type": "stream",
     "text": [
      "C:\\Users\\A1DF42D\\AppData\\Roaming\\Python\\Python310\\site-packages\\sklearn\\svm\\_base.py:1235: ConvergenceWarning: Liblinear failed to converge, increase the number of iterations.\n",
      "  warnings.warn(\n"
     ]
    },
    {
     "name": "stdout",
     "output_type": "stream",
     "text": [
      "[LibLinear]"
     ]
    },
    {
     "name": "stderr",
     "output_type": "stream",
     "text": [
      "C:\\Users\\A1DF42D\\AppData\\Roaming\\Python\\Python310\\site-packages\\sklearn\\svm\\_base.py:1235: ConvergenceWarning: Liblinear failed to converge, increase the number of iterations.\n",
      "  warnings.warn(\n"
     ]
    },
    {
     "name": "stdout",
     "output_type": "stream",
     "text": [
      "[LibLinear]"
     ]
    },
    {
     "name": "stderr",
     "output_type": "stream",
     "text": [
      "C:\\Users\\A1DF42D\\AppData\\Roaming\\Python\\Python310\\site-packages\\sklearn\\svm\\_base.py:1235: ConvergenceWarning: Liblinear failed to converge, increase the number of iterations.\n",
      "  warnings.warn(\n"
     ]
    },
    {
     "name": "stdout",
     "output_type": "stream",
     "text": [
      "[LibLinear]"
     ]
    },
    {
     "name": "stderr",
     "output_type": "stream",
     "text": [
      "C:\\Users\\A1DF42D\\AppData\\Roaming\\Python\\Python310\\site-packages\\sklearn\\svm\\_base.py:1235: ConvergenceWarning: Liblinear failed to converge, increase the number of iterations.\n",
      "  warnings.warn(\n"
     ]
    },
    {
     "name": "stdout",
     "output_type": "stream",
     "text": [
      "[LibLinear]"
     ]
    },
    {
     "name": "stderr",
     "output_type": "stream",
     "text": [
      "C:\\Users\\A1DF42D\\AppData\\Roaming\\Python\\Python310\\site-packages\\sklearn\\svm\\_base.py:1235: ConvergenceWarning: Liblinear failed to converge, increase the number of iterations.\n",
      "  warnings.warn(\n"
     ]
    },
    {
     "name": "stdout",
     "output_type": "stream",
     "text": [
      "[LibLinear]"
     ]
    },
    {
     "name": "stderr",
     "output_type": "stream",
     "text": [
      "C:\\Users\\A1DF42D\\AppData\\Roaming\\Python\\Python310\\site-packages\\sklearn\\svm\\_base.py:1235: ConvergenceWarning: Liblinear failed to converge, increase the number of iterations.\n",
      "  warnings.warn(\n"
     ]
    },
    {
     "name": "stdout",
     "output_type": "stream",
     "text": [
      "[LibLinear]"
     ]
    },
    {
     "name": "stderr",
     "output_type": "stream",
     "text": [
      "C:\\Users\\A1DF42D\\AppData\\Roaming\\Python\\Python310\\site-packages\\sklearn\\svm\\_base.py:1235: ConvergenceWarning: Liblinear failed to converge, increase the number of iterations.\n",
      "  warnings.warn(\n"
     ]
    },
    {
     "name": "stdout",
     "output_type": "stream",
     "text": [
      "[LibLinear]"
     ]
    },
    {
     "name": "stderr",
     "output_type": "stream",
     "text": [
      "C:\\Users\\A1DF42D\\AppData\\Roaming\\Python\\Python310\\site-packages\\sklearn\\svm\\_base.py:1235: ConvergenceWarning: Liblinear failed to converge, increase the number of iterations.\n",
      "  warnings.warn(\n"
     ]
    },
    {
     "name": "stdout",
     "output_type": "stream",
     "text": [
      "[LibLinear]"
     ]
    },
    {
     "name": "stderr",
     "output_type": "stream",
     "text": [
      "C:\\Users\\A1DF42D\\AppData\\Roaming\\Python\\Python310\\site-packages\\sklearn\\svm\\_base.py:1235: ConvergenceWarning: Liblinear failed to converge, increase the number of iterations.\n",
      "  warnings.warn(\n"
     ]
    },
    {
     "name": "stdout",
     "output_type": "stream",
     "text": [
      "[LibLinear]"
     ]
    },
    {
     "name": "stderr",
     "output_type": "stream",
     "text": [
      "C:\\Users\\A1DF42D\\AppData\\Roaming\\Python\\Python310\\site-packages\\sklearn\\svm\\_base.py:1235: ConvergenceWarning: Liblinear failed to converge, increase the number of iterations.\n",
      "  warnings.warn(\n"
     ]
    },
    {
     "name": "stdout",
     "output_type": "stream",
     "text": [
      "[LibLinear]"
     ]
    },
    {
     "name": "stderr",
     "output_type": "stream",
     "text": [
      "C:\\Users\\A1DF42D\\AppData\\Roaming\\Python\\Python310\\site-packages\\sklearn\\svm\\_base.py:1235: ConvergenceWarning: Liblinear failed to converge, increase the number of iterations.\n",
      "  warnings.warn(\n"
     ]
    },
    {
     "name": "stdout",
     "output_type": "stream",
     "text": [
      "[LibLinear]"
     ]
    },
    {
     "name": "stderr",
     "output_type": "stream",
     "text": [
      "C:\\Users\\A1DF42D\\AppData\\Roaming\\Python\\Python310\\site-packages\\sklearn\\svm\\_base.py:1235: ConvergenceWarning: Liblinear failed to converge, increase the number of iterations.\n",
      "  warnings.warn(\n"
     ]
    },
    {
     "name": "stdout",
     "output_type": "stream",
     "text": [
      "[LibLinear]"
     ]
    },
    {
     "name": "stderr",
     "output_type": "stream",
     "text": [
      "C:\\Users\\A1DF42D\\AppData\\Roaming\\Python\\Python310\\site-packages\\sklearn\\svm\\_base.py:1235: ConvergenceWarning: Liblinear failed to converge, increase the number of iterations.\n",
      "  warnings.warn(\n"
     ]
    },
    {
     "name": "stdout",
     "output_type": "stream",
     "text": [
      "[LibLinear]"
     ]
    },
    {
     "name": "stderr",
     "output_type": "stream",
     "text": [
      "C:\\Users\\A1DF42D\\AppData\\Roaming\\Python\\Python310\\site-packages\\sklearn\\svm\\_base.py:1235: ConvergenceWarning: Liblinear failed to converge, increase the number of iterations.\n",
      "  warnings.warn(\n"
     ]
    },
    {
     "name": "stdout",
     "output_type": "stream",
     "text": [
      "[LibLinear]"
     ]
    },
    {
     "name": "stderr",
     "output_type": "stream",
     "text": [
      "C:\\Users\\A1DF42D\\AppData\\Roaming\\Python\\Python310\\site-packages\\sklearn\\svm\\_base.py:1235: ConvergenceWarning: Liblinear failed to converge, increase the number of iterations.\n",
      "  warnings.warn(\n"
     ]
    },
    {
     "name": "stdout",
     "output_type": "stream",
     "text": [
      "[LibLinear]"
     ]
    },
    {
     "name": "stderr",
     "output_type": "stream",
     "text": [
      "C:\\Users\\A1DF42D\\AppData\\Roaming\\Python\\Python310\\site-packages\\sklearn\\svm\\_base.py:1235: ConvergenceWarning: Liblinear failed to converge, increase the number of iterations.\n",
      "  warnings.warn(\n"
     ]
    },
    {
     "name": "stdout",
     "output_type": "stream",
     "text": [
      "[LibLinear]"
     ]
    },
    {
     "name": "stderr",
     "output_type": "stream",
     "text": [
      "C:\\Users\\A1DF42D\\AppData\\Roaming\\Python\\Python310\\site-packages\\sklearn\\svm\\_base.py:1235: ConvergenceWarning: Liblinear failed to converge, increase the number of iterations.\n",
      "  warnings.warn(\n"
     ]
    },
    {
     "name": "stdout",
     "output_type": "stream",
     "text": [
      "[LibLinear]"
     ]
    },
    {
     "name": "stderr",
     "output_type": "stream",
     "text": [
      "C:\\Users\\A1DF42D\\AppData\\Roaming\\Python\\Python310\\site-packages\\sklearn\\svm\\_base.py:1235: ConvergenceWarning: Liblinear failed to converge, increase the number of iterations.\n",
      "  warnings.warn(\n"
     ]
    },
    {
     "name": "stdout",
     "output_type": "stream",
     "text": [
      "[LibLinear]"
     ]
    },
    {
     "name": "stderr",
     "output_type": "stream",
     "text": [
      "C:\\Users\\A1DF42D\\AppData\\Roaming\\Python\\Python310\\site-packages\\sklearn\\svm\\_base.py:1235: ConvergenceWarning: Liblinear failed to converge, increase the number of iterations.\n",
      "  warnings.warn(\n"
     ]
    },
    {
     "name": "stdout",
     "output_type": "stream",
     "text": [
      "[LibLinear]"
     ]
    },
    {
     "name": "stderr",
     "output_type": "stream",
     "text": [
      "C:\\Users\\A1DF42D\\AppData\\Roaming\\Python\\Python310\\site-packages\\sklearn\\svm\\_base.py:1235: ConvergenceWarning: Liblinear failed to converge, increase the number of iterations.\n",
      "  warnings.warn(\n"
     ]
    },
    {
     "name": "stdout",
     "output_type": "stream",
     "text": [
      "Best parameters for linear kernel: {'C': 0.1}\n"
     ]
    }
   ],
   "source": [
    "# Parameter grid for LinearSVR\n",
    "hourly_census_param_grid_linear = {\n",
    "    'C': [0.1, 1, 10, 100, 1000]\n",
    "}\n",
    "\n",
    "# Initialize and perform Grid Search for LinearSVR\n",
    "hourly_census_grid_search_linear = GridSearchCV(LinearSVR(verbose=True), hourly_census_param_grid_linear, cv=5, scoring='neg_mean_absolute_error')\n",
    "hourly_census_grid_search_linear.fit(hourly_census_X_train, hourly_census_y_train)\n",
    "\n",
    "# Best parameters from Grid Search\n",
    "print(f'Best parameters for linear kernel: {hourly_census_grid_search_linear.best_params_}')\n",
    "\n",
    "# Get the best model from grid search\n",
    "best_svm_linear = hourly_census_grid_search_linear.best_estimator_\n",
    "\n",
    "# Predict on the test set\n",
    "hourly_census_best_svm_linear_test = best_svm_linear.predict(hourly_census_X_test)\n",
    "\n",
    "# Predict on the training set\n",
    "hourly_census_best_svm_linear_train = best_svm_linear.predict(hourly_census_X_train)"
   ]
  },
  {
   "cell_type": "code",
   "execution_count": 64,
   "metadata": {},
   "outputs": [],
   "source": [
    "# Evaluate on the training set\n",
    "hourly_census_best_mae_linear_train = mean_absolute_error(hourly_census_y_train, hourly_census_best_svm_linear_train)\n",
    "hourly_census_best_mse_linear_train = mean_squared_error(hourly_census_y_train, hourly_census_best_svm_linear_train)\n",
    "hourly_census_best_rmse_linear_train = np.sqrt(hourly_census_best_mse_linear_train)\n",
    "hourly_census_best_r2_linear_train = r2_score(hourly_census_y_train, hourly_census_best_svm_linear_train)\n",
    "\n",
    "def mase(hourly_census_y_train, hourly_census_best_svm_linear_train):\n",
    "    # Calculate the mean of the observed values\n",
    "    y_mean = np.mean(hourly_census_y_train)\n",
    "    \n",
    "    # Calculate MAE of the model\n",
    "    mae_model = np.mean(np.abs(hourly_census_y_train - hourly_census_best_svm_linear_train))\n",
    "    \n",
    "    # Calculate MAE of the mean forecast\n",
    "    mae_mean = np.mean(np.abs(hourly_census_y_train - y_mean))\n",
    "    \n",
    "    # Calculate MASE\n",
    "    mase_value = mae_model / mae_mean\n",
    "    return mase_value\n",
    "\n",
    "hourly_census_best_mase_linear_train = mase(hourly_census_y_train, hourly_census_best_svm_linear_train)\n",
    "\n",
    "hourly_census_best_mape_linear_train = mean_absolute_percentage_error(hourly_census_y_train, hourly_census_best_svm_linear_train)\n",
    "\n",
    "# Custom function for SMAPE\n",
    "def smape(hourly_census_y_train, hourly_census_best_svm_linear_train):\n",
    "    return 100 * np.mean(2 * np.abs(hourly_census_best_svm_linear_train - hourly_census_y_train) / (np.abs(hourly_census_best_svm_linear_train) + np.abs(hourly_census_y_train)))\n",
    "\n",
    "hourly_census_best_smape_linear_train = smape(hourly_census_y_train, hourly_census_best_svm_linear_train)\n",
    "\n",
    "print(f'hourly_census SVM Model linear kernel (train) - MAE: {hourly_census_best_mae_linear_train}, MSE: {hourly_census_best_mse_linear_train}, RMSE: {hourly_census_best_rmse_linear_train}, R2: {hourly_census_best_r2_linear_train}, MASE: {hourly_census_best_mase_linear_train}, MAPE: {hourly_census_best_mape_linear_train}, SMAPE: {hourly_census_best_smape_linear_train}')\n"
   ]
  },
  {
   "cell_type": "code",
   "execution_count": 65,
   "metadata": {},
   "outputs": [
    {
     "name": "stdout",
     "output_type": "stream",
     "text": [
      "hourly_census SVM Model linear kernel (test) - MAE: 0.24517739006085223, MSE: 0.4160162568598633, RMSE: 0.6449932223363772, R2: 0.5839796940836772, MASE: 0.4775384537644668, MAPE: 1.1046667077424597, SMAPE: 51.78841969939515\n"
     ]
    }
   ],
   "source": [
    "# Evaluate on the testing set\n",
    "hourly_census_best_mae_linear_test = mean_absolute_error(hourly_census_y_test, hourly_census_best_svm_linear_test)\n",
    "hourly_census_best_mse_linear_test = mean_squared_error(hourly_census_y_test, hourly_census_best_svm_linear_test)\n",
    "hourly_census_best_rmse_linear_test = np.sqrt(hourly_census_best_mse_linear_test)\n",
    "hourly_census_best_r2_linear_test = r2_score(hourly_census_y_test, hourly_census_best_svm_linear_test)\n",
    "\n",
    "def mase(hourly_census_y_test, hourly_census_best_svm_linear_test):\n",
    "    # Calculate the mean of the observed values\n",
    "    y_mean = np.mean(hourly_census_y_test)\n",
    "    \n",
    "    # Calculate MAE of the model\n",
    "    mae_model = np.mean(np.abs(hourly_census_y_test - hourly_census_best_svm_linear_test))\n",
    "    \n",
    "    # Calculate MAE of the mean forecast\n",
    "    mae_mean = np.mean(np.abs(hourly_census_y_test - y_mean))\n",
    "    \n",
    "    # Calculate MASE\n",
    "    mase_value = mae_model / mae_mean\n",
    "    return mase_value\n",
    "\n",
    "hourly_census_best_mase_linear_test = mase(hourly_census_y_test, hourly_census_best_svm_linear_test)\n",
    "\n",
    "hourly_census_best_mape_linear_test = mean_absolute_percentage_error(hourly_census_y_test, hourly_census_best_svm_linear_test)\n",
    "\n",
    "# Custom function for SMAPE\n",
    "def smape(hourly_census_y_test, hourly_census_best_svm_linear_test):\n",
    "    return 100 * np.mean(2 * np.abs(hourly_census_best_svm_linear_test - hourly_census_y_test) / (np.abs(hourly_census_best_svm_linear_test) + np.abs(hourly_census_y_test)))\n",
    "\n",
    "hourly_census_best_smape_linear_test = smape(hourly_census_y_test, hourly_census_best_svm_linear_test)\n",
    "\n",
    "print(f'hourly_census SVM Model linear kernel (test) - MAE: {hourly_census_best_mae_linear_test}, MSE: {hourly_census_best_mse_linear_test}, RMSE: {hourly_census_best_rmse_linear_test}, R2: {hourly_census_best_r2_linear_test}, MASE: {hourly_census_best_mase_linear_test}, MAPE: {hourly_census_best_mape_linear_test}, SMAPE: {hourly_census_best_smape_linear_test}')"
   ]
  },
  {
   "cell_type": "markdown",
   "metadata": {},
   "source": [
    "# RBF Kernel"
   ]
  },
  {
   "cell_type": "markdown",
   "metadata": {},
   "source": [
    "### daily hexagon with manual grid searching"
   ]
  },
  {
   "cell_type": "code",
   "execution_count": 31,
   "metadata": {},
   "outputs": [
    {
     "name": "stdout",
     "output_type": "stream",
     "text": [
      "[LibSVM]"
     ]
    }
   ],
   "source": [
    "# Train SVM model with rbf kernel\n",
    "daily_hexagon_svm_rbf = SVR(kernel='rbf', gamma='auto',  C=1000, verbose=True)\n",
    "daily_hexagon_svm_rbf.fit(daily_hexagon_X_train, daily_hexagon_y_train)\n",
    "\n",
    "# Predict on the test set\n",
    "daily_hexagon_y_pred_rbf_test = daily_hexagon_svm_rbf.predict(daily_hexagon_X_test)\n",
    "\n",
    "# Predict on the training set\n",
    "daily_hexagon_y_pred_rbf_train = daily_hexagon_svm_rbf.predict(daily_hexagon_X_train)"
   ]
  },
  {
   "cell_type": "code",
   "execution_count": null,
   "metadata": {},
   "outputs": [],
   "source": [
    "# Evaluate on the training set\n",
    "daily_hexagon_mae_rbf_train = mean_absolute_error(daily_hexagon_y_train, daily_hexagon_y_pred_rbf_train)\n",
    "daily_hexagon_mse_rbf_train = mean_squared_error(daily_hexagon_y_train, daily_hexagon_y_pred_rbf_train)\n",
    "daily_hexagon_rmse_rbf_train = np.sqrt(daily_hexagon_mse_rbf_train)\n",
    "daily_hexagon_r2_rbf_train = r2_score(daily_hexagon_y_train, daily_hexagon_y_pred_rbf_train)\n",
    "\n",
    "def mase(daily_hexagon_y_train, daily_hexagon_y_pred_rbf_train):\n",
    "    # Calculate the mean of the observed values\n",
    "    y_mean = np.mean(daily_hexagon_y_train)\n",
    "    \n",
    "    # Calculate MAE of the model\n",
    "    mae_model = np.mean(np.abs(daily_hexagon_y_train - daily_hexagon_y_pred_rbf_train))\n",
    "    \n",
    "    # Calculate MAE of the mean forecast\n",
    "    mae_mean = np.mean(np.abs(daily_hexagon_y_train - y_mean))\n",
    "    \n",
    "    # Calculate MASE\n",
    "    mase_value = mae_model / mae_mean\n",
    "    return mase_value\n",
    "\n",
    "daily_hexagon_mase_rbf_train = mase(daily_hexagon_y_train, daily_hexagon_y_pred_rbf_train)\n",
    "\n",
    "daily_hexagon_mape_rbf_train = mean_absolute_percentage_error(daily_hexagon_y_train, daily_hexagon_y_pred_rbf_train)\n",
    "\n",
    "# Custom function for SMAPE\n",
    "def smape(daily_hexagon_y_train, daily_hexagon_y_pred_rbf_train):\n",
    "    return 100 * np.mean(2 * np.abs(daily_hexagon_y_pred_rbf_train - daily_hexagon_y_train) / (np.abs(daily_hexagon_y_pred_rbf_train) + np.abs(daily_hexagon_y_train)))\n",
    "\n",
    "daily_hexagon_smape_rbf_train = smape(daily_hexagon_y_train, daily_hexagon_y_pred_rbf_train)\n",
    "\n",
    "print(f'daily_hexagon SVM Model rbf kernel (train) - MAE: {daily_hexagon_mae_rbf_train}, MSE: {daily_hexagon_mse_rbf_train}, RMSE: {daily_hexagon_rmse_rbf_train}, R2: {daily_hexagon_r2_rbf_train}, MASE: {daily_hexagon_mase_rbf_train}, MAPE: {daily_hexagon_mape_rbf_train}, SMAPE: {daily_hexagon_smape_rbf_train}')\n"
   ]
  },
  {
   "cell_type": "code",
   "execution_count": 32,
   "metadata": {},
   "outputs": [
    {
     "name": "stdout",
     "output_type": "stream",
     "text": [
      "daily_hexagon SVM Model rbf kernel (test) - MAE: 0.07976330089031845, MSE: 0.04361262049525602, RMSE: 0.20883634859682837, R2: 0.9563819142640804, MASE: 0.21328392627357956, MAPE: 0.5849087385657937, SMAPE: 30.360550635754603\n"
     ]
    }
   ],
   "source": [
    "# Evaluate on the testing set\n",
    "daily_hexagon_mae_rbf_test = mean_absolute_error(daily_hexagon_y_test, daily_hexagon_y_pred_rbf_test)\n",
    "daily_hexagon_mse_rbf_test = mean_squared_error(daily_hexagon_y_test, daily_hexagon_y_pred_rbf_test)\n",
    "daily_hexagon_rmse_rbf_test = np.sqrt(daily_hexagon_mse_rbf_test)\n",
    "daily_hexagon_r2_rbf_test = r2_score(daily_hexagon_y_test, daily_hexagon_y_pred_rbf_test)\n",
    "\n",
    "def mase(daily_hexagon_y_test, daily_hexagon_y_pred_rbf_test):\n",
    "    # Calculate the mean of the observed values\n",
    "    y_mean = np.mean(daily_hexagon_y_test)\n",
    "    \n",
    "    # Calculate MAE of the model\n",
    "    mae_model = np.mean(np.abs(daily_hexagon_y_test - daily_hexagon_y_pred_rbf_test))\n",
    "    \n",
    "    # Calculate MAE of the mean forecast\n",
    "    mae_mean = np.mean(np.abs(daily_hexagon_y_test - y_mean))\n",
    "    \n",
    "    # Calculate MASE\n",
    "    mase_value = mae_model / mae_mean\n",
    "    return mase_value\n",
    "\n",
    "daily_hexagon_mase_rbf_test = mase(daily_hexagon_y_test, daily_hexagon_y_pred_rbf_test)\n",
    "\n",
    "daily_hexagon_mape_rbf_test = mean_absolute_percentage_error(daily_hexagon_y_test, daily_hexagon_y_pred_rbf_test)\n",
    "\n",
    "# Custom function for SMAPE\n",
    "def smape(daily_hexagon_y_test, daily_hexagon_y_pred_rbf_test):\n",
    "    return 100 * np.mean(2 * np.abs(daily_hexagon_y_pred_rbf_test - daily_hexagon_y_test) / (np.abs(daily_hexagon_y_pred_rbf_test) + np.abs(daily_hexagon_y_test)))\n",
    "\n",
    "daily_hexagon_smape_rbf_test = smape(daily_hexagon_y_test, daily_hexagon_y_pred_rbf_test)\n",
    "\n",
    "print(f'daily_hexagon SVM Model rbf kernel (test) - MAE: {daily_hexagon_mae_rbf_test}, MSE: {daily_hexagon_mse_rbf_test}, RMSE: {daily_hexagon_rmse_rbf_test}, R2: {daily_hexagon_r2_rbf_test}, MASE: {daily_hexagon_mase_rbf_test}, MAPE: {daily_hexagon_mape_rbf_test}, SMAPE: {daily_hexagon_smape_rbf_test}')"
   ]
  },
  {
   "cell_type": "markdown",
   "metadata": {},
   "source": [
    "### daily hexagon with manual grid searching & Kernel approximation with Nystroem method"
   ]
  },
  {
   "cell_type": "code",
   "execution_count": 19,
   "metadata": {},
   "outputs": [
    {
     "name": "stdout",
     "output_type": "stream",
     "text": [
      "[LibLinear]"
     ]
    },
    {
     "name": "stderr",
     "output_type": "stream",
     "text": [
      "C:\\Users\\A1DF42D\\AppData\\Roaming\\Python\\Python310\\site-packages\\sklearn\\svm\\_base.py:1235: ConvergenceWarning: Liblinear failed to converge, increase the number of iterations.\n",
      "  warnings.warn(\n"
     ]
    }
   ],
   "source": [
    "gamma_value = 1 / daily_hexagon_X_train.shape[1]\n",
    "\n",
    "# Use Nystroem method for kernel approximation\n",
    "nystroem_approx = Nystroem(kernel='rbf', gamma= gamma_value, n_components=1000)  # You can adjust n_components as needed\n",
    "\n",
    "# Standardize features\n",
    "scaler = StandardScaler()\n",
    "\n",
    "# Create a pipeline that first applies Nyström approximation and then fits the SVM model\n",
    "daily_hexagon_svm_nystroem = Pipeline([\n",
    "    ('scaler', scaler),\n",
    "    ('nystroem', nystroem_approx),\n",
    "    ('svm', LinearSVR(C=1000, verbose=True))\n",
    "])\n",
    "\n",
    "# Fit the model\n",
    "daily_hexagon_svm_nystroem.fit(daily_hexagon_X_train, daily_hexagon_y_train)\n",
    "\n",
    "# Predict on the test set\n",
    "daily_hexagon_y_pred_approx_rbf_test = daily_hexagon_svm_nystroem.predict(daily_hexagon_X_test)\n",
    "\n",
    "# Predict on the training set\n",
    "daily_hexagon_y_pred_approx_rbf_train = daily_hexagon_svm_nystroem.predict(daily_hexagon_X_train)"
   ]
  },
  {
   "cell_type": "code",
   "execution_count": 20,
   "metadata": {},
   "outputs": [],
   "source": [
    "# Evaluate on the training set\n",
    "daily_hexagon_mae_rbf_approx_train = mean_absolute_error(daily_hexagon_y_train, daily_hexagon_y_pred_approx_rbf_train)\n",
    "daily_hexagon_mse_rbf_approx_train = mean_squared_error(daily_hexagon_y_train, daily_hexagon_y_pred_approx_rbf_train)\n",
    "daily_hexagon_rmse_rbf_approx_train = np.sqrt(daily_hexagon_mse_rbf_approx_train)\n",
    "daily_hexagon_r2_rbf_approx_train = r2_score(daily_hexagon_y_train, daily_hexagon_y_pred_approx_rbf_train)\n",
    "\n",
    "def mase(daily_hexagon_y_train, daily_hexagon_y_pred_approx_rbf_train):\n",
    "    # Calculate the mean of the observed values\n",
    "    y_mean = np.mean(daily_hexagon_y_train)\n",
    "    \n",
    "    # Calculate MAE of the model\n",
    "    mae_model = np.mean(np.abs(daily_hexagon_y_train - daily_hexagon_y_pred_approx_rbf_train))\n",
    "    \n",
    "    # Calculate MAE of the mean forecast\n",
    "    mae_mean = np.mean(np.abs(daily_hexagon_y_train - y_mean))\n",
    "    \n",
    "    # Calculate MASE\n",
    "    mase_value = mae_model / mae_mean\n",
    "    return mase_value\n",
    "\n",
    "daily_hexagon_mase_rbf_approx_train = mase(daily_hexagon_y_train, daily_hexagon_y_pred_approx_rbf_train)\n",
    "\n",
    "daily_hexagon_mape_rbf_approx_train = mean_absolute_percentage_error(daily_hexagon_y_train, daily_hexagon_y_pred_approx_rbf_train)\n",
    "\n",
    "# Custom function for SMAPE\n",
    "def smape(daily_hexagon_y_train, daily_hexagon_y_pred_approx_rbf_train):\n",
    "    return 100 * np.mean(2 * np.abs(daily_hexagon_y_pred_approx_rbf_train - daily_hexagon_y_train) / (np.abs(daily_hexagon_y_pred_approx_rbf_train) + np.abs(daily_hexagon_y_train)))\n",
    "\n",
    "daily_hexagon_smape_rbf_approx_train = smape(daily_hexagon_y_train, daily_hexagon_y_pred_approx_rbf_train)\n",
    "\n",
    "print(f'daily_hexagon SVM Model rbf_approx kernel (train) - MAE: {daily_hexagon_mae_rbf_approx_train}, MSE: {daily_hexagon_mse_rbf_approx_train}, RMSE: {daily_hexagon_rmse_rbf_approx_train}, R2: {daily_hexagon_r2_rbf_approx_train}, MASE: {daily_hexagon_mase_rbf_approx_train}, MAPE: {daily_hexagon_mape_rbf_approx_train}, SMAPE: {daily_hexagon_smape_rbf_approx_train}')\n"
   ]
  },
  {
   "cell_type": "code",
   "execution_count": 21,
   "metadata": {},
   "outputs": [
    {
     "name": "stdout",
     "output_type": "stream",
     "text": [
      "daily_hexagon SVM Model rbf_approx kernel (test) - MAE: 0.11657313673820512, MSE: 0.08275030185986153, RMSE: 0.28766352194858064, R2: 0.9172393284281259, MASE: 0.3117119781156036, MAPE: 0.6303254770643778, SMAPE: 37.34568215284455\n"
     ]
    }
   ],
   "source": [
    "# Evaluate on the testing set\n",
    "daily_hexagon_mae_rbf_approx_test = mean_absolute_error(daily_hexagon_y_test, daily_hexagon_y_pred_approx_rbf_test)\n",
    "daily_hexagon_mse_rbf_approx_test = mean_squared_error(daily_hexagon_y_test, daily_hexagon_y_pred_approx_rbf_test)\n",
    "daily_hexagon_rmse_rbf_approx_test = np.sqrt(daily_hexagon_mse_rbf_approx_test)\n",
    "daily_hexagon_r2_rbf_approx_test = r2_score(daily_hexagon_y_test, daily_hexagon_y_pred_approx_rbf_test)\n",
    "\n",
    "def mase(daily_hexagon_y_test, daily_hexagon_y_pred_approx_rbf_test):\n",
    "    # Calculate the mean of the observed values\n",
    "    y_mean = np.mean(daily_hexagon_y_test)\n",
    "    \n",
    "    # Calculate MAE of the model\n",
    "    mae_model = np.mean(np.abs(daily_hexagon_y_test - daily_hexagon_y_pred_approx_rbf_test))\n",
    "    \n",
    "    # Calculate MAE of the mean forecast\n",
    "    mae_mean = np.mean(np.abs(daily_hexagon_y_test - y_mean))\n",
    "    \n",
    "    # Calculate MASE\n",
    "    mase_value = mae_model / mae_mean\n",
    "    return mase_value\n",
    "\n",
    "daily_hexagon_mase_rbf_approx_test = mase(daily_hexagon_y_test, daily_hexagon_y_pred_approx_rbf_test)\n",
    "\n",
    "daily_hexagon_mape_rbf_approx_test = mean_absolute_percentage_error(daily_hexagon_y_test, daily_hexagon_y_pred_approx_rbf_test)\n",
    "\n",
    "# Custom function for SMAPE\n",
    "def smape(daily_hexagon_y_test, daily_hexagon_y_pred_approx_rbf_test):\n",
    "    return 100 * np.mean(2 * np.abs(daily_hexagon_y_pred_approx_rbf_test - daily_hexagon_y_test) / (np.abs(daily_hexagon_y_pred_approx_rbf_test) + np.abs(daily_hexagon_y_test)))\n",
    "\n",
    "daily_hexagon_smape_rbf_approx_test = smape(daily_hexagon_y_test, daily_hexagon_y_pred_approx_rbf_test)\n",
    "\n",
    "print(f'daily_hexagon SVM Model rbf_approx kernel (test) - MAE: {daily_hexagon_mae_rbf_approx_test}, MSE: {daily_hexagon_mse_rbf_approx_test}, RMSE: {daily_hexagon_rmse_rbf_approx_test}, R2: {daily_hexagon_r2_rbf_approx_test}, MASE: {daily_hexagon_mase_rbf_approx_test}, MAPE: {daily_hexagon_mape_rbf_approx_test}, SMAPE: {daily_hexagon_smape_rbf_approx_test}')"
   ]
  },
  {
   "cell_type": "markdown",
   "metadata": {},
   "source": [
    "### daily hexagon with grid searching (put # because it takes too long)"
   ]
  },
  {
   "cell_type": "code",
   "execution_count": null,
   "metadata": {},
   "outputs": [],
   "source": [
    "# Define the parameter grid for RBF kernel\n",
    "#param_grid_rbf = {\n",
    "#    'C': [0.1, 1, 10, 100, 1000],\n",
    "#    'gamma': ['scale', 'auto'],  # gamma is used for RBF kernel\n",
    "#    'kernel': ['rbf']  # Specify RBF kernel\n",
    "#}\n",
    "\n",
    "# Initialize and perform Grid Search for RBF kernel\n",
    "#grid_search_rbf = GridSearchCV(SVR(), param_grid_rbf, cv=5, scoring='neg_mean_absolute_error')\n",
    "#grid_search_rbf.fit(daily_hexagon_X_train, daily_hexagon_y_train)\n",
    "\n",
    "# Best parameters from Grid Search\n",
    "#print(f'Best parameters for RBF kernel: {grid_search_rbf.best_params_}')\n",
    "\n",
    "# Get the best model from grid search\n",
    "#best_svm_rbf = grid_search_rbf.best_estimator_\n",
    "\n",
    "# Predict on the test set\n",
    "#  daily_hexagon_best_svm_rbf_test = best_svm_rbf.predict(daily_hexagon_X_test)\n",
    "\n",
    "# Predict on the training set\n",
    "# daily_hexagon_best_svm_rbf_train = best_svm_rbf.predict(daily_hexagon_X_train)"
   ]
  },
  {
   "cell_type": "code",
   "execution_count": null,
   "metadata": {},
   "outputs": [],
   "source": [
    "# # # Evaluate on the training set\n",
    "# daily_hexagon_best_mae_rbf_train = mean_absolute_error(daily_hexagon_y_train, daily_hexagon_best_svm_rbf_train)\n",
    "# daily_hexagon_best_mse_rbf_train = mean_squared_error(daily_hexagon_y_train, daily_hexagon_best_svm_rbf_train)\n",
    "# daily_hexagon_best_rmse_rbf_train = np.sqrt(daily_hexagon_best_mse_rbf_train)\n",
    "# # daily_hexagon_best_r2_rbf_train = r2_score(daily_hexagon_y_train, daily_hexagon_best_svm_rbf_train)\n",
    "\n",
    "# # def mase(daily_hexagon_y_train, daily_hexagon_best_svm_rbf_train):\n",
    "# #     # Calculate the mean of the observed values\n",
    "# #     y_mean = np.mean(daily_hexagon_y_train)\n",
    "    \n",
    "# #     # Calculate MAE of the model\n",
    "# #     mae_model = np.mean(np.abs(daily_hexagon_y_train - daily_hexagon_best_svm_rbf_train))\n",
    "    \n",
    "# #     # Calculate MAE of the mean forecast\n",
    "# #     mae_mean = np.mean(np.abs(daily_hexagon_y_train - y_mean))\n",
    "    \n",
    "# #     # Calculate MASE\n",
    "# #     mase_value = mae_model / mae_mean\n",
    "# #     return mase_value\n",
    "\n",
    "# # daily_hexagon_best_mase_rbf_train = mase(daily_hexagon_y_train, daily_hexagon_best_svm_rbf_train)\n",
    "\n",
    "# # daily_hexagon_best_mape_rbf_train = mean_absolute_percentage_error(daily_hexagon_y_train, daily_hexagon_best_svm_rbf_train)\n",
    "\n",
    "# # # Custom function for SMAPE\n",
    "# # def smape(daily_hexagon_y_train, daily_hexagon_best_svm_rbf_train):\n",
    "# #     return 100 * np.mean(2 * np.abs(daily_hexagon_best_svm_rbf_train - daily_hexagon_y_train) / (np.abs(daily_hexagon_best_svm_rbf_train) + np.abs(daily_hexagon_y_train)))\n",
    "\n",
    "# # daily_hexagon_best_smape_rbf_train = smape(daily_hexagon_y_train, daily_hexagon_best_svm_rbf_train)\n",
    "\n",
    "# # print(f'daily_hexagon SVM Model rbf kernel (train) - MAE: {daily_hexagon_best_mae_rbf_train}, MSE: {daily_hexagon_best_mse_rbf_train}, RMSE: {daily_hexagon_best_rmse_rbf_train}, R2: {daily_hexagon_best_r2_rbf_train}, MASE: {daily_hexagon_best_mase_rbf_train}, MAPE: {daily_hexagon_best_mape_rbf_train}, SMAPE: {daily_hexagon_best_smape_rbf_train}')\n"
   ]
  },
  {
   "cell_type": "code",
   "execution_count": null,
   "metadata": {},
   "outputs": [],
   "source": [
    "# # # Evaluate on the testing set\n",
    "# daily_hexagon_best_mae_rbf_test = mean_absolute_error(daily_hexagon_y_test, daily_hexagon_best_svm_rbf_test)\n",
    "# daily_hexagon_best_mse_rbf_test = mean_squared_error(daily_hexagon_y_test, daily_hexagon_best_svm_rbf_test)\n",
    "# daily_hexagon_best_rmse_rbf_test = np.sqrt(daily_hexagon_best_mse_rbf_test)\n",
    "# # daily_hexagon_best_r2_rbf_test = r2_score(daily_hexagon_y_test, daily_hexagon_best_svm_rbf_test)\n",
    "\n",
    "# # def mase(daily_hexagon_y_test, daily_hexagon_best_svm_rbf_test):\n",
    "# #     # Calculate the mean of the observed values\n",
    "# #     y_mean = np.mean(daily_hexagon_y_test)\n",
    "    \n",
    "# #     # Calculate MAE of the model\n",
    "# #     mae_model = np.mean(np.abs(daily_hexagon_y_test - daily_hexagon_best_svm_rbf_test))\n",
    "    \n",
    "# #     # Calculate MAE of the mean forecast\n",
    "# #     mae_mean = np.mean(np.abs(daily_hexagon_y_test - y_mean))\n",
    "    \n",
    "# #     # Calculate MASE\n",
    "# #     mase_value = mae_model / mae_mean\n",
    "# #     return mase_value\n",
    "\n",
    "# # daily_hexagon_best_mase_rbf_test = mase(daily_hexagon_y_test, daily_hexagon_best_svm_rbf_test)\n",
    "\n",
    "# # daily_hexagon_best_mape_rbf_test = mean_absolute_percentage_error(daily_hexagon_y_test, daily_hexagon_best_svm_rbf_test)\n",
    "\n",
    "# # # Custom function for SMAPE\n",
    "# # def smape(daily_hexagon_y_test, daily_hexagon_best_svm_rbf_test):\n",
    "# #     return 100 * np.mean(2 * np.abs(daily_hexagon_best_svm_rbf_test - daily_hexagon_y_test) / (np.abs(daily_hexagon_best_svm_rbf_test) + np.abs(daily_hexagon_y_test)))\n",
    "\n",
    "# # daily_hexagon_best_smape_rbf_test = smape(daily_hexagon_y_test, daily_hexagon_best_svm_rbf_test)\n",
    "\n",
    "# # print(f'daily_hexagon SVM Model rbf kernel (test) - MAE: {daily_hexagon_best_mae_rbf_test}, MSE: {daily_hexagon_best_mse_rbf_test}, RMSE: {daily_hexagon_best_rmse_rbf_test}, R2: {daily_hexagon_best_r2_rbf_test}, MASE: {daily_hexagon_best_mase_rbf_test}, MAPE: {daily_hexagon_best_mape_rbf_test}, SMAPE: {daily_hexagon_best_smape_rbf_test}')"
   ]
  },
  {
   "cell_type": "markdown",
   "metadata": {},
   "source": [
    "### hourly hexagon with manual grid searching (put # because it takes too long)"
   ]
  },
  {
   "cell_type": "code",
   "execution_count": null,
   "metadata": {},
   "outputs": [],
   "source": [
    "# # Train SVM model with rbf kernel\n",
    "# #hourly_hexagon_svm_rbf = SVR(kernel='rbf', gamma='auto',  C=1000, verbose=True)\n",
    "# #hourly_hexagon_svm_rbf.fit(hourly_hexagon_X_train, hourly_hexagon_y_train)\n",
    "\n",
    "# # Predict on the test set\n",
    "# hourly_hexagon_y_pred_rbf_test = hourly_hexagon_svm_rbf.predict(hourly_hexagon_X_test)\n",
    "\n",
    "# # Predict on the training set\n",
    "# hourly_hexagon_y_pred_rbf_train = hourly_hexagon_svm_rbf.predict(hourly_hexagon_X_train)"
   ]
  },
  {
   "cell_type": "code",
   "execution_count": null,
   "metadata": {},
   "outputs": [],
   "source": [
    "# # Evaluate on the training set\n",
    "# hourly_hexagon_mae_rbf_train = mean_absolute_error(hourly_hexagon_y_train, hourly_hexagon_y_pred_rbf_train)\n",
    "# hourly_hexagon_mse_rbf_train = mean_squared_error(hourly_hexagon_y_train, hourly_hexagon_y_pred_rbf_train)\n",
    "# hourly_hexagon_rmse_rbf_train = np.sqrt(hourly_hexagon_mse_rbf_train)\n",
    "# hourly_hexagon_r2_rbf_train = r2_score(hourly_hexagon_y_train, hourly_hexagon_y_pred_rbf_train)\n",
    "\n",
    "# def mase(hourly_hexagon_y_train, hourly_hexagon_y_pred_rbf_train):\n",
    "#     # Calculate the mean of the observed values\n",
    "#     y_mean = np.mean(hourly_hexagon_y_train)\n",
    "    \n",
    "#     # Calculate MAE of the model\n",
    "#     mae_model = np.mean(np.abs(hourly_hexagon_y_train - hourly_hexagon_y_pred_rbf_train))\n",
    "    \n",
    "#     # Calculate MAE of the mean forecast\n",
    "#     mae_mean = np.mean(np.abs(hourly_hexagon_y_train - y_mean))\n",
    "    \n",
    "#     # Calculate MASE\n",
    "#     mase_value = mae_model / mae_mean\n",
    "#     return mase_value\n",
    "\n",
    "# hourly_hexagon_mase_rbf_train = mase(hourly_hexagon_y_train, hourly_hexagon_y_pred_rbf_train)\n",
    "\n",
    "# hourly_hexagon_mape_rbf_train = mean_absolute_percentage_error(hourly_hexagon_y_train, hourly_hexagon_y_pred_rbf_train)\n",
    "\n",
    "# # Custom function for SMAPE\n",
    "# def smape(hourly_hexagon_y_train, hourly_hexagon_y_pred_rbf_train):\n",
    "#     return 100 * np.mean(2 * np.abs(hourly_hexagon_y_pred_rbf_train - hourly_hexagon_y_train) / (np.abs(hourly_hexagon_y_pred_rbf_train) + np.abs(hourly_hexagon_y_train)))\n",
    "\n",
    "# hourly_hexagon_smape_rbf_train = smape(hourly_hexagon_y_train, hourly_hexagon_y_pred_rbf_train)\n",
    "\n",
    "# print(f'hourly_hexagon SVM Model rbf kernel (train) - MAE: {hourly_hexagon_mae_rbf_train}, MSE: {hourly_hexagon_mse_rbf_train}, RMSE: {hourly_hexagon_rmse_rbf_train}, R2: {hourly_hexagon_r2_rbf_train}, MASE: {hourly_hexagon_mase_rbf_train}, MAPE: {hourly_hexagon_mape_rbf_train}, SMAPE: {hourly_hexagon_smape_rbf_train}')\n"
   ]
  },
  {
   "cell_type": "code",
   "execution_count": null,
   "metadata": {},
   "outputs": [],
   "source": [
    "# # Evaluate on the testing set\n",
    "# hourly_hexagon_mae_rbf_test = mean_absolute_error(hourly_hexagon_y_test, hourly_hexagon_y_pred_rbf_test)\n",
    "# hourly_hexagon_mse_rbf_test = mean_squared_error(hourly_hexagon_y_test, hourly_hexagon_y_pred_rbf_test)\n",
    "# hourly_hexagon_rmse_rbf_test = np.sqrt(hourly_hexagon_mse_rbf_test)\n",
    "# hourly_hexagon_r2_rbf_test = r2_score(hourly_hexagon_y_test, hourly_hexagon_y_pred_rbf_test)\n",
    "\n",
    "# def mase(hourly_hexagon_y_test, hourly_hexagon_y_pred_rbf_test):\n",
    "#     # Calculate the mean of the observed values\n",
    "#     y_mean = np.mean(hourly_hexagon_y_test)\n",
    "    \n",
    "#     # Calculate MAE of the model\n",
    "#     mae_model = np.mean(np.abs(hourly_hexagon_y_test - hourly_hexagon_y_pred_rbf_test))\n",
    "    \n",
    "#     # Calculate MAE of the mean forecast\n",
    "#     mae_mean = np.mean(np.abs(hourly_hexagon_y_test - y_mean))\n",
    "    \n",
    "#     # Calculate MASE\n",
    "#     mase_value = mae_model / mae_mean\n",
    "#     return mase_value\n",
    "\n",
    "# hourly_hexagon_mase_rbf_test = mase(hourly_hexagon_y_test, hourly_hexagon_y_pred_rbf_test)\n",
    "\n",
    "# hourly_hexagon_mape_rbf_test = mean_absolute_percentage_error(hourly_hexagon_y_test, hourly_hexagon_y_pred_rbf_test)\n",
    "\n",
    "# # Custom function for SMAPE\n",
    "# def smape(hourly_hexagon_y_test, hourly_hexagon_y_pred_rbf_test):\n",
    "#     return 100 * np.mean(2 * np.abs(hourly_hexagon_y_pred_rbf_test - hourly_hexagon_y_test) / (np.abs(hourly_hexagon_y_pred_rbf_test) + np.abs(hourly_hexagon_y_test)))\n",
    "\n",
    "# hourly_hexagon_smape_rbf_test = smape(hourly_hexagon_y_test, hourly_hexagon_y_pred_rbf_test)\n",
    "\n",
    "# print(f'hourly_hexagon SVM Model rbf kernel (test) - MAE: {hourly_hexagon_mae_rbf_test}, MSE: {hourly_hexagon_mse_rbf_test}, RMSE: {hourly_hexagon_rmse_rbf_test}, R2: {hourly_hexagon_r2_rbf_test}, MASE: {hourly_hexagon_mase_rbf_test}, MAPE: {hourly_hexagon_mape_rbf_test}, SMAPE: {hourly_hexagon_smape_rbf_test}')\n"
   ]
  },
  {
   "cell_type": "markdown",
   "metadata": {},
   "source": [
    "### hourly hexagon with manual grid searching & Kernel approximation with Nystroem method"
   ]
  },
  {
   "cell_type": "code",
   "execution_count": 22,
   "metadata": {},
   "outputs": [
    {
     "name": "stdout",
     "output_type": "stream",
     "text": [
      "[LibLinear]"
     ]
    },
    {
     "name": "stderr",
     "output_type": "stream",
     "text": [
      "C:\\Users\\A1DF42D\\AppData\\Roaming\\Python\\Python310\\site-packages\\sklearn\\svm\\_base.py:1235: ConvergenceWarning: Liblinear failed to converge, increase the number of iterations.\n",
      "  warnings.warn(\n"
     ]
    }
   ],
   "source": [
    "gamma_value = 1 / hourly_hexagon_X_train.shape[1]\n",
    "\n",
    "# Use Nystroem method for kernel approximation\n",
    "nystroem_approx = Nystroem(kernel='rbf', gamma= gamma_value, n_components=1000)  # You can adjust n_components as needed\n",
    "\n",
    "# Standardize features\n",
    "scaler = StandardScaler()\n",
    "\n",
    "# Create a pipeline that first applies Nyström approximation and then fits the SVM model\n",
    "hourly_hexagon_svm_nystroem = Pipeline([\n",
    "    ('scaler', scaler),\n",
    "    ('nystroem', nystroem_approx),\n",
    "    ('svm', LinearSVR(C=1000, verbose=True))\n",
    "])\n",
    "\n",
    "# Fit the model\n",
    "hourly_hexagon_svm_nystroem.fit(hourly_hexagon_X_train, hourly_hexagon_y_train)\n",
    "\n",
    "# Predict on the test set\n",
    "hourly_hexagon_y_pred_approx_rbf_test = hourly_hexagon_svm_nystroem.predict(hourly_hexagon_X_test)\n",
    "\n",
    "# Predict on the training set\n",
    "hourly_hexagon_y_pred_approx_rbf_train = hourly_hexagon_svm_nystroem.predict(hourly_hexagon_X_train)"
   ]
  },
  {
   "cell_type": "code",
   "execution_count": 23,
   "metadata": {},
   "outputs": [],
   "source": [
    "# Evaluate on the training set\n",
    "hourly_hexagon_mae_rbf_approx_train = mean_absolute_error(hourly_hexagon_y_train, hourly_hexagon_y_pred_approx_rbf_train)\n",
    "hourly_hexagon_mse_rbf_approx_train = mean_squared_error(hourly_hexagon_y_train, hourly_hexagon_y_pred_approx_rbf_train)\n",
    "hourly_hexagon_rmse_rbf_approx_train = np.sqrt(hourly_hexagon_mse_rbf_approx_train)\n",
    "hourly_hexagon_r2_rbf_approx_train = r2_score(hourly_hexagon_y_train, hourly_hexagon_y_pred_approx_rbf_train)\n",
    "\n",
    "def mase(hourly_hexagon_y_train, hourly_hexagon_y_pred_approx_rbf_train):\n",
    "    # Calculate the mean of the observed values\n",
    "    y_mean = np.mean(hourly_hexagon_y_train)\n",
    "    \n",
    "    # Calculate MAE of the model\n",
    "    mae_model = np.mean(np.abs(hourly_hexagon_y_train - hourly_hexagon_y_pred_approx_rbf_train))\n",
    "    \n",
    "    # Calculate MAE of the mean forecast\n",
    "    mae_mean = np.mean(np.abs(hourly_hexagon_y_train - y_mean))\n",
    "    \n",
    "    # Calculate MASE\n",
    "    mase_value = mae_model / mae_mean\n",
    "    return mase_value\n",
    "\n",
    "hourly_hexagon_mase_rbf_approx_train = mase(hourly_hexagon_y_train, hourly_hexagon_y_pred_approx_rbf_train)\n",
    "\n",
    "hourly_hexagon_mape_rbf_approx_train = mean_absolute_percentage_error(hourly_hexagon_y_train, hourly_hexagon_y_pred_approx_rbf_train)\n",
    "\n",
    "# Custom function for SMAPE\n",
    "def smape(hourly_hexagon_y_train, hourly_hexagon_y_pred_approx_rbf_train):\n",
    "    return 100 * np.mean(2 * np.abs(hourly_hexagon_y_pred_approx_rbf_train - hourly_hexagon_y_train) / (np.abs(hourly_hexagon_y_pred_approx_rbf_train) + np.abs(hourly_hexagon_y_train)))\n",
    "\n",
    "hourly_hexagon_smape_rbf_approx_train = smape(hourly_hexagon_y_train, hourly_hexagon_y_pred_approx_rbf_train)\n",
    "\n",
    "print(f'hourly_hexagon SVM Model rbf_approx kernel (train) - MAE: {hourly_hexagon_mae_rbf_approx_train}, MSE: {hourly_hexagon_mse_rbf_approx_train}, RMSE: {hourly_hexagon_rmse_rbf_approx_train}, R2: {hourly_hexagon_r2_rbf_approx_train}, MASE: {hourly_hexagon_mase_rbf_approx_train}, MAPE: {hourly_hexagon_mape_rbf_approx_train}, SMAPE: {hourly_hexagon_smape_rbf_approx_train}')"
   ]
  },
  {
   "cell_type": "code",
   "execution_count": 24,
   "metadata": {},
   "outputs": [
    {
     "name": "stdout",
     "output_type": "stream",
     "text": [
      "hourly_hexagon SVM Model rbf_approx kernel (test) - MAE: 0.14405148575006355, MSE: 0.1361344844267938, RMSE: 0.3689640692896719, R2: 0.863864442811885, MASE: 0.3916670316831245, MAPE: 0.7703256188181828, SMAPE: 49.9630443186247\n"
     ]
    }
   ],
   "source": [
    "# Evaluate on the testing set\n",
    "hourly_hexagon_mae_rbf_approx_test = mean_absolute_error(hourly_hexagon_y_test, hourly_hexagon_y_pred_approx_rbf_test)\n",
    "hourly_hexagon_mse_rbf_approx_test = mean_squared_error(hourly_hexagon_y_test, hourly_hexagon_y_pred_approx_rbf_test)\n",
    "hourly_hexagon_rmse_rbf_approx_test = np.sqrt(hourly_hexagon_mse_rbf_approx_test)\n",
    "hourly_hexagon_r2_rbf_approx_test = r2_score(hourly_hexagon_y_test, hourly_hexagon_y_pred_approx_rbf_test)\n",
    "\n",
    "def mase(hourly_hexagon_y_test, hourly_hexagon_y_pred_approx_rbf_test):\n",
    "    # Calculate the mean of the observed values\n",
    "    y_mean = np.mean(hourly_hexagon_y_test)\n",
    "    \n",
    "    # Calculate MAE of the model\n",
    "    mae_model = np.mean(np.abs(hourly_hexagon_y_test - hourly_hexagon_y_pred_approx_rbf_test))\n",
    "    \n",
    "    # Calculate MAE of the mean forecast\n",
    "    mae_mean = np.mean(np.abs(hourly_hexagon_y_test - y_mean))\n",
    "    \n",
    "    # Calculate MASE\n",
    "    mase_value = mae_model / mae_mean\n",
    "    return mase_value\n",
    "\n",
    "hourly_hexagon_mase_rbf_approx_test = mase(hourly_hexagon_y_test, hourly_hexagon_y_pred_approx_rbf_test)\n",
    "\n",
    "hourly_hexagon_mape_rbf_approx_test = mean_absolute_percentage_error(hourly_hexagon_y_test, hourly_hexagon_y_pred_approx_rbf_test)\n",
    "\n",
    "# Custom function for SMAPE\n",
    "def smape(hourly_hexagon_y_test, hourly_hexagon_y_pred_approx_rbf_test):\n",
    "    return 100 * np.mean(2 * np.abs(hourly_hexagon_y_pred_approx_rbf_test - hourly_hexagon_y_test) / (np.abs(hourly_hexagon_y_pred_approx_rbf_test) + np.abs(hourly_hexagon_y_test)))\n",
    "\n",
    "hourly_hexagon_smape_rbf_approx_test = smape(hourly_hexagon_y_test, hourly_hexagon_y_pred_approx_rbf_test)\n",
    "\n",
    "print(f'hourly_hexagon SVM Model rbf_approx kernel (test) - MAE: {hourly_hexagon_mae_rbf_approx_test}, MSE: {hourly_hexagon_mse_rbf_approx_test}, RMSE: {hourly_hexagon_rmse_rbf_approx_test}, R2: {hourly_hexagon_r2_rbf_approx_test}, MASE: {hourly_hexagon_mase_rbf_approx_test}, MAPE: {hourly_hexagon_mape_rbf_approx_test}, SMAPE: {hourly_hexagon_smape_rbf_approx_test}')"
   ]
  },
  {
   "cell_type": "markdown",
   "metadata": {},
   "source": [
    "### hourly hexagon with grid searching (put # because it takes too long)"
   ]
  },
  {
   "cell_type": "code",
   "execution_count": null,
   "metadata": {},
   "outputs": [],
   "source": [
    "# Define the parameter grid for RBF kernel\n",
    "#param_grid_rbf = {\n",
    "#    'C': [0.1, 1, 10, 100, 1000],\n",
    "#    'gamma': ['scale', 'auto'],  # gamma is used for RBF kernel\n",
    "#    'kernel': ['rbf']  # Specify RBF kernel\n",
    "#}\n",
    "\n",
    "# Initialize and perform Grid Search for RBF kernel\n",
    "#grid_search_rbf = GridSearchCV(SVR(), param_grid_rbf, cv=5, scoring='neg_mean_absolute_error')\n",
    "#grid_search_rbf.fit(hourly_hexagon_X_train, hourly_hexagon_y_train)\n",
    "\n",
    "# Best parameters from Grid Search\n",
    "#print(f'Best parameters for RBF kernel: {grid_search_rbf.best_params_}')\n",
    "\n",
    "# Get the best model from grid search\n",
    "#best_svm_rbf = grid_search_rbf.best_estimator_\n",
    "\n",
    "# Predict on the test set\n",
    "#hourly_hexagon_best_svm_rbf_test = best_svm_rbf.predict(hourly_hexagon_X_test)\n",
    "\n",
    "# Predict on the training set\n",
    "#hourly_hexagon_best_svm_rbf_train = best_svm_rbf.predict(hourly_hexagon_X_train)"
   ]
  },
  {
   "cell_type": "code",
   "execution_count": null,
   "metadata": {},
   "outputs": [],
   "source": [
    "# # # Evaluate on the training set\n",
    "# hourly_hexagon_best_mae_rbf_train = mean_absolute_error(hourly_hexagon_y_train, hourly_hexagon_best_svm_rbf_train)\n",
    "# hourly_hexagon_best_mse_rbf_train = mean_squared_error(hourly_hexagon_y_train, hourly_hexagon_best_svm_rbf_train)\n",
    "# hourly_hexagon_best_rmse_rbf_train = np.sqrt(hourly_hexagon_best_mse_rbf_train)\n",
    "# # hourly_hexagon_best_r2_rbf_train = r2_score(hourly_hexagon_y_train, hourly_hexagon_best_svm_rbf_train)\n",
    "\n",
    "# # def mase(hourly_hexagon_y_train, hourly_hexagon_best_svm_rbf_train):\n",
    "# #     # Calculate the mean of the observed values\n",
    "# #     y_mean = np.mean(hourly_hexagon_y_train)\n",
    "    \n",
    "# #     # Calculate MAE of the model\n",
    "# #     mae_model = np.mean(np.abs(hourly_hexagon_y_train - hourly_hexagon_best_svm_rbf_train))\n",
    "    \n",
    "# #     # Calculate MAE of the mean forecast\n",
    "# #     mae_mean = np.mean(np.abs(hourly_hexagon_y_train - y_mean))\n",
    "    \n",
    "# #     # Calculate MASE\n",
    "# #     mase_value = mae_model / mae_mean\n",
    "# #     return mase_value\n",
    "\n",
    "# # hourly_hexagon_best_mase_rbf_train = mase(hourly_hexagon_y_train, hourly_hexagon_best_svm_rbf_train)\n",
    "\n",
    "# # hourly_hexagon_best_mape_rbf_train = mean_absolute_percentage_error(hourly_hexagon_y_train, hourly_hexagon_best_svm_rbf_train)\n",
    "\n",
    "# # # Custom function for SMAPE\n",
    "# # def smape(hourly_hexagon_y_train, hourly_hexagon_best_svm_rbf_train):\n",
    "# #     return 100 * np.mean(2 * np.abs(hourly_hexagon_best_svm_rbf_train - hourly_hexagon_y_train) / (np.abs(hourly_hexagon_best_svm_rbf_train) + np.abs(hourly_hexagon_y_train)))\n",
    "\n",
    "# # hourly_hexagon_best_smape_rbf_train = smape(hourly_hexagon_y_train, hourly_hexagon_best_svm_rbf_train)\n",
    "\n",
    "# # print(f'hourly_hexagon SVM Model rbf kernel (train) - MAE: {hourly_hexagon_best_mae_rbf_train}, MSE: {hourly_hexagon_best_mse_rbf_train}, RMSE: {hourly_hexagon_best_rmse_rbf_train}, R2: {hourly_hexagon_best_r2_rbf_train}, MASE: {hourly_hexagon_best_mase_rbf_train}, MAPE: {hourly_hexagon_best_mape_rbf_train}, SMAPE: {hourly_hexagon_best_smape_rbf_train}')\n"
   ]
  },
  {
   "cell_type": "code",
   "execution_count": null,
   "metadata": {},
   "outputs": [],
   "source": [
    "# # # Evaluate on the testing set\n",
    "# hourly_hexagon_best_mae_rbf_test = mean_absolute_error(hourly_hexagon_y_test, hourly_hexagon_best_svm_rbf_test)\n",
    "# hourly_hexagon_best_mse_rbf_test = mean_squared_error(hourly_hexagon_y_test, hourly_hexagon_best_svm_rbf_test)\n",
    "# hourly_hexagon_best_rmse_rbf_test = np.sqrt(hourly_hexagon_best_mse_rbf_test)\n",
    "# # hourly_hexagon_best_r2_rbf_test = r2_score(hourly_hexagon_y_test, hourly_hexagon_best_svm_rbf_test)\n",
    "\n",
    "# # def mase(hourly_hexagon_y_test, hourly_hexagon_best_svm_rbf_test):\n",
    "# #     # Calculate the mean of the observed values\n",
    "# #     y_mean = np.mean(hourly_hexagon_y_test)\n",
    "    \n",
    "# #     # Calculate MAE of the model\n",
    "# #     mae_model = np.mean(np.abs(hourly_hexagon_y_test - hourly_hexagon_best_svm_rbf_test))\n",
    "    \n",
    "# #     # Calculate MAE of the mean forecast\n",
    "# #     mae_mean = np.mean(np.abs(hourly_hexagon_y_test - y_mean))\n",
    "    \n",
    "# #     # Calculate MASE\n",
    "# #     mase_value = mae_model / mae_mean\n",
    "# #     return mase_value\n",
    "\n",
    "# # hourly_hexagon_best_mase_rbf_test = mase(hourly_hexagon_y_test, hourly_hexagon_best_svm_rbf_test)\n",
    "\n",
    "# # hourly_hexagon_best_mape_rbf_test = mean_absolute_percentage_error(hourly_hexagon_y_test, hourly_hexagon_best_svm_rbf_test)\n",
    "\n",
    "# # # Custom function for SMAPE\n",
    "# # def smape(hourly_hexagon_y_test, hourly_hexagon_best_svm_rbf_test):\n",
    "# #     return 100 * np.mean(2 * np.abs(hourly_hexagon_best_svm_rbf_test - hourly_hexagon_y_test) / (np.abs(hourly_hexagon_best_svm_rbf_test) + np.abs(hourly_hexagon_y_test)))\n",
    "\n",
    "# # hourly_hexagon_best_smape_rbf_test = smape(hourly_hexagon_y_test, hourly_hexagon_best_svm_rbf_test)\n",
    "\n",
    "# # print(f'hourly_hexagon SVM Model rbf kernel (test) - MAE: {hourly_hexagon_best_mae_rbf_test}, MSE: {hourly_hexagon_best_mse_rbf_test}, RMSE: {hourly_hexagon_best_rmse_rbf_test}, R2: {hourly_hexagon_best_r2_rbf_test}, MASE: {hourly_hexagon_best_mase_rbf_test}, MAPE: {hourly_hexagon_best_mape_rbf_test}, SMAPE: {hourly_hexagon_best_smape_rbf_test}')"
   ]
  },
  {
   "cell_type": "markdown",
   "metadata": {},
   "source": [
    "### daily census with manual grid searching"
   ]
  },
  {
   "cell_type": "code",
   "execution_count": null,
   "metadata": {},
   "outputs": [
    {
     "name": "stdout",
     "output_type": "stream",
     "text": [
      "[LibSVM]"
     ]
    }
   ],
   "source": [
    "# Train SVM model with rbf kernel\n",
    "daily_census_svm_rbf = SVR(kernel='rbf', gamma='auto',  C=1000, verbose=True)\n",
    "daily_census_svm_rbf.fit(daily_census_X_train, daily_census_y_train)\n",
    "\n",
    "# Predict on the test set\n",
    "daily_census_y_pred_rbf_test = daily_census_svm_rbf.predict(daily_census_X_test)\n",
    "\n",
    "# Predict on the training set\n",
    "daily_census_y_pred_rbf_train = daily_census_svm_rbf.predict(daily_census_X_train)"
   ]
  },
  {
   "cell_type": "code",
   "execution_count": null,
   "metadata": {},
   "outputs": [
    {
     "name": "stdout",
     "output_type": "stream",
     "text": [
      "daily_census SVM Model rbf kernel (train) - R2: 0.9282083747096878, MASE: 0.16350939709166304, MAPE: 1.0101398953426686, SMAPE: 39.748725894721865\n"
     ]
    }
   ],
   "source": [
    "# Evaluate on the training set\n",
    "daily_census_mae_rbf_train = mean_absolute_error(daily_census_y_train, daily_census_y_pred_rbf_train)\n",
    "daily_census_mse_rbf_train = mean_squared_error(daily_census_y_train, daily_census_y_pred_rbf_train)\n",
    "daily_census_rmse_rbf_train = np.sqrt(daily_census_mse_rbf_train)\n",
    "daily_census_r2_rbf_train = r2_score(daily_census_y_train, daily_census_y_pred_rbf_train)\n",
    "\n",
    "def mase(daily_census_y_train, daily_census_y_pred_rbf_train):\n",
    "    # Calculate the mean of the observed values\n",
    "    y_mean = np.mean(daily_census_y_train)\n",
    "    \n",
    "    # Calculate MAE of the model\n",
    "    mae_model = np.mean(np.abs(daily_census_y_train - daily_census_y_pred_rbf_train))\n",
    "    \n",
    "    # Calculate MAE of the mean forecast\n",
    "    mae_mean = np.mean(np.abs(daily_census_y_train - y_mean))\n",
    "    \n",
    "    # Calculate MASE\n",
    "    mase_value = mae_model / mae_mean\n",
    "    return mase_value\n",
    "\n",
    "daily_census_mase_rbf_train = mase(daily_census_y_train, daily_census_y_pred_rbf_train)\n",
    "\n",
    "daily_census_mape_rbf_train = mean_absolute_percentage_error(daily_census_y_train, daily_census_y_pred_rbf_train)\n",
    "\n",
    "# Custom function for SMAPE\n",
    "def smape(daily_census_y_train, daily_census_y_pred_rbf_train):\n",
    "    return 100 * np.mean(2 * np.abs(daily_census_y_pred_rbf_train - daily_census_y_train) / (np.abs(daily_census_y_pred_rbf_train) + np.abs(daily_census_y_train)))\n",
    "\n",
    "daily_census_smape_rbf_train = smape(daily_census_y_train, daily_census_y_pred_rbf_train)\n",
    "\n",
    "print(f'daily_census SVM Model rbf kernel (train) - MAE: {daily_census_mae_rbf_train}, MSE: {daily_census_mse_rbf_train}, RMSE: {daily_census_rmse_rbf_train}, R2: {daily_census_r2_rbf_train}, MASE: {daily_census_mase_rbf_train}, MAPE: {daily_census_mape_rbf_train}, SMAPE: {daily_census_smape_rbf_train}')"
   ]
  },
  {
   "cell_type": "code",
   "execution_count": null,
   "metadata": {},
   "outputs": [
    {
     "name": "stdout",
     "output_type": "stream",
     "text": [
      "daily_census SVM Model rbf kernel (test) - R2: 0.922173372700334, MASE: 0.17242527651164727, MAPE: 1.101503683145638, SMAPE: 43.64536868634114\n"
     ]
    }
   ],
   "source": [
    "# Evaluate on the testing set\n",
    "daily_census_mae_rbf_test = mean_absolute_error(daily_census_y_test, daily_census_y_pred_rbf_test)\n",
    "daily_census_mse_rbf_test = mean_squared_error(daily_census_y_test, daily_census_y_pred_rbf_test)\n",
    "daily_census_rmse_rbf_test = np.sqrt(daily_census_mse_rbf_test)\n",
    "daily_census_r2_rbf_test = r2_score(daily_census_y_test, daily_census_y_pred_rbf_test)\n",
    "\n",
    "def mase(daily_census_y_test, daily_census_y_pred_rbf_test):\n",
    "    # Calculate the mean of the observed values\n",
    "    y_mean = np.mean(daily_census_y_test)\n",
    "    \n",
    "    # Calculate MAE of the model\n",
    "    mae_model = np.mean(np.abs(daily_census_y_test - daily_census_y_pred_rbf_test))\n",
    "    \n",
    "    # Calculate MAE of the mean forecast\n",
    "    mae_mean = np.mean(np.abs(daily_census_y_test - y_mean))\n",
    "    \n",
    "    # Calculate MASE\n",
    "    mase_value = mae_model / mae_mean\n",
    "    return mase_value\n",
    "\n",
    "daily_census_mase_rbf_test = mase(daily_census_y_test, daily_census_y_pred_rbf_test)\n",
    "\n",
    "daily_census_mape_rbf_test = mean_absolute_percentage_error(daily_census_y_test, daily_census_y_pred_rbf_test)\n",
    "\n",
    "# Custom function for SMAPE\n",
    "def smape(daily_census_y_test, daily_census_y_pred_rbf_test):\n",
    "    return 100 * np.mean(2 * np.abs(daily_census_y_pred_rbf_test - daily_census_y_test) / (np.abs(daily_census_y_pred_rbf_test) + np.abs(daily_census_y_test)))\n",
    "\n",
    "daily_census_smape_rbf_test = smape(daily_census_y_test, daily_census_y_pred_rbf_test)\n",
    "\n",
    "print(f'daily_census SVM Model rbf kernel (test) - MAE: {daily_census_mae_rbf_test}, MSE: {daily_census_mse_rbf_test}, RMSE: {daily_census_rmse_rbf_test}, R2: {daily_census_r2_rbf_test}, MASE: {daily_census_mase_rbf_test}, MAPE: {daily_census_mape_rbf_test}, SMAPE: {daily_census_smape_rbf_test}')"
   ]
  },
  {
   "cell_type": "markdown",
   "metadata": {},
   "source": [
    "### daily census with manual grid searching & Kernel approximation with Nystroem method"
   ]
  },
  {
   "cell_type": "code",
   "execution_count": 25,
   "metadata": {},
   "outputs": [
    {
     "name": "stdout",
     "output_type": "stream",
     "text": [
      "[LibLinear]"
     ]
    },
    {
     "name": "stderr",
     "output_type": "stream",
     "text": [
      "C:\\Users\\A1DF42D\\AppData\\Roaming\\Python\\Python310\\site-packages\\sklearn\\svm\\_base.py:1235: ConvergenceWarning: Liblinear failed to converge, increase the number of iterations.\n",
      "  warnings.warn(\n"
     ]
    }
   ],
   "source": [
    "gamma_value = 1 / daily_census_X_train.shape[1]\n",
    "\n",
    "# Use Nystroem method for kernel approximation\n",
    "nystroem_approx = Nystroem(kernel='rbf', gamma= gamma_value, n_components=1000)  # You can adjust n_components as needed\n",
    "\n",
    "# Standardize features\n",
    "scaler = StandardScaler()\n",
    "\n",
    "# Create a pipeline that first applies Nyström approximation and then fits the SVM model\n",
    "daily_census_svm_nystroem = Pipeline([\n",
    "    ('scaler', scaler),\n",
    "    ('nystroem', nystroem_approx),\n",
    "    ('svm', LinearSVR(C=1000, verbose=True))\n",
    "])\n",
    "\n",
    "# Fit the model\n",
    "daily_census_svm_nystroem.fit(daily_census_X_train, daily_census_y_train)\n",
    "\n",
    "# Predict on the test set\n",
    "daily_census_y_pred_approx_rbf_test = daily_census_svm_nystroem.predict(daily_census_X_test)\n",
    "\n",
    "# Predict on the training set\n",
    "daily_census_y_pred_approx_rbf_train = daily_census_svm_nystroem.predict(daily_census_X_train)"
   ]
  },
  {
   "cell_type": "code",
   "execution_count": 26,
   "metadata": {},
   "outputs": [],
   "source": [
    "# Evaluate on the training set\n",
    "daily_census_mae_rbf_approx_train = mean_absolute_error(daily_census_y_train, daily_census_y_pred_approx_rbf_train)\n",
    "daily_census_mse_rbf_approx_train = mean_squared_error(daily_census_y_train, daily_census_y_pred_approx_rbf_train)\n",
    "daily_census_rmse_rbf_approx_train = np.sqrt(daily_census_mse_rbf_approx_train)\n",
    "daily_census_r2_rbf_approx_train = r2_score(daily_census_y_train, daily_census_y_pred_approx_rbf_train)\n",
    "\n",
    "def mase(daily_census_y_train, daily_census_y_pred_approx_rbf_train):\n",
    "    # Calculate the mean of the observed values\n",
    "    y_mean = np.mean(daily_census_y_train)\n",
    "    \n",
    "    # Calculate MAE of the model\n",
    "    mae_model = np.mean(np.abs(daily_census_y_train - daily_census_y_pred_approx_rbf_train))\n",
    "    \n",
    "    # Calculate MAE of the mean forecast\n",
    "    mae_mean = np.mean(np.abs(daily_census_y_train - y_mean))\n",
    "    \n",
    "    # Calculate MASE\n",
    "    mase_value = mae_model / mae_mean\n",
    "    return mase_value\n",
    "\n",
    "daily_census_mase_rbf_approx_train = mase(daily_census_y_train, daily_census_y_pred_approx_rbf_train)\n",
    "\n",
    "daily_census_mape_rbf_approx_train = mean_absolute_percentage_error(daily_census_y_train, daily_census_y_pred_approx_rbf_train)\n",
    "\n",
    "# Custom function for SMAPE\n",
    "def smape(daily_census_y_train, daily_census_y_pred_approx_rbf_train):\n",
    "    return 100 * np.mean(2 * np.abs(daily_census_y_pred_approx_rbf_train - daily_census_y_train) / (np.abs(daily_census_y_pred_approx_rbf_train) + np.abs(daily_census_y_train)))\n",
    "\n",
    "daily_census_smape_rbf_approx_train = smape(daily_census_y_train, daily_census_y_pred_approx_rbf_train)\n",
    "\n",
    "print(f'daily_census SVM Model rbf_approx kernel (train) - MAE: {daily_census_mae_rbf_approx_train}, MSE: {daily_census_mse_rbf_approx_train}, RMSE: {daily_census_rmse_rbf_approx_train}, R2: {daily_census_r2_rbf_approx_train}, MASE: {daily_census_mase_rbf_approx_train}, MAPE: {daily_census_mape_rbf_approx_train}, SMAPE: {daily_census_smape_rbf_approx_train}')"
   ]
  },
  {
   "cell_type": "code",
   "execution_count": 27,
   "metadata": {},
   "outputs": [
    {
     "name": "stdout",
     "output_type": "stream",
     "text": [
      "daily_census SVM Model rbf_approx kernel (test) - MAE: 0.19345751814550496, MSE: 0.1006959918997353, RMSE: 0.3173263176916395, R2: 0.8992935025194718, MASE: 0.41373434367383816, MAPE: 1.8701294341954338, SMAPE: 49.51964590258763\n"
     ]
    }
   ],
   "source": [
    "# Evaluate on the testing set\n",
    "daily_census_mae_rbf_approx_test = mean_absolute_error(daily_census_y_test, daily_census_y_pred_approx_rbf_test)\n",
    "daily_census_mse_rbf_approx_test = mean_squared_error(daily_census_y_test, daily_census_y_pred_approx_rbf_test)\n",
    "daily_census_rmse_rbf_approx_test = np.sqrt(daily_census_mse_rbf_approx_test)\n",
    "daily_census_r2_rbf_approx_test = r2_score(daily_census_y_test, daily_census_y_pred_approx_rbf_test)\n",
    "\n",
    "def mase(daily_census_y_test, daily_census_y_pred_approx_rbf_test):\n",
    "    # Calculate the mean of the observed values\n",
    "    y_mean = np.mean(daily_census_y_test)\n",
    "    \n",
    "    # Calculate MAE of the model\n",
    "    mae_model = np.mean(np.abs(daily_census_y_test - daily_census_y_pred_approx_rbf_test))\n",
    "    \n",
    "    # Calculate MAE of the mean forecast\n",
    "    mae_mean = np.mean(np.abs(daily_census_y_test - y_mean))\n",
    "    \n",
    "    # Calculate MASE\n",
    "    mase_value = mae_model / mae_mean\n",
    "    return mase_value\n",
    "\n",
    "daily_census_mase_rbf_approx_test = mase(daily_census_y_test, daily_census_y_pred_approx_rbf_test)\n",
    "\n",
    "daily_census_mape_rbf_approx_test = mean_absolute_percentage_error(daily_census_y_test, daily_census_y_pred_approx_rbf_test)\n",
    "\n",
    "# Custom function for SMAPE\n",
    "def smape(daily_census_y_test, daily_census_y_pred_approx_rbf_test):\n",
    "    return 100 * np.mean(2 * np.abs(daily_census_y_pred_approx_rbf_test - daily_census_y_test) / (np.abs(daily_census_y_pred_approx_rbf_test) + np.abs(daily_census_y_test)))\n",
    "\n",
    "daily_census_smape_rbf_approx_test = smape(daily_census_y_test, daily_census_y_pred_approx_rbf_test)\n",
    "\n",
    "print(f'daily_census SVM Model rbf_approx kernel (test) - MAE: {daily_census_mae_rbf_approx_test}, MSE: {daily_census_mse_rbf_approx_test}, RMSE: {daily_census_rmse_rbf_approx_test}, R2: {daily_census_r2_rbf_approx_test}, MASE: {daily_census_mase_rbf_approx_test}, MAPE: {daily_census_mape_rbf_approx_test}, SMAPE: {daily_census_smape_rbf_approx_test}')"
   ]
  },
  {
   "cell_type": "markdown",
   "metadata": {},
   "source": [
    "### daily census with grid searching (put # because it takes too long)"
   ]
  },
  {
   "cell_type": "code",
   "execution_count": null,
   "metadata": {},
   "outputs": [],
   "source": [
    "# Define the parameter grid for RBF kernel\n",
    "#param_grid_rbf = {\n",
    "#    'C': [0.1, 1, 10, 100, 1000],\n",
    "#    'gamma': ['scale', 'auto'],  # gamma is used for RBF kernel\n",
    "#    'kernel': ['rbf']  # Specify RBF kernel\n",
    "#}\n",
    "\n",
    "# Initialize and perform Grid Search for RBF kernel\n",
    "#grid_search_rbf = GridSearchCV(SVR(), param_grid_rbf, cv=5, scoring='neg_mean_absolute_error')\n",
    "#grid_search_rbf.fit(daily_census_X_train, daily_census_y_train)\n",
    "\n",
    "# Best parameters from Grid Search\n",
    "#print(f'Best parameters for RBF kernel: {grid_search_rbf.best_params_}')\n",
    "\n",
    "# Get the best model from grid search\n",
    "#best_svm_rbf = grid_search_rbf.best_estimator_\n",
    "\n",
    "# Predict on the test set\n",
    "#daily_census_best_svm_rbf_test = best_svm_rbf.predict(daily_census_X_test)\n",
    "\n",
    "# Predict on the training set\n",
    "#daily_census_best_svm_rbf_train = best_svm_rbf.predict(daily_census_X_train)"
   ]
  },
  {
   "cell_type": "code",
   "execution_count": null,
   "metadata": {},
   "outputs": [],
   "source": [
    "# # # Evaluate on the training set\n",
    "# daily_census_best_mae_rbf_train = mean_absolute_error(daily_census_y_train, daily_census_best_svm_rbf_train)\n",
    "# daily_census_best_mse_rbf_train = mean_squared_error(daily_census_y_train, daily_census_best_svm_rbf_train)\n",
    "# daily_census_best_rmse_rbf_train = np.sqrt(daily_census_best_mse_rbf_train)\n",
    "# # daily_census_best_r2_rbf_train = r2_score(daily_census_y_train, daily_census_best_svm_rbf_train)\n",
    "\n",
    "# # def mase(daily_census_y_train, daily_census_best_svm_rbf_train):\n",
    "# #     # Calculate the mean of the observed values\n",
    "# #     y_mean = np.mean(daily_census_y_train)\n",
    "    \n",
    "# #     # Calculate MAE of the model\n",
    "# #     mae_model = np.mean(np.abs(daily_census_y_train - daily_census_best_svm_rbf_train))\n",
    "    \n",
    "# #     # Calculate MAE of the mean forecast\n",
    "# #     mae_mean = np.mean(np.abs(daily_census_y_train - y_mean))\n",
    "    \n",
    "# #     # Calculate MASE\n",
    "# #     mase_value = mae_model / mae_mean\n",
    "# #     return mase_value\n",
    "\n",
    "# # daily_census_best_mase_rbf_train = mase(daily_census_y_train, daily_census_best_svm_rbf_train)\n",
    "\n",
    "# # daily_census_best_mape_rbf_train = mean_absolute_percentage_error(daily_census_y_train, daily_census_best_svm_rbf_train)\n",
    "\n",
    "# # # Custom function for SMAPE\n",
    "# # def smape(daily_census_y_train, daily_census_best_svm_rbf_train):\n",
    "# #     return 100 * np.mean(2 * np.abs(daily_census_best_svm_rbf_train - daily_census_y_train) / (np.abs(daily_census_best_svm_rbf_train) + np.abs(daily_census_y_train)))\n",
    "\n",
    "# # daily_census_best_smape_rbf_train = smape(daily_census_y_train, daily_census_best_svm_rbf_train)\n",
    "\n",
    "# # print(f'daily_census SVM Model rbf kernel (train) - MAE: {daily_census_best_mae_rbf_train}, MSE: {daily_census_best_mse_rbf_train}, RMSE: {daily_census_best_rmse_rbf_train}, R2: {daily_census_best_r2_rbf_train}, MASE: {daily_census_best_mase_rbf_train}, MAPE: {daily_census_best_mape_rbf_train}, SMAPE: {daily_census_best_smape_rbf_train}')"
   ]
  },
  {
   "cell_type": "code",
   "execution_count": null,
   "metadata": {},
   "outputs": [],
   "source": [
    "# # # Evaluate on the testing set\n",
    "# daily_census_best_mae_rbf_test = mean_absolute_error(daily_census_y_test, daily_census_best_svm_rbf_test)\n",
    "# daily_census_best_mse_rbf_test = mean_squared_error(daily_census_y_test, daily_census_best_svm_rbf_test)\n",
    "# daily_census_best_rmse_rbf_test = np.sqrt(daily_census_best_mse_rbf_test)\n",
    "# # daily_census_best_r2_rbf_test = r2_score(daily_census_y_test, daily_census_best_svm_rbf_test)\n",
    "\n",
    "# # def mase(daily_census_y_test, daily_census_best_svm_rbf_test):\n",
    "# #     # Calculate the mean of the observed values\n",
    "# #     y_mean = np.mean(daily_census_y_test)\n",
    "    \n",
    "# #     # Calculate MAE of the model\n",
    "# #     mae_model = np.mean(np.abs(daily_census_y_test - daily_census_best_svm_rbf_test))\n",
    "    \n",
    "# #     # Calculate MAE of the mean forecast\n",
    "# #     mae_mean = np.mean(np.abs(daily_census_y_test - y_mean))\n",
    "    \n",
    "# #     # Calculate MASE\n",
    "# #     mase_value = mae_model / mae_mean\n",
    "# #     return mase_value\n",
    "\n",
    "# # daily_census_best_mase_rbf_test = mase(daily_census_y_test, daily_census_best_svm_rbf_test)\n",
    "\n",
    "# # daily_census_best_mape_rbf_test = mean_absolute_percentage_error(daily_census_y_test, daily_census_best_svm_rbf_test)\n",
    "\n",
    "# # # Custom function for SMAPE\n",
    "# # def smape(daily_census_y_test, daily_census_best_svm_rbf_test):\n",
    "# #     return 100 * np.mean(2 * np.abs(daily_census_best_svm_rbf_test - daily_census_y_test) / (np.abs(daily_census_best_svm_rbf_test) + np.abs(daily_census_y_test)))\n",
    "\n",
    "# # daily_census_best_smape_rbf_test = smape(daily_census_y_test, daily_census_best_svm_rbf_test)\n",
    "\n",
    "# # print(f'daily_census SVM Model rbf kernel (test) - MAE: {daily_census_best_mae_rbf_test}, MSE: {daily_census_best_mse_rbf_test}, RMSE: {daily_census_best_rmse_rbf_test}, R2: {daily_census_best_r2_rbf_test}, MASE: {daily_census_best_mase_rbf_test}, MAPE: {daily_census_best_mape_rbf_test}, SMAPE: {daily_census_best_smape_rbf_test}')"
   ]
  },
  {
   "cell_type": "markdown",
   "metadata": {},
   "source": [
    "### hourly census with manual grid searching  (put # because it takes too long)"
   ]
  },
  {
   "cell_type": "code",
   "execution_count": null,
   "metadata": {},
   "outputs": [],
   "source": [
    "# Train SVM model with rbf kernel\n",
    "# hourly_census_svm_rbf = SVR(kernel='rbf', gamma='auto',  C=1000, verbose=True)\n",
    "# hourly_census_svm_rbf.fit(hourly_census_X_train, hourly_census_y_train)\n",
    "\n",
    "# Predict on the test set\n",
    "# hourly_census_y_pred_rbf_test = hourly_census_svm_rbf.predict(hourly_census_X_test)\n",
    "\n",
    "# Predict on the training set\n",
    "# hourly_census_y_pred_rbf_train = hourly_census_svm_rbf.predict(hourly_census_X_train)"
   ]
  },
  {
   "cell_type": "code",
   "execution_count": null,
   "metadata": {},
   "outputs": [],
   "source": [
    "# # Evaluate on the training set\n",
    "# hourly_census_mae_rbf_train = mean_absolute_error(hourly_census_y_train, hourly_census_y_pred_rbf_train)\n",
    "# hourly_census_mse_rbf_train = mean_squared_error(hourly_census_y_train, hourly_census_y_pred_rbf_train)\n",
    "# hourly_census_rmse_rbf_train = np.sqrt(hourly_census_mse_rbf_train)\n",
    "# hourly_census_r2_rbf_train = r2_score(hourly_census_y_train, hourly_census_y_pred_rbf_train)\n",
    "\n",
    "# def mase(hourly_census_y_train, hourly_census_y_pred_rbf_train):\n",
    "#     # Calculate the mean of the observed values\n",
    "#     y_mean = np.mean(hourly_census_y_train)\n",
    "    \n",
    "#     # Calculate MAE of the model\n",
    "#     mae_model = np.mean(np.abs(hourly_census_y_train - hourly_census_y_pred_rbf_train))\n",
    "    \n",
    "#     # Calculate MAE of the mean forecast\n",
    "#     mae_mean = np.mean(np.abs(hourly_census_y_train - y_mean))\n",
    "    \n",
    "#     # Calculate MASE\n",
    "#     mase_value = mae_model / mae_mean\n",
    "#     return mase_value\n",
    "\n",
    "# hourly_census_mase_rbf_train = mase(hourly_census_y_train, hourly_census_y_pred_rbf_train)\n",
    "\n",
    "# hourly_census_mape_rbf_train = mean_absolute_percentage_error(hourly_census_y_train, hourly_census_y_pred_rbf_train)\n",
    "\n",
    "# # Custom function for SMAPE\n",
    "# def smape(hourly_census_y_train, hourly_census_y_pred_rbf_train):\n",
    "#     return 100 * np.mean(2 * np.abs(hourly_census_y_pred_rbf_train - hourly_census_y_train) / (np.abs(hourly_census_y_pred_rbf_train) + np.abs(hourly_census_y_train)))\n",
    "\n",
    "# hourly_census_smape_rbf_train = smape(hourly_census_y_train, hourly_census_y_pred_rbf_train)\n",
    "\n",
    "# print(f'hourly_census SVM Model rbf kernel (train) - MAE: {hourly_census_mae_rbf_train}, MSE: {hourly_census_mse_rbf_train}, RMSE: {hourly_census_rmse_rbf_train}, R2: {hourly_census_r2_rbf_train}, MASE: {hourly_census_mase_rbf_train}, MAPE: {hourly_census_mape_rbf_train}, SMAPE: {hourly_census_smape_rbf_train}')\n"
   ]
  },
  {
   "cell_type": "code",
   "execution_count": null,
   "metadata": {},
   "outputs": [],
   "source": [
    "# # Evaluate on the testing set\n",
    "# hourly_census_mae_rbf_test = mean_absolute_error(hourly_census_y_test, hourly_census_y_pred_rbf_test)\n",
    "# hourly_census_mse_rbf_test = mean_squared_error(hourly_census_y_test, hourly_census_y_pred_rbf_test)\n",
    "# hourly_census_rmse_rbf_test = np.sqrt(hourly_census_mse_rbf_test)\n",
    "# hourly_census_r2_rbf_test = r2_score(hourly_census_y_test, hourly_census_y_pred_rbf_test)\n",
    "\n",
    "# def mase(hourly_census_y_test, hourly_census_y_pred_rbf_test):\n",
    "#     # Calculate the mean of the observed values\n",
    "#     y_mean = np.mean(hourly_census_y_test)\n",
    "    \n",
    "#     # Calculate MAE of the model\n",
    "#     mae_model = np.mean(np.abs(hourly_census_y_test - hourly_census_y_pred_rbf_test))\n",
    "    \n",
    "#     # Calculate MAE of the mean forecast\n",
    "#     mae_mean = np.mean(np.abs(hourly_census_y_test - y_mean))\n",
    "    \n",
    "#     # Calculate MASE\n",
    "#     mase_value = mae_model / mae_mean\n",
    "#     return mase_value\n",
    "\n",
    "# hourly_census_mase_rbf_test = mase(hourly_census_y_test, hourly_census_y_pred_rbf_test)\n",
    "\n",
    "# hourly_census_mape_rbf_test = mean_absolute_percentage_error(hourly_census_y_test, hourly_census_y_pred_rbf_test)\n",
    "\n",
    "# # Custom function for SMAPE\n",
    "# def smape(hourly_census_y_test, hourly_census_y_pred_rbf_test):\n",
    "#     return 100 * np.mean(2 * np.abs(hourly_census_y_pred_rbf_test - hourly_census_y_test) / (np.abs(hourly_census_y_pred_rbf_test) + np.abs(hourly_census_y_test)))\n",
    "\n",
    "# hourly_census_smape_rbf_test = smape(hourly_census_y_test, hourly_census_y_pred_rbf_test)\n",
    "\n",
    "# print(f'hourly_census SVM Model rbf kernel (test) - MAE: {hourly_census_mae_rbf_test}, MSE: {hourly_census_mse_rbf_test}, RMSE: {hourly_census_rmse_rbf_test}, R2: {hourly_census_r2_rbf_test}, MASE: {hourly_census_mase_rbf_test}, MAPE: {hourly_census_mape_rbf_test}, SMAPE: {hourly_census_smape_rbf_test}')"
   ]
  },
  {
   "cell_type": "markdown",
   "metadata": {},
   "source": [
    "### hourly census with manual grid searching & Kernel approximation with Nystroem method"
   ]
  },
  {
   "cell_type": "code",
   "execution_count": 28,
   "metadata": {},
   "outputs": [
    {
     "name": "stdout",
     "output_type": "stream",
     "text": [
      "[LibLinear]"
     ]
    },
    {
     "name": "stderr",
     "output_type": "stream",
     "text": [
      "C:\\Users\\A1DF42D\\AppData\\Roaming\\Python\\Python310\\site-packages\\sklearn\\svm\\_base.py:1235: ConvergenceWarning: Liblinear failed to converge, increase the number of iterations.\n",
      "  warnings.warn(\n"
     ]
    }
   ],
   "source": [
    "gamma_value = 1 / hourly_census_X_train.shape[1]\n",
    "\n",
    "# Use Nystroem method for kernel approximation\n",
    "nystroem_approx = Nystroem(kernel='rbf', gamma= gamma_value, n_components=1000)  # You can adjust n_components as needed\n",
    "\n",
    "# Standardize features\n",
    "scaler = StandardScaler()\n",
    "\n",
    "# Create a pipeline that first applies Nyström approximation and then fits the SVM model\n",
    "hourly_census_svm_nystroem = Pipeline([\n",
    "    ('scaler', scaler),\n",
    "    ('nystroem', nystroem_approx),\n",
    "    ('svm', LinearSVR(C=1000, verbose=True))\n",
    "])\n",
    "\n",
    "# Fit the model\n",
    "hourly_census_svm_nystroem.fit(hourly_census_X_train, hourly_census_y_train)\n",
    "\n",
    "# Predict on the test set\n",
    "hourly_census_y_pred_approx_rbf_test = hourly_census_svm_nystroem.predict(hourly_census_X_test)\n",
    "\n",
    "# Predict on the training set\n",
    "hourly_census_y_pred_approx_rbf_train = hourly_census_svm_nystroem.predict(hourly_census_X_train)"
   ]
  },
  {
   "cell_type": "code",
   "execution_count": 29,
   "metadata": {},
   "outputs": [],
   "source": [
    "# Evaluate on the training set\n",
    "hourly_census_mae_rbf_approx_train = mean_absolute_error(hourly_census_y_train, hourly_census_y_pred_approx_rbf_train)\n",
    "hourly_census_mse_rbf_approx_train = mean_squared_error(hourly_census_y_train, hourly_census_y_pred_approx_rbf_train)\n",
    "hourly_census_rmse_rbf_approx_train = np.sqrt(hourly_census_mse_rbf_approx_train)\n",
    "hourly_census_r2_rbf_approx_train = r2_score(hourly_census_y_train, hourly_census_y_pred_approx_rbf_train)\n",
    "\n",
    "def mase(hourly_census_y_train, hourly_census_y_pred_approx_rbf_train):\n",
    "    # Calculate the mean of the observed values\n",
    "    y_mean = np.mean(hourly_census_y_train)\n",
    "    \n",
    "    # Calculate MAE of the model\n",
    "    mae_model = np.mean(np.abs(hourly_census_y_train - hourly_census_y_pred_approx_rbf_train))\n",
    "    \n",
    "    # Calculate MAE of the mean forecast\n",
    "    mae_mean = np.mean(np.abs(hourly_census_y_train - y_mean))\n",
    "    \n",
    "    # Calculate MASE\n",
    "    mase_value = mae_model / mae_mean\n",
    "    return mase_value\n",
    "\n",
    "hourly_census_mase_rbf_approx_train = mase(hourly_census_y_train, hourly_census_y_pred_approx_rbf_train)\n",
    "\n",
    "hourly_census_mape_rbf_approx_train = mean_absolute_percentage_error(hourly_census_y_train, hourly_census_y_pred_approx_rbf_train)\n",
    "\n",
    "# Custom function for SMAPE\n",
    "def smape(hourly_census_y_train, hourly_census_y_pred_approx_rbf_train):\n",
    "    return 100 * np.mean(2 * np.abs(hourly_census_y_pred_approx_rbf_train - hourly_census_y_train) / (np.abs(hourly_census_y_pred_approx_rbf_train) + np.abs(hourly_census_y_train)))\n",
    "\n",
    "hourly_census_smape_rbf_approx_train = smape(hourly_census_y_train, hourly_census_y_pred_approx_rbf_train)\n",
    "\n",
    "print(f'hourly_census SVM Model rbf_approx kernel (train) - MAE: {hourly_census_mae_rbf_approx_train}, MSE: {hourly_census_mse_rbf_approx_train}, RMSE: {hourly_census_rmse_rbf_approx_train}, R2: {hourly_census_r2_rbf_approx_train}, MASE: {hourly_census_mase_rbf_approx_train}, MAPE: {hourly_census_mape_rbf_approx_train}, SMAPE: {hourly_census_smape_rbf_approx_train}')"
   ]
  },
  {
   "cell_type": "code",
   "execution_count": 30,
   "metadata": {},
   "outputs": [
    {
     "name": "stdout",
     "output_type": "stream",
     "text": [
      "hourly_census SVM Model rbf_approx kernel (test) - MAE: 0.24861118747672376, MSE: 0.2034808611544177, RMSE: 0.4510885291762779, R2: 0.796517158380921, MASE: 0.484226551341934, MAPE: 1.2088494338404976, SMAPE: 57.72421887371322\n"
     ]
    }
   ],
   "source": [
    "# Evaluate on the testing set\n",
    "hourly_census_mae_rbf_approx_test = mean_absolute_error(hourly_census_y_test, hourly_census_y_pred_approx_rbf_test)\n",
    "hourly_census_mse_rbf_approx_test = mean_squared_error(hourly_census_y_test, hourly_census_y_pred_approx_rbf_test)\n",
    "hourly_census_rmse_rbf_approx_test = np.sqrt(hourly_census_mse_rbf_approx_test)\n",
    "hourly_census_r2_rbf_approx_test = r2_score(hourly_census_y_test, hourly_census_y_pred_approx_rbf_test)\n",
    "\n",
    "def mase(hourly_census_y_test, hourly_census_y_pred_approx_rbf_test):\n",
    "    # Calculate the mean of the observed values\n",
    "    y_mean = np.mean(hourly_census_y_test)\n",
    "    \n",
    "    # Calculate MAE of the model\n",
    "    mae_model = np.mean(np.abs(hourly_census_y_test - hourly_census_y_pred_approx_rbf_test))\n",
    "    \n",
    "    # Calculate MAE of the mean forecast\n",
    "    mae_mean = np.mean(np.abs(hourly_census_y_test - y_mean))\n",
    "    \n",
    "    # Calculate MASE\n",
    "    mase_value = mae_model / mae_mean\n",
    "    return mase_value\n",
    "\n",
    "hourly_census_mase_rbf_approx_test = mase(hourly_census_y_test, hourly_census_y_pred_approx_rbf_test)\n",
    "\n",
    "hourly_census_mape_rbf_approx_test = mean_absolute_percentage_error(hourly_census_y_test, hourly_census_y_pred_approx_rbf_test)\n",
    "\n",
    "# Custom function for SMAPE\n",
    "def smape(hourly_census_y_test, hourly_census_y_pred_approx_rbf_test):\n",
    "    return 100 * np.mean(2 * np.abs(hourly_census_y_pred_approx_rbf_test - hourly_census_y_test) / (np.abs(hourly_census_y_pred_approx_rbf_test) + np.abs(hourly_census_y_test)))\n",
    "\n",
    "hourly_census_smape_rbf_approx_test = smape(hourly_census_y_test, hourly_census_y_pred_approx_rbf_test)\n",
    "\n",
    "print(f'hourly_census SVM Model rbf_approx kernel (test) - MAE: {hourly_census_mae_rbf_approx_test}, MSE: {hourly_census_mse_rbf_approx_test}, RMSE: {hourly_census_rmse_rbf_approx_test}, R2: {hourly_census_r2_rbf_approx_test}, MASE: {hourly_census_mase_rbf_approx_test}, MAPE: {hourly_census_mape_rbf_approx_test}, SMAPE: {hourly_census_smape_rbf_approx_test}')"
   ]
  },
  {
   "cell_type": "markdown",
   "metadata": {},
   "source": [
    "### hourly census with grid searching (put # because it takes too long)"
   ]
  },
  {
   "cell_type": "code",
   "execution_count": null,
   "metadata": {},
   "outputs": [],
   "source": [
    "# Define the parameter grid for RBF kernel\n",
    "#param_grid_rbf = {\n",
    "#    'C': [0.1, 1, 10, 100, 1000],\n",
    "#    'gamma': ['scale', 'auto'],  # gamma is used for RBF kernel\n",
    "#    'kernel': ['rbf']  # Specify RBF kernel\n",
    "#}\n",
    "\n",
    "# Initialize and perform Grid Search for RBF kernel\n",
    "#grid_search_rbf = GridSearchCV(SVR(), param_grid_rbf, cv=5, scoring='neg_mean_absolute_error')\n",
    "#grid_search_rbf.fit(hourly_census_X_train, hourly_census_y_train)\n",
    "\n",
    "# Best parameters from Grid Search\n",
    "#print(f'Best parameters for RBF kernel: {grid_search_rbf.best_params_}')\n",
    "\n",
    "# Get the best model from grid search\n",
    "#best_svm_rbf = grid_search_rbf.best_estimator_\n",
    "\n",
    "# Predict on the test set\n",
    "#hourly_census_best_svm_rbf_test = best_svm_rbf.predict(hourly_census_X_test)\n",
    "\n",
    "# Predict on the training set\n",
    "#hourly_census_best_svm_rbf_train = best_svm_rbf.predict(hourly_census_X_train)"
   ]
  },
  {
   "cell_type": "code",
   "execution_count": null,
   "metadata": {},
   "outputs": [],
   "source": [
    "# # # Evaluate on the training set\n",
    "# hourly_census_best_mae_rbf_train = mean_absolute_error(hourly_census_y_train, hourly_census_best_svm_rbf_train)\n",
    "# hourly_census_best_mse_rbf_train = mean_squared_error(hourly_census_y_train, hourly_census_best_svm_rbf_train)\n",
    "# hourly_census_best_rmse_rbf_train = np.sqrt(hourly_census_best_mse_rbf_train)\n",
    "# # hourly_census_best_r2_rbf_train = r2_score(hourly_census_y_train, hourly_census_best_svm_rbf_train)\n",
    "\n",
    "# # def mase(hourly_census_y_train, hourly_census_best_svm_rbf_train):\n",
    "# #     # Calculate the mean of the observed values\n",
    "# #     y_mean = np.mean(hourly_census_y_train)\n",
    "    \n",
    "# #     # Calculate MAE of the model\n",
    "# #     mae_model = np.mean(np.abs(hourly_census_y_train - hourly_census_best_svm_rbf_train))\n",
    "    \n",
    "# #     # Calculate MAE of the mean forecast\n",
    "# #     mae_mean = np.mean(np.abs(hourly_census_y_train - y_mean))\n",
    "    \n",
    "# #     # Calculate MASE\n",
    "# #     mase_value = mae_model / mae_mean\n",
    "# #     return mase_value\n",
    "\n",
    "# # hourly_census_best_mase_rbf_train = mase(hourly_census_y_train, hourly_census_best_svm_rbf_train)\n",
    "\n",
    "# # hourly_census_best_mape_rbf_train = mean_absolute_percentage_error(hourly_census_y_train, hourly_census_best_svm_rbf_train)\n",
    "\n",
    "# # # Custom function for SMAPE\n",
    "# # def smape(hourly_census_y_train, hourly_census_best_svm_rbf_train):\n",
    "# #     return 100 * np.mean(2 * np.abs(hourly_census_best_svm_rbf_train - hourly_census_y_train) / (np.abs(hourly_census_best_svm_rbf_train) + np.abs(hourly_census_y_train)))\n",
    "\n",
    "# # hourly_census_best_smape_rbf_train = smape(hourly_census_y_train, hourly_census_best_svm_rbf_train)\n",
    "\n",
    "# # print(f'hourly_census SVM Model rbf kernel (train) - MAE: {hourly_census_best_mae_rbf_train}, MSE: {hourly_census_best_mse_rbf_train}, RMSE: {hourly_census_best_rmse_rbf_train}, R2: {hourly_census_best_r2_rbf_train}, MASE: {hourly_census_best_mase_rbf_train}, MAPE: {hourly_census_best_mape_rbf_train}, SMAPE: {hourly_census_best_smape_rbf_train}')"
   ]
  },
  {
   "cell_type": "code",
   "execution_count": null,
   "metadata": {},
   "outputs": [],
   "source": [
    "# # # Evaluate on the testing set\n",
    "# hourly_census_best_mae_rbf_test = mean_absolute_error(hourly_census_y_test, hourly_census_best_svm_rbf_test)\n",
    "# hourly_census_best_mse_rbf_test = mean_squared_error(hourly_census_y_test, hourly_census_best_svm_rbf_test)\n",
    "# hourly_census_best_rmse_rbf_test = np.sqrt(hourly_census_best_mse_rbf_test)\n",
    "# # hourly_census_best_r2_rbf_test = r2_score(hourly_census_y_test, hourly_census_best_svm_rbf_test)\n",
    "\n",
    "# # def mase(hourly_census_y_test, hourly_census_best_svm_rbf_test):\n",
    "# #     # Calculate the mean of the observed values\n",
    "# #     y_mean = np.mean(hourly_census_y_test)\n",
    "    \n",
    "# #     # Calculate MAE of the model\n",
    "# #     mae_model = np.mean(np.abs(hourly_census_y_test - hourly_census_best_svm_rbf_test))\n",
    "    \n",
    "# #     # Calculate MAE of the mean forecast\n",
    "# #     mae_mean = np.mean(np.abs(hourly_census_y_test - y_mean))\n",
    "    \n",
    "# #     # Calculate MASE\n",
    "# #     mase_value = mae_model / mae_mean\n",
    "# #     return mase_value\n",
    "\n",
    "# # hourly_census_best_mase_rbf_test = mase(hourly_census_y_test, hourly_census_best_svm_rbf_test)\n",
    "\n",
    "# # hourly_census_best_mape_rbf_test = mean_absolute_percentage_error(hourly_census_y_test, hourly_census_best_svm_rbf_test)\n",
    "\n",
    "# # # Custom function for SMAPE\n",
    "# # def smape(hourly_census_y_test, hourly_census_best_svm_rbf_test):\n",
    "# #     return 100 * np.mean(2 * np.abs(hourly_census_best_svm_rbf_test - hourly_census_y_test) / (np.abs(hourly_census_best_svm_rbf_test) + np.abs(hourly_census_y_test)))\n",
    "\n",
    "# # hourly_census_best_smape_rbf_test = smape(hourly_census_y_test, hourly_census_best_svm_rbf_test)\n",
    "\n",
    "# # print(f'hourly_census SVM Model rbf kernel (test) - MAE: {hourly_census_best_mae_rbf_test}, MSE: {hourly_census_best_mse_rbf_test}, RMSE: {hourly_census_best_rmse_rbf_test}, R2: {hourly_census_best_r2_rbf_test}, MASE: {hourly_census_best_mase_rbf_test}, MAPE: {hourly_census_best_mape_rbf_test}, SMAPE: {hourly_census_best_smape_rbf_test}')"
   ]
  },
  {
   "cell_type": "markdown",
   "metadata": {},
   "source": [
    "# Poly Kernel"
   ]
  },
  {
   "cell_type": "markdown",
   "metadata": {},
   "source": [
    "### daily hexagon without grid searching, degree = 2"
   ]
  },
  {
   "cell_type": "code",
   "execution_count": 33,
   "metadata": {},
   "outputs": [
    {
     "name": "stdout",
     "output_type": "stream",
     "text": [
      "[LibSVM]"
     ]
    }
   ],
   "source": [
    "# Train SVM model with polynomial kernel, degree = 2\n",
    "daily_hexagon_svm_poly2 = SVR(kernel ='poly', verbose=True, C=100, degree = 2)\n",
    "daily_hexagon_svm_poly2.fit(daily_hexagon_X_train, daily_hexagon_y_train)\n",
    "\n",
    "# Predict on the test set\n",
    "daily_hexagon_svm_poly2_test = daily_hexagon_svm_poly2.predict(daily_hexagon_X_test)\n",
    "\n",
    "# Predict on the training set\n",
    "daily_hexagon_svm_poly2_train = daily_hexagon_svm_poly2.predict(daily_hexagon_X_train)"
   ]
  },
  {
   "cell_type": "code",
   "execution_count": 69,
   "metadata": {},
   "outputs": [
    {
     "name": "stdout",
     "output_type": "stream",
     "text": [
      "daily_hexagon SVM Model poly2 kernel (train) - MAE: 0.0754615766005158, MSE: 0.0375622502340551, RMSE: 0.19380983007591515, R2: 0.9624365731143071, MASE: 0.20373169701618923, MAPE: 0.41867137979693786, SMAPE: 29.10099068857243\n"
     ]
    }
   ],
   "source": [
    "# Evaluate on the training set\n",
    "daily_hexagon_mae_poly2_train = mean_absolute_error(daily_hexagon_y_train, daily_hexagon_svm_poly2_train)\n",
    "daily_hexagon_mse_poly2_train = mean_squared_error(daily_hexagon_y_train, daily_hexagon_svm_poly2_train)\n",
    "daily_hexagon_rmse_poly2_train = np.sqrt(daily_hexagon_mse_poly2_train)\n",
    "daily_hexagon_r2_poly2_train = r2_score(daily_hexagon_y_train, daily_hexagon_svm_poly2_train)\n",
    "\n",
    "def mase(daily_hexagon_y_train, daily_hexagon_svm_poly2_train):\n",
    "    # Calculate the mean of the observed values\n",
    "    y_mean = np.mean(daily_hexagon_y_train)\n",
    "    \n",
    "    # Calculate MAE of the model\n",
    "    mae_model = np.mean(np.abs(daily_hexagon_y_train - daily_hexagon_svm_poly2_train))\n",
    "    \n",
    "    # Calculate MAE of the mean forecast\n",
    "    mae_mean = np.mean(np.abs(daily_hexagon_y_train - y_mean))\n",
    "    \n",
    "    # Calculate MASE\n",
    "    mase_value = mae_model / mae_mean\n",
    "    return mase_value\n",
    "\n",
    "daily_hexagon_mase_poly2_train = mase(daily_hexagon_y_train, daily_hexagon_svm_poly2_train)\n",
    "\n",
    "daily_hexagon_mape_poly2_train = mean_absolute_percentage_error(daily_hexagon_y_train, daily_hexagon_svm_poly2_train)\n",
    "\n",
    "# Custom function for SMAPE\n",
    "def smape(daily_hexagon_y_train, daily_hexagon_svm_poly2_train):\n",
    "    return 100 * np.mean(2 * np.abs(daily_hexagon_svm_poly2_train - daily_hexagon_y_train) / (np.abs(daily_hexagon_svm_poly2_train) + np.abs(daily_hexagon_y_train)))\n",
    "\n",
    "daily_hexagon_smape_poly2_train = smape(daily_hexagon_y_train, daily_hexagon_svm_poly2_train)\n",
    "\n",
    "print(f'daily_hexagon SVM Model poly2 kernel (train) - MAE: {daily_hexagon_mae_poly2_train}, MSE: {daily_hexagon_mse_poly2_train}, RMSE: {daily_hexagon_rmse_poly2_train}, R2: {daily_hexagon_r2_poly2_train}, MASE: {daily_hexagon_mase_poly2_train}, MAPE: {daily_hexagon_mape_poly2_train}, SMAPE: {daily_hexagon_smape_poly2_train}')\n"
   ]
  },
  {
   "cell_type": "code",
   "execution_count": 34,
   "metadata": {},
   "outputs": [
    {
     "name": "stdout",
     "output_type": "stream",
     "text": [
      "daily_hexagon SVM Model poly2 kernel (test) - MAE: 0.0792595563056956, MSE: 0.04408959604300982, RMSE: 0.20997522721266387, R2: 0.9559048789449547, MASE: 0.2119369330868864, MAPE: 0.5530079100237665, SMAPE: 29.6240232636835\n"
     ]
    }
   ],
   "source": [
    "# Evaluate on the testing set\n",
    "daily_hexagon_mae_poly2_test = mean_absolute_error(daily_hexagon_y_test, daily_hexagon_svm_poly2_test)\n",
    "daily_hexagon_mse_poly2_test = mean_squared_error(daily_hexagon_y_test, daily_hexagon_svm_poly2_test)\n",
    "daily_hexagon_rmse_poly2_test = np.sqrt(daily_hexagon_mse_poly2_test)\n",
    "daily_hexagon_r2_poly2_test = r2_score(daily_hexagon_y_test, daily_hexagon_svm_poly2_test)\n",
    "\n",
    "def mase(daily_hexagon_y_test, daily_hexagon_svm_poly2_test):\n",
    "    # Calculate the mean of the observed values\n",
    "    y_mean = np.mean(daily_hexagon_y_test)\n",
    "    \n",
    "    # Calculate MAE of the model\n",
    "    mae_model = np.mean(np.abs(daily_hexagon_y_test - daily_hexagon_svm_poly2_test))\n",
    "    \n",
    "    # Calculate MAE of the mean forecast\n",
    "    mae_mean = np.mean(np.abs(daily_hexagon_y_test - y_mean))\n",
    "    \n",
    "    # Calculate MASE\n",
    "    mase_value = mae_model / mae_mean\n",
    "    return mase_value\n",
    "\n",
    "daily_hexagon_mase_poly2_test = mase(daily_hexagon_y_test, daily_hexagon_svm_poly2_test)\n",
    "\n",
    "daily_hexagon_mape_poly2_test = mean_absolute_percentage_error(daily_hexagon_y_test, daily_hexagon_svm_poly2_test)\n",
    "\n",
    "# Custom function for SMAPE\n",
    "def smape(daily_hexagon_y_test, daily_hexagon_svm_poly2_test):\n",
    "    return 100 * np.mean(2 * np.abs(daily_hexagon_svm_poly2_test - daily_hexagon_y_test) / (np.abs(daily_hexagon_svm_poly2_test) + np.abs(daily_hexagon_y_test)))\n",
    "\n",
    "daily_hexagon_smape_poly2_test = smape(daily_hexagon_y_test, daily_hexagon_svm_poly2_test)\n",
    "\n",
    "print(f'daily_hexagon SVM Model poly2 kernel (test) - MAE: {daily_hexagon_mae_poly2_test}, MSE: {daily_hexagon_mse_poly2_test}, RMSE: {daily_hexagon_rmse_poly2_test}, R2: {daily_hexagon_r2_poly2_test}, MASE: {daily_hexagon_mase_poly2_test}, MAPE: {daily_hexagon_mape_poly2_test}, SMAPE: {daily_hexagon_smape_poly2_test}')"
   ]
  },
  {
   "cell_type": "markdown",
   "metadata": {},
   "source": [
    "### daily hexagon without grid searching, degree = 3"
   ]
  },
  {
   "cell_type": "code",
   "execution_count": null,
   "metadata": {},
   "outputs": [
    {
     "name": "stdout",
     "output_type": "stream",
     "text": [
      "[LibSVM]"
     ]
    }
   ],
   "source": [
    "# Train SVM model with polynomial kernel, degree = 3\n",
    "daily_hexagon_svm_poly3 = SVR(kernel ='poly', verbose=True, C=100, degree = 3)\n",
    "\n",
    "#daily_hexagon_svm_poly3.fit(daily_hexagon_X_train, daily_hexagon_y_train)\n",
    "daily_hexagon_svm_poly3.fit(daily_hexagon_X_train, daily_hexagon_y_train)\n",
    "\n",
    "# Predict on the test set\n",
    "#daily_hexagon_svm_poly3_test = daily_hexagon_svm_poly3.predict(daily_hexagon_X_test)\n",
    "daily_hexagon_svm_poly3_test = daily_hexagon_svm_poly3.predict(daily_hexagon_X_test)\n",
    "\n",
    "# Predict on the training set\n",
    "#daily_hexagon_svm_poly3_train = daily_hexagon_svm_poly3.predict(daily_hexagon_X_train)\n",
    "daily_hexagon_svm_poly3_train = daily_hexagon_svm_poly3.predict(daily_hexagon_X_train)\n"
   ]
  },
  {
   "cell_type": "code",
   "execution_count": 70,
   "metadata": {},
   "outputs": [
    {
     "ename": "NameError",
     "evalue": "name 'daily_hexagon_svm_poly3_train' is not defined",
     "output_type": "error",
     "traceback": [
      "\u001b[1;31m---------------------------------------------------------------------------\u001b[0m",
      "\u001b[1;31mNameError\u001b[0m                                 Traceback (most recent call last)",
      "Cell \u001b[1;32mIn[70], line 2\u001b[0m\n\u001b[0;32m      1\u001b[0m \u001b[38;5;66;03m# Evaluate on the training set\u001b[39;00m\n\u001b[1;32m----> 2\u001b[0m daily_hexagon_mae_poly3_train \u001b[38;5;241m=\u001b[39m mean_absolute_error(daily_hexagon_y_train, \u001b[43mdaily_hexagon_svm_poly3_train\u001b[49m)\n\u001b[0;32m      3\u001b[0m daily_hexagon_mse_poly3_train \u001b[38;5;241m=\u001b[39m mean_squared_error(daily_hexagon_y_train, daily_hexagon_svm_poly3_train)\n\u001b[0;32m      4\u001b[0m daily_hexagon_rmse_poly3_train \u001b[38;5;241m=\u001b[39m np\u001b[38;5;241m.\u001b[39msqrt(daily_hexagon_mse_poly3_train)\n",
      "\u001b[1;31mNameError\u001b[0m: name 'daily_hexagon_svm_poly3_train' is not defined"
     ]
    }
   ],
   "source": [
    "# Evaluate on the training set\n",
    "daily_hexagon_mae_poly3_train = mean_absolute_error(daily_hexagon_y_train, daily_hexagon_svm_poly3_train)\n",
    "daily_hexagon_mse_poly3_train = mean_squared_error(daily_hexagon_y_train, daily_hexagon_svm_poly3_train)\n",
    "daily_hexagon_rmse_poly3_train = np.sqrt(daily_hexagon_mse_poly3_train)\n",
    "daily_hexagon_r2_poly3_train = r2_score(daily_hexagon_y_train, daily_hexagon_svm_poly3_train)\n",
    "\n",
    "def mase(daily_hexagon_y_train, daily_hexagon_svm_poly3_train):\n",
    "    # Calculate the mean of the observed values\n",
    "    y_mean = np.mean(daily_hexagon_y_train)\n",
    "    \n",
    "    # Calculate MAE of the model\n",
    "    mae_model = np.mean(np.abs(daily_hexagon_y_train - daily_hexagon_svm_poly3_train))\n",
    "    \n",
    "    # Calculate MAE of the mean forecast\n",
    "    mae_mean = np.mean(np.abs(daily_hexagon_y_train - y_mean))\n",
    "    \n",
    "    # Calculate MASE\n",
    "    mase_value = mae_model / mae_mean\n",
    "    return mase_value\n",
    "\n",
    "daily_hexagon_mase_poly3_train = mase(daily_hexagon_y_train, daily_hexagon_svm_poly3_train)\n",
    "\n",
    "daily_hexagon_mape_poly3_train = mean_absolute_percentage_error(daily_hexagon_y_train, daily_hexagon_svm_poly3_train)\n",
    "\n",
    "# Custom function for SMAPE\n",
    "def smape(daily_hexagon_y_train, daily_hexagon_svm_poly3_train):\n",
    "    return 100 * np.mean(2 * np.abs(daily_hexagon_svm_poly3_train - daily_hexagon_y_train) / (np.abs(daily_hexagon_svm_poly3_train) + np.abs(daily_hexagon_y_train)))\n",
    "\n",
    "daily_hexagon_smape_poly3_train = smape(daily_hexagon_y_train, daily_hexagon_svm_poly3_train)\n",
    "\n",
    "print(f'daily_hexagon SVM Model poly3 kernel (train) - MAE: {daily_hexagon_mae_poly3_train}, MSE: {daily_hexagon_mse_poly3_train}, RMSE: {daily_hexagon_rmse_poly3_train}, R2: {daily_hexagon_r2_poly3_train}, MASE: {daily_hexagon_mase_poly3_train}, MAPE: {daily_hexagon_mape_poly3_train}, SMAPE: {daily_hexagon_smape_poly3_train}')\n"
   ]
  },
  {
   "cell_type": "code",
   "execution_count": null,
   "metadata": {},
   "outputs": [
    {
     "name": "stdout",
     "output_type": "stream",
     "text": [
      "daily_hexagon SVM Model poly3 kernel (test) - R2: 0.9516208186704668, MASE: 0.1481196350968673, MAPE: 155390590976997.6, SMAPE: 34.964518794209496\n"
     ]
    }
   ],
   "source": [
    "# Evaluate on the testing set\n",
    "daily_hexagon_mae_poly3_test = mean_absolute_error(daily_hexagon_y_test, daily_hexagon_svm_poly3_test)\n",
    "daily_hexagon_mse_poly3_test = mean_squared_error(daily_hexagon_y_test, daily_hexagon_svm_poly3_test)\n",
    "daily_hexagon_rmse_poly3_test = np.sqrt(daily_hexagon_mse_poly3_test)\n",
    "daily_hexagon_r2_poly3_test = r2_score(daily_hexagon_y_test, daily_hexagon_svm_poly3_test)\n",
    "\n",
    "def mase(daily_hexagon_y_test, daily_hexagon_svm_poly3_test):\n",
    "    # Calculate the mean of the observed values\n",
    "    y_mean = np.mean(daily_hexagon_y_test)\n",
    "    \n",
    "    # Calculate MAE of the model\n",
    "    mae_model = np.mean(np.abs(daily_hexagon_y_test - daily_hexagon_svm_poly3_test))\n",
    "    \n",
    "    # Calculate MAE of the mean forecast\n",
    "    mae_mean = np.mean(np.abs(daily_hexagon_y_test - y_mean))\n",
    "    \n",
    "    # Calculate MASE\n",
    "    mase_value = mae_model / mae_mean\n",
    "    return mase_value\n",
    "\n",
    "daily_hexagon_mase_poly3_test = mase(daily_hexagon_y_test, daily_hexagon_svm_poly3_test)\n",
    "\n",
    "daily_hexagon_mape_poly3_test = mean_absolute_percentage_error(daily_hexagon_y_test, daily_hexagon_svm_poly3_test)\n",
    "\n",
    "# Custom function for SMAPE\n",
    "def smape(daily_hexagon_y_test, daily_hexagon_svm_poly3_test):\n",
    "    return 100 * np.mean(2 * np.abs(daily_hexagon_svm_poly3_test - daily_hexagon_y_test) / (np.abs(daily_hexagon_svm_poly3_test) + np.abs(daily_hexagon_y_test)))\n",
    "\n",
    "daily_hexagon_smape_poly3_test = smape(daily_hexagon_y_test, daily_hexagon_svm_poly3_test)\n",
    "\n",
    "print(f'daily_hexagon SVM Model poly3 kernel (test) - MAE: {daily_hexagon_mae_poly3_test}, MSE: {daily_hexagon_mse_poly3_test}, RMSE: {daily_hexagon_rmse_poly3_test}, R2: {daily_hexagon_r2_poly3_test}, MASE: {daily_hexagon_mase_poly3_test}, MAPE: {daily_hexagon_mape_poly3_test}, SMAPE: {daily_hexagon_smape_poly3_test}')"
   ]
  },
  {
   "cell_type": "markdown",
   "metadata": {},
   "source": [
    "c = 1000 takes too much time"
   ]
  },
  {
   "cell_type": "markdown",
   "metadata": {},
   "source": [
    "### daily hexagon without grid searching, degree = 4"
   ]
  },
  {
   "cell_type": "code",
   "execution_count": null,
   "metadata": {},
   "outputs": [
    {
     "name": "stdout",
     "output_type": "stream",
     "text": [
      "[LibSVM]"
     ]
    }
   ],
   "source": [
    "# Train SVM model with polynomial kernel, degree = 4\n",
    "daily_hexagon_svm_poly4 = SVR(kernel ='poly', verbose=True, C=100, degree = 4)\n",
    "daily_hexagon_svm_poly4.fit(daily_hexagon_X_train, daily_hexagon_y_train)\n",
    "\n",
    "# Predict on the test set\n",
    "daily_hexagon_svm_poly4_test = daily_hexagon_svm_poly4.predict(daily_hexagon_X_test)\n",
    "\n",
    "# Predict on the training set\n",
    "daily_hexagon_svm_poly4_train = daily_hexagon_svm_poly4.predict(daily_hexagon_X_train)"
   ]
  },
  {
   "cell_type": "code",
   "execution_count": null,
   "metadata": {},
   "outputs": [
    {
     "name": "stdout",
     "output_type": "stream",
     "text": [
      "daily_hexagon SVM Model poly4 kernel (train) - R2: 0.9652537723639948, MASE: 0.1255655025438685, MAPE: 227324188987367.38, SMAPE: 27.555689128389744\n"
     ]
    }
   ],
   "source": [
    "# Evaluate on the training set\n",
    "daily_hexagon_mae_poly4_train = mean_absolute_error(daily_hexagon_y_train, daily_hexagon_svm_poly4_train)\n",
    "daily_hexagon_mse_poly4_train = mean_squared_error(daily_hexagon_y_train, daily_hexagon_svm_poly4_train)\n",
    "daily_hexagon_rmse_poly4_train = np.sqrt(daily_hexagon_mse_poly4_train)\n",
    "daily_hexagon_r2_poly4_train = r2_score(daily_hexagon_y_train, daily_hexagon_svm_poly4_train)\n",
    "\n",
    "def mase(daily_hexagon_y_train, daily_hexagon_svm_poly4_train):\n",
    "    # Calculate the mean of the observed values\n",
    "    y_mean = np.mean(daily_hexagon_y_train)\n",
    "    \n",
    "    # Calculate MAE of the model\n",
    "    mae_model = np.mean(np.abs(daily_hexagon_y_train - daily_hexagon_svm_poly4_train))\n",
    "    \n",
    "    # Calculate MAE of the mean forecast\n",
    "    mae_mean = np.mean(np.abs(daily_hexagon_y_train - y_mean))\n",
    "    \n",
    "    # Calculate MASE\n",
    "    mase_value = mae_model / mae_mean\n",
    "    return mase_value\n",
    "\n",
    "daily_hexagon_mase_poly4_train = mase(daily_hexagon_y_train, daily_hexagon_svm_poly4_train)\n",
    "\n",
    "daily_hexagon_mape_poly4_train = mean_absolute_percentage_error(daily_hexagon_y_train, daily_hexagon_svm_poly4_train)\n",
    "\n",
    "# Custom function for SMAPE\n",
    "def smape(daily_hexagon_y_train, daily_hexagon_svm_poly4_train):\n",
    "    return 100 * np.mean(2 * np.abs(daily_hexagon_svm_poly4_train - daily_hexagon_y_train) / (np.abs(daily_hexagon_svm_poly4_train) + np.abs(daily_hexagon_y_train)))\n",
    "\n",
    "daily_hexagon_smape_poly4_train = smape(daily_hexagon_y_train, daily_hexagon_svm_poly4_train)\n",
    "\n",
    "print(f'daily_hexagon SVM Model poly4 kernel (train) - MAE: {daily_hexagon_mae_poly4_train}, MSE: {daily_hexagon_mse_poly4_train}, RMSE: {daily_hexagon_rmse_poly4_train}, R2: {daily_hexagon_r2_poly4_train}, MASE: {daily_hexagon_mase_poly4_train}, MAPE: {daily_hexagon_mape_poly4_train}, SMAPE: {daily_hexagon_smape_poly4_train}')\n"
   ]
  },
  {
   "cell_type": "code",
   "execution_count": null,
   "metadata": {},
   "outputs": [
    {
     "name": "stdout",
     "output_type": "stream",
     "text": [
      "daily_hexagon SVM Model poly4 kernel (test) - R2: 0.9445787271957237, MASE: 0.16583684289152917, MAPE: 343889695848992.6, SMAPE: 39.77916371368033\n"
     ]
    }
   ],
   "source": [
    "# Evaluate on the testing set\n",
    "daily_hexagon_mae_poly4_test = mean_absolute_error(daily_hexagon_y_test, daily_hexagon_svm_poly4_test)\n",
    "daily_hexagon_mse_poly4_test = mean_squared_error(daily_hexagon_y_test, daily_hexagon_svm_poly4_test)\n",
    "daily_hexagon_rmse_poly4_test = np.sqrt(daily_hexagon_mse_poly4_test)\n",
    "daily_hexagon_r2_poly4_test = r2_score(daily_hexagon_y_test, daily_hexagon_svm_poly4_test)\n",
    "\n",
    "def mase(daily_hexagon_y_test, daily_hexagon_svm_poly4_test):\n",
    "    # Calculate the mean of the observed values\n",
    "    y_mean = np.mean(daily_hexagon_y_test)\n",
    "    \n",
    "    # Calculate MAE of the model\n",
    "    mae_model = np.mean(np.abs(daily_hexagon_y_test - daily_hexagon_svm_poly4_test))\n",
    "    \n",
    "    # Calculate MAE of the mean forecast\n",
    "    mae_mean = np.mean(np.abs(daily_hexagon_y_test - y_mean))\n",
    "    \n",
    "    # Calculate MASE\n",
    "    mase_value = mae_model / mae_mean\n",
    "    return mase_value\n",
    "\n",
    "daily_hexagon_mase_poly4_test = mase(daily_hexagon_y_test, daily_hexagon_svm_poly4_test)\n",
    "\n",
    "daily_hexagon_mape_poly4_test = mean_absolute_percentage_error(daily_hexagon_y_test, daily_hexagon_svm_poly4_test)\n",
    "\n",
    "# Custom function for SMAPE\n",
    "def smape(daily_hexagon_y_test, daily_hexagon_svm_poly4_test):\n",
    "    return 100 * np.mean(2 * np.abs(daily_hexagon_svm_poly4_test - daily_hexagon_y_test) / (np.abs(daily_hexagon_svm_poly4_test) + np.abs(daily_hexagon_y_test)))\n",
    "\n",
    "daily_hexagon_smape_poly4_test = smape(daily_hexagon_y_test, daily_hexagon_svm_poly4_test)\n",
    "\n",
    "print(f'daily_hexagon SVM Model poly4 kernel (test) - MAE: {daily_hexagon_mae_poly4_test}, MSE: {daily_hexagon_mse_poly4_test}, RMSE: {daily_hexagon_rmse_poly4_test}, R2: {daily_hexagon_r2_poly4_test}, MASE: {daily_hexagon_mase_poly4_test}, MAPE: {daily_hexagon_mape_poly4_test}, SMAPE: {daily_hexagon_smape_poly4_test}')"
   ]
  },
  {
   "cell_type": "markdown",
   "metadata": {},
   "source": [
    "we will use degree of 2 and c = 100. Otherwise it takes too much time to load and there is no big difference in outcome"
   ]
  },
  {
   "cell_type": "markdown",
   "metadata": {},
   "source": [
    "### daily hexagon with manual grid searching & Poly Kernel, degree = 2 approximation with Nystroem method"
   ]
  },
  {
   "cell_type": "code",
   "execution_count": 35,
   "metadata": {},
   "outputs": [
    {
     "name": "stdout",
     "output_type": "stream",
     "text": [
      "[LibLinear]"
     ]
    },
    {
     "name": "stderr",
     "output_type": "stream",
     "text": [
      "C:\\Users\\A1DF42D\\AppData\\Roaming\\Python\\Python310\\site-packages\\sklearn\\svm\\_base.py:1235: ConvergenceWarning: Liblinear failed to converge, increase the number of iterations.\n",
      "  warnings.warn(\n"
     ]
    }
   ],
   "source": [
    "gamma_value = 1 / daily_hexagon_X_train.shape[1]\n",
    "\n",
    "# Use Nystroem method for kernel approximation\n",
    "nystroem_approx = Nystroem(kernel='poly', degree=2, gamma= gamma_value, n_components=1000)  # You can adjust n_components as needed\n",
    "\n",
    "# Standardize features\n",
    "scaler = StandardScaler()\n",
    "\n",
    "# Create a pipeline that first applies Nyström approximation and then fits the SVM model\n",
    "daily_hexagon_svm_nystroem = Pipeline([\n",
    "    ('scaler', scaler),\n",
    "    ('nystroem', nystroem_approx),\n",
    "    ('svm', LinearSVR(C=1000, verbose=True))\n",
    "])\n",
    "\n",
    "# Fit the model\n",
    "daily_hexagon_svm_nystroem.fit(daily_hexagon_X_train, daily_hexagon_y_train)\n",
    "\n",
    "# Predict on the test set\n",
    "daily_hexagon_y_pred_approx_poly_test = daily_hexagon_svm_nystroem.predict(daily_hexagon_X_test)\n",
    "\n",
    "# Predict on the training set\n",
    "daily_hexagon_y_pred_approx_poly_train = daily_hexagon_svm_nystroem.predict(daily_hexagon_X_train)\n"
   ]
  },
  {
   "cell_type": "code",
   "execution_count": 71,
   "metadata": {},
   "outputs": [
    {
     "name": "stdout",
     "output_type": "stream",
     "text": [
      "daily_hexagon SVM Model poly_approx kernel (train) - MAE: 0.10125653812132134, MSE: 0.08156908271471422, RMSE: 0.2856030159412085, R2: 0.9184283621030437, MASE: 0.2733731161575048, MAPE: 0.5955920497640796, SMAPE: 34.124466435160976\n"
     ]
    }
   ],
   "source": [
    "# Evaluate on the training set\n",
    "daily_hexagon_mae_poly_approx_train = mean_absolute_error(daily_hexagon_y_train, daily_hexagon_y_pred_approx_poly_train)\n",
    "daily_hexagon_mse_poly_approx_train = mean_squared_error(daily_hexagon_y_train, daily_hexagon_y_pred_approx_poly_train)\n",
    "daily_hexagon_rmse_poly_approx_train = np.sqrt(daily_hexagon_mse_poly_approx_train)\n",
    "daily_hexagon_r2_poly_approx_train = r2_score(daily_hexagon_y_train, daily_hexagon_y_pred_approx_poly_train)\n",
    "\n",
    "def mase(daily_hexagon_y_train, daily_hexagon_y_pred_approx_poly_train):\n",
    "    # Calculate the mean of the observed values\n",
    "    y_mean = np.mean(daily_hexagon_y_train)\n",
    "    \n",
    "    # Calculate MAE of the model\n",
    "    mae_model = np.mean(np.abs(daily_hexagon_y_train - daily_hexagon_y_pred_approx_poly_train))\n",
    "    \n",
    "    # Calculate MAE of the mean forecast\n",
    "    mae_mean = np.mean(np.abs(daily_hexagon_y_train - y_mean))\n",
    "    \n",
    "    # Calculate MASE\n",
    "    mase_value = mae_model / mae_mean\n",
    "    return mase_value\n",
    "\n",
    "daily_hexagon_mase_poly_approx_train = mase(daily_hexagon_y_train, daily_hexagon_y_pred_approx_poly_train)\n",
    "\n",
    "daily_hexagon_mape_poly_approx_train = mean_absolute_percentage_error(daily_hexagon_y_train, daily_hexagon_y_pred_approx_poly_train)\n",
    "\n",
    "# Custom function for SMAPE\n",
    "def smape(daily_hexagon_y_train, daily_hexagon_y_pred_approx_poly_train):\n",
    "    return 100 * np.mean(2 * np.abs(daily_hexagon_y_pred_approx_poly_train - daily_hexagon_y_train) / (np.abs(daily_hexagon_y_pred_approx_poly_train) + np.abs(daily_hexagon_y_train)))\n",
    "\n",
    "daily_hexagon_smape_poly_approx_train = smape(daily_hexagon_y_train, daily_hexagon_y_pred_approx_poly_train)\n",
    "\n",
    "print(f'daily_hexagon SVM Model poly_approx kernel (train) - MAE: {daily_hexagon_mae_poly_approx_train}, MSE: {daily_hexagon_mse_poly_approx_train}, RMSE: {daily_hexagon_rmse_poly_approx_train}, R2: {daily_hexagon_r2_poly_approx_train}, MASE: {daily_hexagon_mase_poly_approx_train}, MAPE: {daily_hexagon_mape_poly_approx_train}, SMAPE: {daily_hexagon_smape_poly_approx_train}')\n"
   ]
  },
  {
   "cell_type": "code",
   "execution_count": 36,
   "metadata": {},
   "outputs": [
    {
     "name": "stdout",
     "output_type": "stream",
     "text": [
      "daily_hexagon SVM Model poly_approx kernel (test) - MAE: 0.09943079140522813, MSE: 0.07879758331918871, RMSE: 0.28070907238489584, R2: 0.9211925422969367, MASE: 0.2658740215949415, MAPE: 0.7026073685552696, SMAPE: 33.828933549596776\n"
     ]
    }
   ],
   "source": [
    "# Evaluate on the testing set\n",
    "daily_hexagon_mae_poly_approx_test = mean_absolute_error(daily_hexagon_y_test, daily_hexagon_y_pred_approx_poly_test)\n",
    "daily_hexagon_mse_poly_approx_test = mean_squared_error(daily_hexagon_y_test, daily_hexagon_y_pred_approx_poly_test)\n",
    "daily_hexagon_rmse_poly_approx_test = np.sqrt(daily_hexagon_mse_poly_approx_test)\n",
    "daily_hexagon_r2_poly_approx_test = r2_score(daily_hexagon_y_test, daily_hexagon_y_pred_approx_poly_test)\n",
    "\n",
    "def mase(daily_hexagon_y_test, daily_hexagon_y_pred_approx_poly_test):\n",
    "    # Calculate the mean of the observed values\n",
    "    y_mean = np.mean(daily_hexagon_y_test)\n",
    "    \n",
    "    # Calculate MAE of the model\n",
    "    mae_model = np.mean(np.abs(daily_hexagon_y_test - daily_hexagon_y_pred_approx_poly_test))\n",
    "    \n",
    "    # Calculate MAE of the mean forecast\n",
    "    mae_mean = np.mean(np.abs(daily_hexagon_y_test - y_mean))\n",
    "    \n",
    "    # Calculate MASE\n",
    "    mase_value = mae_model / mae_mean\n",
    "    return mase_value\n",
    "\n",
    "daily_hexagon_mase_poly_approx_test = mase(daily_hexagon_y_test, daily_hexagon_y_pred_approx_poly_test)\n",
    "\n",
    "daily_hexagon_mape_poly_approx_test = mean_absolute_percentage_error(daily_hexagon_y_test, daily_hexagon_y_pred_approx_poly_test)\n",
    "\n",
    "# Custom function for SMAPE\n",
    "def smape(daily_hexagon_y_test, daily_hexagon_y_pred_approx_poly_test):\n",
    "    return 100 * np.mean(2 * np.abs(daily_hexagon_y_pred_approx_poly_test - daily_hexagon_y_test) / (np.abs(daily_hexagon_y_pred_approx_poly_test) + np.abs(daily_hexagon_y_test)))\n",
    "\n",
    "daily_hexagon_smape_poly_approx_test = smape(daily_hexagon_y_test, daily_hexagon_y_pred_approx_poly_test)\n",
    "\n",
    "print(f'daily_hexagon SVM Model poly_approx kernel (test) - MAE: {daily_hexagon_mae_poly_approx_test}, MSE: {daily_hexagon_mse_poly_approx_test}, RMSE: {daily_hexagon_rmse_poly_approx_test}, R2: {daily_hexagon_r2_poly_approx_test}, MASE: {daily_hexagon_mase_poly_approx_test}, MAPE: {daily_hexagon_mape_poly_approx_test}, SMAPE: {daily_hexagon_smape_poly_approx_test}')"
   ]
  },
  {
   "cell_type": "markdown",
   "metadata": {},
   "source": [
    "### daily hexagon with grid searching (put # because it takes too long)"
   ]
  },
  {
   "cell_type": "code",
   "execution_count": null,
   "metadata": {},
   "outputs": [],
   "source": [
    "# Define the parameter grid for Poly kernel\n",
    "# param_grid_poly = {\n",
    "    # 'C': [0.1, 1, 10, 100, 1000],\n",
    "    # 'gamma': ['scale', 'auto'],  # gamma is used for poly kernel\n",
    "    # 'degree': [2],  # Degree of the polynomial kernel\n",
    "    # 'kernel': ['poly']  # Specify Poly kernel\n",
    "# }\n",
    "\n",
    "# Initialize and perform Grid Search for poly kernel\n",
    "#param_grid_poly = GridSearchCV(SVR(), param_grid_poly, cv=5, scoring='neg_mean_absolute_error')\n",
    "#param_grid_poly.fit(daily_hexagon_X_train, daily_hexagon_y_train)\n",
    "\n",
    "# Best parameters from Grid Search\n",
    "#print(f'Best parameters for poly kernel: {param_grid_poly.best_params_}')\n",
    "\n",
    "# Get the best model from grid search\n",
    "#best_svm_poly = param_grid_poly.best_estimator_\n",
    "\n",
    "# Predict on the test set\n",
    "#daily_hexagon_best_svm_poly_test = best_svm_poly.predict(daily_hexagon_X_test)\n",
    "\n",
    "# Predict on the training set\n",
    "#daily_hexagon_best_svm_poly_train = best_svm_poly.predict(daily_hexagon_X_train)"
   ]
  },
  {
   "cell_type": "code",
   "execution_count": null,
   "metadata": {},
   "outputs": [],
   "source": [
    "# # # Evaluate on the training set\n",
    "# daily_hexagon_best_mae_poly_train = mean_absolute_error(daily_hexagon_y_train, daily_hexagon_best_svm_poly_train)\n",
    "# daily_hexagon_best_mse_poly_train = mean_squared_error(daily_hexagon_y_train, daily_hexagon_best_svm_poly_train)\n",
    "# daily_hexagon_best_rmse_poly_train = np.sqrt(daily_hexagon_best_mse_poly_train)\n",
    "# # daily_hexagon_best_r2_poly_train = r2_score(daily_hexagon_y_train, daily_hexagon_best_svm_poly_train)\n",
    "\n",
    "# # def mase(daily_hexagon_y_train, daily_hexagon_best_svm_poly_train):\n",
    "# #     # Calculate the mean of the observed values\n",
    "# #     y_mean = np.mean(daily_hexagon_y_train)\n",
    "    \n",
    "# #     # Calculate MAE of the model\n",
    "# #     mae_model = np.mean(np.abs(daily_hexagon_y_train - daily_hexagon_best_svm_poly_train))\n",
    "    \n",
    "# #     # Calculate MAE of the mean forecast\n",
    "# #     mae_mean = np.mean(np.abs(daily_hexagon_y_train - y_mean))\n",
    "    \n",
    "# #     # Calculate MASE\n",
    "# #     mase_value = mae_model / mae_mean\n",
    "# #     return mase_value\n",
    "\n",
    "# # daily_hexagon_best_mase_poly_train = mase(daily_hexagon_y_train, daily_hexagon_best_svm_poly_train)\n",
    "\n",
    "# # daily_hexagon_best_mape_poly_train = mean_absolute_percentage_error(daily_hexagon_y_train, daily_hexagon_best_svm_poly_train)\n",
    "\n",
    "# # # Custom function for SMAPE\n",
    "# # def smape(daily_hexagon_y_train, daily_hexagon_best_svm_poly_train):\n",
    "# #     return 100 * np.mean(2 * np.abs(daily_hexagon_best_svm_poly_train - daily_hexagon_y_train) / (np.abs(daily_hexagon_best_svm_poly_train) + np.abs(daily_hexagon_y_train)))\n",
    "\n",
    "# # daily_hexagon_best_smape_poly_train = smape(daily_hexagon_y_train, daily_hexagon_best_svm_poly_train)\n",
    "\n",
    "# # print(f'daily_hexagon SVM Model poly kernel (train) - MAE: {daily_hexagon_best_mae_poly_train}, MSE: {daily_hexagon_best_mse_poly_train}, RMSE: {daily_hexagon_best_rmse_poly_train}, R2: {daily_hexagon_best_r2_poly_train}, MASE: {daily_hexagon_best_mase_poly_train}, MAPE: {daily_hexagon_best_mape_poly_train}, SMAPE: {daily_hexagon_best_smape_poly_train}')"
   ]
  },
  {
   "cell_type": "code",
   "execution_count": null,
   "metadata": {},
   "outputs": [],
   "source": [
    "# # # Evaluate on the testing set\n",
    "# daily_hexagon_best_mae_poly_test = mean_absolute_error(daily_hexagon_y_test, daily_hexagon_best_svm_poly_test)\n",
    "# daily_hexagon_best_mse_poly_test = mean_squared_error(daily_hexagon_y_test, daily_hexagon_best_svm_poly_test)\n",
    "# daily_hexagon_best_rmse_poly_test = np.sqrt(daily_hexagon_best_mse_poly_test)\n",
    "# # daily_hexagon_best_r2_poly_test = r2_score(daily_hexagon_y_test, daily_hexagon_best_svm_poly_test)\n",
    "\n",
    "# # def mase(daily_hexagon_y_test, daily_hexagon_best_svm_poly_test):\n",
    "# #     # Calculate the mean of the observed values\n",
    "# #     y_mean = np.mean(daily_hexagon_y_test)\n",
    "    \n",
    "# #     # Calculate MAE of the model\n",
    "# #     mae_model = np.mean(np.abs(daily_hexagon_y_test - daily_hexagon_best_svm_poly_test))\n",
    "    \n",
    "# #     # Calculate MAE of the mean forecast\n",
    "# #     mae_mean = np.mean(np.abs(daily_hexagon_y_test - y_mean))\n",
    "    \n",
    "# #     # Calculate MASE\n",
    "# #     mase_value = mae_model / mae_mean\n",
    "# #     return mase_value\n",
    "\n",
    "# # daily_hexagon_best_mase_poly_test = mase(daily_hexagon_y_test, daily_hexagon_best_svm_poly_test)\n",
    "\n",
    "# # daily_hexagon_best_mape_poly_test = mean_absolute_percentage_error(daily_hexagon_y_test, daily_hexagon_best_svm_poly_test)\n",
    "\n",
    "# # # Custom function for SMAPE\n",
    "# # def smape(daily_hexagon_y_test, daily_hexagon_best_svm_poly_test):\n",
    "# #     return 100 * np.mean(2 * np.abs(daily_hexagon_best_svm_poly_test - daily_hexagon_y_test) / (np.abs(daily_hexagon_best_svm_poly_test) + np.abs(daily_hexagon_y_test)))\n",
    "\n",
    "# # daily_hexagon_best_smape_poly_test = smape(daily_hexagon_y_test, daily_hexagon_best_svm_poly_test)\n",
    "\n",
    "# # print(f'daily_hexagon SVM Model poly kernel (test) - MAE: {daily_hexagon_best_mae_poly_test}, MSE: {daily_hexagon_best_mse_poly_test}, RMSE: {daily_hexagon_best_rmse_poly_test}, R2: {daily_hexagon_best_r2_poly_test}, MASE: {daily_hexagon_best_mase_poly_test}, MAPE: {daily_hexagon_best_mape_poly_test}, SMAPE: {daily_hexagon_best_smape_poly_test}')"
   ]
  },
  {
   "cell_type": "markdown",
   "metadata": {},
   "source": [
    "### hourly hexagon without grid searching, degree = 2 (put # because it takes too long)"
   ]
  },
  {
   "cell_type": "code",
   "execution_count": null,
   "metadata": {},
   "outputs": [],
   "source": [
    "# Train SVM model with polynomial kernel, degree = \n",
    "# hourly_hexagon_svm_poly2 = SVR(kernel ='poly', verbose=True, C=100, degree = 2)\n",
    "# hourly_hexagon_svm_poly2.fit(hourly_hexagon_X_train, hourly_hexagon_y_train)\n",
    "\n",
    "# Predict on the test set\n",
    "# hourly_hexagon_svm_poly2_test = hourly_hexagon_svm_poly2.predict(hourly_hexagon_X_test)\n",
    "\n",
    "# Predict on the training set\n",
    "# hourly_hexagon_svm_poly2_train = hourly_hexagon_svm_poly2.predict(hourly_hexagon_X_train)"
   ]
  },
  {
   "cell_type": "code",
   "execution_count": null,
   "metadata": {},
   "outputs": [],
   "source": [
    "# # Evaluate on the training set\n",
    "# hourly_hexagon_mae_poly2_train = mean_absolute_error(hourly_hexagon_y_train, hourly_hexagon_svm_poly2_train)\n",
    "# hourly_hexagon_mse_poly2_train = mean_squared_error(hourly_hexagon_y_train, hourly_hexagon_svm_poly2_train)\n",
    "# hourly_hexagon_rmse_poly2_train = np.sqrt(hourly_hexagon_mse_poly2_train)\n",
    "# hourly_hexagon_r2_poly2_train = r2_score(hourly_hexagon_y_train, hourly_hexagon_svm_poly2_train)\n",
    "\n",
    "# def mase(hourly_hexagon_y_train, hourly_hexagon_svm_poly2_train):\n",
    "#     # Calculate the mean of the observed values\n",
    "#     y_mean = np.mean(hourly_hexagon_y_train)\n",
    "    \n",
    "#     # Calculate MAE of the model\n",
    "#     mae_model = np.mean(np.abs(hourly_hexagon_y_train - hourly_hexagon_svm_poly2_train))\n",
    "    \n",
    "#     # Calculate MAE of the mean forecast\n",
    "#     mae_mean = np.mean(np.abs(hourly_hexagon_y_train - y_mean))\n",
    "    \n",
    "#     # Calculate MASE\n",
    "#     mase_value = mae_model / mae_mean\n",
    "#     return mase_value\n",
    "\n",
    "# hourly_hexagon_mase_poly2_train = mase(hourly_hexagon_y_train, hourly_hexagon_svm_poly2_train)\n",
    "\n",
    "# hourly_hexagon_mape_poly2_train = mean_absolute_percentage_error(hourly_hexagon_y_train, hourly_hexagon_svm_poly2_train)\n",
    "\n",
    "# # Custom function for SMAPE\n",
    "# def smape(hourly_hexagon_y_train, hourly_hexagon_svm_poly2_train):\n",
    "#     return 100 * np.mean(2 * np.abs(hourly_hexagon_svm_poly2_train - hourly_hexagon_y_train) / (np.abs(hourly_hexagon_svm_poly2_train) + np.abs(hourly_hexagon_y_train)))\n",
    "\n",
    "# hourly_hexagon_smape_poly2_train = smape(hourly_hexagon_y_train, hourly_hexagon_svm_poly2_train)\n",
    "\n",
    "# print(f'hourly_hexagon SVM Model poly2 kernel (train) - MAE: {hourly_hexagon_mae_poly2_train}, MSE: {hourly_hexagon_mse_poly2_train}, RMSE: {hourly_hexagon_rmse_poly2_train}, R2: {hourly_hexagon_r2_poly2_train}, MASE: {hourly_hexagon_mase_poly2_train}, MAPE: {hourly_hexagon_mape_poly2_train}, SMAPE: {hourly_hexagon_smape_poly2_train}')\n"
   ]
  },
  {
   "cell_type": "code",
   "execution_count": null,
   "metadata": {},
   "outputs": [],
   "source": [
    "# # Evaluate on the testing set\n",
    "# hourly_hexagon_mae_poly2_test = mean_absolute_error(hourly_hexagon_y_test, hourly_hexagon_svm_poly2_test)\n",
    "# hourly_hexagon_mse_poly2_test = mean_squared_error(hourly_hexagon_y_test, hourly_hexagon_svm_poly2_test)\n",
    "# hourly_hexagon_rmse_poly2_test = np.sqrt(hourly_hexagon_mse_poly2_test)\n",
    "# hourly_hexagon_r2_poly2_test = r2_score(hourly_hexagon_y_test, hourly_hexagon_svm_poly2_test)\n",
    "\n",
    "# def mase(hourly_hexagon_y_test, hourly_hexagon_svm_poly2_test):\n",
    "#     # Calculate the mean of the observed values\n",
    "#     y_mean = np.mean(hourly_hexagon_y_test)\n",
    "    \n",
    "#     # Calculate MAE of the model\n",
    "#     mae_model = np.mean(np.abs(hourly_hexagon_y_test - hourly_hexagon_svm_poly2_test))\n",
    "    \n",
    "#     # Calculate MAE of the mean forecast\n",
    "#     mae_mean = np.mean(np.abs(hourly_hexagon_y_test - y_mean))\n",
    "    \n",
    "#     # Calculate MASE\n",
    "#     mase_value = mae_model / mae_mean\n",
    "#     return mase_value\n",
    "\n",
    "# hourly_hexagon_mase_poly2_test = mase(hourly_hexagon_y_test, hourly_hexagon_svm_poly2_test)\n",
    "\n",
    "# hourly_hexagon_mape_poly2_test = mean_absolute_percentage_error(hourly_hexagon_y_test, hourly_hexagon_svm_poly2_test)\n",
    "\n",
    "# # Custom function for SMAPE\n",
    "# def smape(hourly_hexagon_y_test, hourly_hexagon_svm_poly2_test):\n",
    "#     return 100 * np.mean(2 * np.abs(hourly_hexagon_svm_poly2_test - hourly_hexagon_y_test) / (np.abs(hourly_hexagon_svm_poly2_test) + np.abs(hourly_hexagon_y_test)))\n",
    "\n",
    "# hourly_hexagon_smape_poly2_test = smape(hourly_hexagon_y_test, hourly_hexagon_svm_poly2_test)\n",
    "\n",
    "# print(f'hourly_hexagon SVM Model poly2 kernel (test) - MAE: {hourly_hexagon_mae_poly2_test}, MSE: {hourly_hexagon_mse_poly2_test}, RMSE: {hourly_hexagon_rmse_poly2_test}, R2: {hourly_hexagon_r2_poly2_test}, MASE: {hourly_hexagon_mase_poly2_test}, MAPE: {hourly_hexagon_mape_poly2_test}, SMAPE: {hourly_hexagon_smape_poly2_test}')\n"
   ]
  },
  {
   "cell_type": "markdown",
   "metadata": {},
   "source": [
    "### hourly hexagon with manual grid searching & Poly Kernel, degree = 2 approximation with Nystroem method"
   ]
  },
  {
   "cell_type": "code",
   "execution_count": 37,
   "metadata": {},
   "outputs": [
    {
     "name": "stdout",
     "output_type": "stream",
     "text": [
      "[LibLinear]"
     ]
    },
    {
     "name": "stderr",
     "output_type": "stream",
     "text": [
      "C:\\Users\\A1DF42D\\AppData\\Roaming\\Python\\Python310\\site-packages\\sklearn\\svm\\_base.py:1235: ConvergenceWarning: Liblinear failed to converge, increase the number of iterations.\n",
      "  warnings.warn(\n"
     ]
    }
   ],
   "source": [
    "gamma_value = 1 / hourly_hexagon_X_train.shape[1]\n",
    "\n",
    "# Use Nystroem method for kernel approximation\n",
    "nystroem_approx = Nystroem(kernel='poly', degree=2, gamma= gamma_value, n_components=1000)  # You can adjust n_components as needed\n",
    "\n",
    "# Standardize features\n",
    "scaler = StandardScaler()\n",
    "\n",
    "# Create a pipeline that first applies Nyström approximation and then fits the SVM model\n",
    "hourly_hexagon_svm_nystroem = Pipeline([\n",
    "    ('scaler', scaler),\n",
    "    ('nystroem', nystroem_approx),\n",
    "    ('svm', LinearSVR(C=1000, verbose=True))\n",
    "])\n",
    "\n",
    "# Fit the model\n",
    "hourly_hexagon_svm_nystroem.fit(hourly_hexagon_X_train, hourly_hexagon_y_train)\n",
    "\n",
    "# Predict on the test set\n",
    "hourly_hexagon_y_pred_approx_poly_test = hourly_hexagon_svm_nystroem.predict(hourly_hexagon_X_test)\n",
    "\n",
    "# Predict on the training set\n",
    "hourly_hexagon_y_pred_approx_poly_train = hourly_hexagon_svm_nystroem.predict(hourly_hexagon_X_train)\n"
   ]
  },
  {
   "cell_type": "code",
   "execution_count": 72,
   "metadata": {},
   "outputs": [
    {
     "name": "stdout",
     "output_type": "stream",
     "text": [
      "hourly_hexagon SVM Model poly_approx kernel (train) - MAE: 0.15782687829456404, MSE: 0.11283480429867514, RMSE: 0.3359089226243851, R2: 0.8871649734136018, MASE: 0.4295401300160742, MAPE: 0.9236852152153323, SMAPE: 60.7919728047579\n"
     ]
    }
   ],
   "source": [
    "# Evaluate on the training set\n",
    "hourly_hexagon_mae_poly_approx_train = mean_absolute_error(hourly_hexagon_y_train, hourly_hexagon_y_pred_approx_poly_train)\n",
    "hourly_hexagon_mse_poly_approx_train = mean_squared_error(hourly_hexagon_y_train, hourly_hexagon_y_pred_approx_poly_train)\n",
    "hourly_hexagon_rmse_poly_approx_train = np.sqrt(hourly_hexagon_mse_poly_approx_train)\n",
    "hourly_hexagon_r2_poly_approx_train = r2_score(hourly_hexagon_y_train, hourly_hexagon_y_pred_approx_poly_train)\n",
    "\n",
    "def mase(hourly_hexagon_y_train, hourly_hexagon_y_pred_approx_poly_train):\n",
    "    # Calculate the mean of the observed values\n",
    "    y_mean = np.mean(hourly_hexagon_y_train)\n",
    "    \n",
    "    # Calculate MAE of the model\n",
    "    mae_model = np.mean(np.abs(hourly_hexagon_y_train - hourly_hexagon_y_pred_approx_poly_train))\n",
    "    \n",
    "    # Calculate MAE of the mean forecast\n",
    "    mae_mean = np.mean(np.abs(hourly_hexagon_y_train - y_mean))\n",
    "    \n",
    "    # Calculate MASE\n",
    "    mase_value = mae_model / mae_mean\n",
    "    return mase_value\n",
    "\n",
    "hourly_hexagon_mase_poly_approx_train = mase(hourly_hexagon_y_train, hourly_hexagon_y_pred_approx_poly_train)\n",
    "\n",
    "hourly_hexagon_mape_poly_approx_train = mean_absolute_percentage_error(hourly_hexagon_y_train, hourly_hexagon_y_pred_approx_poly_train)\n",
    "\n",
    "# Custom function for SMAPE\n",
    "def smape(hourly_hexagon_y_train, hourly_hexagon_y_pred_approx_poly_train):\n",
    "    return 100 * np.mean(2 * np.abs(hourly_hexagon_y_pred_approx_poly_train - hourly_hexagon_y_train) / (np.abs(hourly_hexagon_y_pred_approx_poly_train) + np.abs(hourly_hexagon_y_train)))\n",
    "\n",
    "hourly_hexagon_smape_poly_approx_train = smape(hourly_hexagon_y_train, hourly_hexagon_y_pred_approx_poly_train)\n",
    "\n",
    "print(f'hourly_hexagon SVM Model poly_approx kernel (train) - MAE: {hourly_hexagon_mae_poly_approx_train}, MSE: {hourly_hexagon_mse_poly_approx_train}, RMSE: {hourly_hexagon_rmse_poly_approx_train}, R2: {hourly_hexagon_r2_poly_approx_train}, MASE: {hourly_hexagon_mase_poly_approx_train}, MAPE: {hourly_hexagon_mape_poly_approx_train}, SMAPE: {hourly_hexagon_smape_poly_approx_train}')"
   ]
  },
  {
   "cell_type": "code",
   "execution_count": 38,
   "metadata": {},
   "outputs": [
    {
     "name": "stdout",
     "output_type": "stream",
     "text": [
      "hourly_hexagon SVM Model poly_approx kernel (test) - MAE: 0.1584774991870171, MSE: 0.11254684938620493, RMSE: 0.3354800282970731, R2: 0.8874522637267778, MASE: 0.43089046511355666, MAPE: 0.92049849396177, SMAPE: 61.04315632332864\n"
     ]
    }
   ],
   "source": [
    "# Evaluate on the testing set\n",
    "hourly_hexagon_mae_poly_approx_test = mean_absolute_error(hourly_hexagon_y_test, hourly_hexagon_y_pred_approx_poly_test)\n",
    "hourly_hexagon_mse_poly_approx_test = mean_squared_error(hourly_hexagon_y_test, hourly_hexagon_y_pred_approx_poly_test)\n",
    "hourly_hexagon_rmse_poly_approx_test = np.sqrt(hourly_hexagon_mse_poly_approx_test)\n",
    "hourly_hexagon_r2_poly_approx_test = r2_score(hourly_hexagon_y_test, hourly_hexagon_y_pred_approx_poly_test)\n",
    "\n",
    "def mase(hourly_hexagon_y_test, hourly_hexagon_y_pred_approx_poly_test):\n",
    "    # Calculate the mean of the observed values\n",
    "    y_mean = np.mean(hourly_hexagon_y_test)\n",
    "    \n",
    "    # Calculate MAE of the model\n",
    "    mae_model = np.mean(np.abs(hourly_hexagon_y_test - hourly_hexagon_y_pred_approx_poly_test))\n",
    "    \n",
    "    # Calculate MAE of the mean forecast\n",
    "    mae_mean = np.mean(np.abs(hourly_hexagon_y_test - y_mean))\n",
    "    \n",
    "    # Calculate MASE\n",
    "    mase_value = mae_model / mae_mean\n",
    "    return mase_value\n",
    "\n",
    "hourly_hexagon_mase_poly_approx_test = mase(hourly_hexagon_y_test, hourly_hexagon_y_pred_approx_poly_test)\n",
    "\n",
    "hourly_hexagon_mape_poly_approx_test = mean_absolute_percentage_error(hourly_hexagon_y_test, hourly_hexagon_y_pred_approx_poly_test)\n",
    "\n",
    "# Custom function for SMAPE\n",
    "def smape(hourly_hexagon_y_test, hourly_hexagon_y_pred_approx_poly_test):\n",
    "    return 100 * np.mean(2 * np.abs(hourly_hexagon_y_pred_approx_poly_test - hourly_hexagon_y_test) / (np.abs(hourly_hexagon_y_pred_approx_poly_test) + np.abs(hourly_hexagon_y_test)))\n",
    "\n",
    "hourly_hexagon_smape_poly_approx_test = smape(hourly_hexagon_y_test, hourly_hexagon_y_pred_approx_poly_test)\n",
    "\n",
    "print(f'hourly_hexagon SVM Model poly_approx kernel (test) - MAE: {hourly_hexagon_mae_poly_approx_test}, MSE: {hourly_hexagon_mse_poly_approx_test}, RMSE: {hourly_hexagon_rmse_poly_approx_test}, R2: {hourly_hexagon_r2_poly_approx_test}, MASE: {hourly_hexagon_mase_poly_approx_test}, MAPE: {hourly_hexagon_mape_poly_approx_test}, SMAPE: {hourly_hexagon_smape_poly_approx_test}')"
   ]
  },
  {
   "cell_type": "markdown",
   "metadata": {},
   "source": [
    "### hourly hexagon with grid searching (put # because it takes too long)"
   ]
  },
  {
   "cell_type": "code",
   "execution_count": null,
   "metadata": {},
   "outputs": [],
   "source": [
    "# Define the parameter grid for Poly kernel\n",
    "# param_grid_poly = {\n",
    "    # 'C': [0.1, 1, 10, 100, 1000],\n",
    "    # 'gamma': ['scale', 'auto'],  # gamma is used for poly kernel\n",
    "    # 'degree': [2],  # Degree of the polynomial kernel\n",
    "    # 'kernel': ['poly']  # Specify Poly kernel\n",
    "# }\n",
    "\n",
    "# Initialize and perform Grid Search for poly kernel\n",
    "#param_grid_poly = GridSearchCV(SVR(), param_grid_poly, cv=5, scoring='neg_mean_absolute_error')\n",
    "#param_grid_poly.fit(hourly_hexagon_X_train, hourly_hexagon_y_train)\n",
    "\n",
    "# Best parameters from Grid Search\n",
    "#print(f'Best parameters for poly kernel: {param_grid_poly.best_params_}')\n",
    "\n",
    "# Get the best model from grid search\n",
    "#best_svm_poly = param_grid_poly.best_estimator_\n",
    "\n",
    "# Predict on the test set\n",
    "#hourly_hexagon_best_svm_poly_test = best_svm_poly.predict(hourly_hexagon_X_test)\n",
    "\n",
    "# Predict on the training set\n",
    "#hourly_hexagon_best_svm_poly_train = best_svm_poly.predict(hourly_hexagon_X_train)"
   ]
  },
  {
   "cell_type": "code",
   "execution_count": null,
   "metadata": {},
   "outputs": [],
   "source": [
    "# # # Evaluate on the training set\n",
    "# hourly_hexagon_best_mae_poly_train = mean_absolute_error(hourly_hexagon_y_train, hourly_hexagon_best_svm_poly_train)\n",
    "# hourly_hexagon_best_mse_poly_train = mean_squared_error(hourly_hexagon_y_train, hourly_hexagon_best_svm_poly_train)\n",
    "# hourly_hexagon_best_rmse_poly_train = np.sqrt(hourly_hexagon_best_mse_poly_train)\n",
    "# # hourly_hexagon_best_r2_poly_train = r2_score(hourly_hexagon_y_train, hourly_hexagon_best_svm_poly_train)\n",
    "\n",
    "# # def mase(hourly_hexagon_y_train, hourly_hexagon_best_svm_poly_train):\n",
    "# #     # Calculate the mean of the observed values\n",
    "# #     y_mean = np.mean(hourly_hexagon_y_train)\n",
    "    \n",
    "# #     # Calculate MAE of the model\n",
    "# #     mae_model = np.mean(np.abs(hourly_hexagon_y_train - hourly_hexagon_best_svm_poly_train))\n",
    "    \n",
    "# #     # Calculate MAE of the mean forecast\n",
    "# #     mae_mean = np.mean(np.abs(hourly_hexagon_y_train - y_mean))\n",
    "    \n",
    "# #     # Calculate MASE\n",
    "# #     mase_value = mae_model / mae_mean\n",
    "# #     return mase_value\n",
    "\n",
    "# # hourly_hexagon_best_mase_poly_train = mase(hourly_hexagon_y_train, hourly_hexagon_best_svm_poly_train)\n",
    "\n",
    "# # hourly_hexagon_best_mape_poly_train = mean_absolute_percentage_error(hourly_hexagon_y_train, hourly_hexagon_best_svm_poly_train)\n",
    "\n",
    "# # # Custom function for SMAPE\n",
    "# # def smape(hourly_hexagon_y_train, hourly_hexagon_best_svm_poly_train):\n",
    "# #     return 100 * np.mean(2 * np.abs(hourly_hexagon_best_svm_poly_train - hourly_hexagon_y_train) / (np.abs(hourly_hexagon_best_svm_poly_train) + np.abs(hourly_hexagon_y_train)))\n",
    "\n",
    "# # hourly_hexagon_best_smape_poly_train = smape(hourly_hexagon_y_train, hourly_hexagon_best_svm_poly_train)\n",
    "\n",
    "# # print(f'hourly_hexagon SVM Model poly kernel (train) - MAE: {hourly_hexagon_best_mae_poly_train}, MSE: {hourly_hexagon_best_mse_poly_train}, RMSE: {hourly_hexagon_best_rmse_poly_train}, R2: {hourly_hexagon_best_r2_poly_train}, MASE: {hourly_hexagon_best_mase_poly_train}, MAPE: {hourly_hexagon_best_mape_poly_train}, SMAPE: {hourly_hexagon_best_smape_poly_train}')\n"
   ]
  },
  {
   "cell_type": "code",
   "execution_count": null,
   "metadata": {},
   "outputs": [],
   "source": [
    "# # # Evaluate on the testing set\n",
    "# hourly_hexagon_best_mae_poly_test = mean_absolute_error(hourly_hexagon_y_test, hourly_hexagon_best_svm_poly_test)\n",
    "# hourly_hexagon_best_mse_poly_test = mean_squared_error(hourly_hexagon_y_test, hourly_hexagon_best_svm_poly_test)\n",
    "# hourly_hexagon_best_rmse_poly_test = np.sqrt(hourly_hexagon_best_mse_poly_test)\n",
    "# # hourly_hexagon_best_r2_poly_test = r2_score(hourly_hexagon_y_test, hourly_hexagon_best_svm_poly_test)\n",
    "\n",
    "# # def mase(hourly_hexagon_y_test, hourly_hexagon_best_svm_poly_test):\n",
    "# #     # Calculate the mean of the observed values\n",
    "# #     y_mean = np.mean(hourly_hexagon_y_test)\n",
    "    \n",
    "# #     # Calculate MAE of the model\n",
    "# #     mae_model = np.mean(np.abs(hourly_hexagon_y_test - hourly_hexagon_best_svm_poly_test))\n",
    "    \n",
    "# #     # Calculate MAE of the mean forecast\n",
    "# #     mae_mean = np.mean(np.abs(hourly_hexagon_y_test - y_mean))\n",
    "    \n",
    "# #     # Calculate MASE\n",
    "# #     mase_value = mae_model / mae_mean\n",
    "# #     return mase_value\n",
    "\n",
    "# # hourly_hexagon_best_mase_poly_test = mase(hourly_hexagon_y_test, hourly_hexagon_best_svm_poly_test)\n",
    "\n",
    "# # hourly_hexagon_best_mape_poly_test = mean_absolute_percentage_error(hourly_hexagon_y_test, hourly_hexagon_best_svm_poly_test)\n",
    "\n",
    "# # # Custom function for SMAPE\n",
    "# # def smape(hourly_hexagon_y_test, hourly_hexagon_best_svm_poly_test):\n",
    "# #     return 100 * np.mean(2 * np.abs(hourly_hexagon_best_svm_poly_test - hourly_hexagon_y_test) / (np.abs(hourly_hexagon_best_svm_poly_test) + np.abs(hourly_hexagon_y_test)))\n",
    "\n",
    "# # hourly_hexagon_best_smape_poly_test = smape(hourly_hexagon_y_test, hourly_hexagon_best_svm_poly_test)\n",
    "\n",
    "# # print(f'hourly_hexagon SVM Model poly kernel (test) - MAE: {hourly_hexagon_best_mae_poly_test}, MSE: {hourly_hexagon_best_mse_poly_test}, RMSE: {hourly_hexagon_best_rmse_poly_test}, R2: {hourly_hexagon_best_r2_poly_test}, MASE: {hourly_hexagon_best_mase_poly_test}, MAPE: {hourly_hexagon_best_mape_poly_test}, SMAPE: {hourly_hexagon_best_smape_poly_test}')"
   ]
  },
  {
   "cell_type": "markdown",
   "metadata": {},
   "source": [
    "### daily census without grid searching, degree = 2"
   ]
  },
  {
   "cell_type": "code",
   "execution_count": null,
   "metadata": {},
   "outputs": [
    {
     "name": "stdout",
     "output_type": "stream",
     "text": [
      "[LibSVM]"
     ]
    }
   ],
   "source": [
    "# Train SVM model with polynomial kernel, degree = 2\n",
    "daily_census_svm_poly2 = SVR(kernel ='poly', verbose=True, C=100, degree = 2)\n",
    "daily_census_svm_poly2.fit(daily_census_X_train, daily_census_y_train)\n",
    "\n",
    "# Predict on the test set\n",
    "daily_census_svm_poly2_test = daily_census_svm_poly2.predict(daily_census_X_test)\n",
    "\n",
    "# Predict on the training set\n",
    "daily_census_svm_poly2_train = daily_census_svm_poly2.predict(daily_census_X_train)"
   ]
  },
  {
   "cell_type": "code",
   "execution_count": null,
   "metadata": {},
   "outputs": [
    {
     "name": "stdout",
     "output_type": "stream",
     "text": [
      "daily_census SVM Model poly2 kernel (train) - R2: 0.9151054559604288, MASE: 0.1827415435373252, MAPE: 1.219359575089136, SMAPE: 40.444245726895154\n"
     ]
    }
   ],
   "source": [
    "# Evaluate on the training set\n",
    "daily_census_mae_poly2_train = mean_absolute_error(daily_census_y_train, daily_census_svm_poly2_train)\n",
    "daily_census_mse_poly2_train = mean_squared_error(daily_census_y_train, daily_census_svm_poly2_train)\n",
    "daily_census_rmse_poly2_train = np.sqrt(daily_census_mse_poly2_train)\n",
    "daily_census_r2_poly2_train = r2_score(daily_census_y_train, daily_census_svm_poly2_train)\n",
    "\n",
    "def mase(daily_census_y_train, daily_census_svm_poly2_train):\n",
    "    # Calculate the mean of the observed values\n",
    "    y_mean = np.mean(daily_census_y_train)\n",
    "    \n",
    "    # Calculate MAE of the model\n",
    "    mae_model = np.mean(np.abs(daily_census_y_train - daily_census_svm_poly2_train))\n",
    "    \n",
    "    # Calculate MAE of the mean forecast\n",
    "    mae_mean = np.mean(np.abs(daily_census_y_train - y_mean))\n",
    "    \n",
    "    # Calculate MASE\n",
    "    mase_value = mae_model / mae_mean\n",
    "    return mase_value\n",
    "\n",
    "daily_census_mase_poly2_train = mase(daily_census_y_train, daily_census_svm_poly2_train)\n",
    "\n",
    "daily_census_mape_poly2_train = mean_absolute_percentage_error(daily_census_y_train, daily_census_svm_poly2_train)\n",
    "\n",
    "# Custom function for SMAPE\n",
    "def smape(daily_census_y_train, daily_census_svm_poly2_train):\n",
    "    return 100 * np.mean(2 * np.abs(daily_census_svm_poly2_train - daily_census_y_train) / (np.abs(daily_census_svm_poly2_train) + np.abs(daily_census_y_train)))\n",
    "\n",
    "daily_census_smape_poly2_train = smape(daily_census_y_train, daily_census_svm_poly2_train)\n",
    "\n",
    "print(f'daily_census SVM Model poly2 kernel (train) - MAE: {daily_census_mae_poly2_train}, MSE: {daily_census_mse_poly2_train}, RMSE: {daily_census_rmse_poly2_train}, R2: {daily_census_r2_poly2_train}, MASE: {daily_census_mase_poly2_train}, MAPE: {daily_census_mape_poly2_train}, SMAPE: {daily_census_smape_poly2_train}')"
   ]
  },
  {
   "cell_type": "code",
   "execution_count": null,
   "metadata": {},
   "outputs": [
    {
     "name": "stdout",
     "output_type": "stream",
     "text": [
      "daily_census SVM Model poly2 kernel (test) - R2: 0.9083044669138122, MASE: 0.19245235853523274, MAPE: 1.4023259620417237, SMAPE: 44.252089835285645\n"
     ]
    }
   ],
   "source": [
    "# Evaluate on the testing set\n",
    "daily_census_mae_poly2_test = mean_absolute_error(daily_census_y_test, daily_census_svm_poly2_test)\n",
    "daily_census_mse_poly2_test = mean_squared_error(daily_census_y_test, daily_census_svm_poly2_test)\n",
    "daily_census_rmse_poly2_test = np.sqrt(daily_census_mse_poly2_test)\n",
    "daily_census_r2_poly2_test = r2_score(daily_census_y_test, daily_census_svm_poly2_test)\n",
    "\n",
    "def mase(daily_census_y_test, daily_census_svm_poly2_test):\n",
    "    # Calculate the mean of the observed values\n",
    "    y_mean = np.mean(daily_census_y_test)\n",
    "    \n",
    "    # Calculate MAE of the model\n",
    "    mae_model = np.mean(np.abs(daily_census_y_test - daily_census_svm_poly2_test))\n",
    "    \n",
    "    # Calculate MAE of the mean forecast\n",
    "    mae_mean = np.mean(np.abs(daily_census_y_test - y_mean))\n",
    "    \n",
    "    # Calculate MASE\n",
    "    mase_value = mae_model / mae_mean\n",
    "    return mase_value\n",
    "\n",
    "daily_census_mase_poly2_test = mase(daily_census_y_test, daily_census_svm_poly2_test)\n",
    "\n",
    "daily_census_mape_poly2_test = mean_absolute_percentage_error(daily_census_y_test, daily_census_svm_poly2_test)\n",
    "\n",
    "# Custom function for SMAPE\n",
    "def smape(daily_census_y_test, daily_census_svm_poly2_test):\n",
    "    return 100 * np.mean(2 * np.abs(daily_census_svm_poly2_test - daily_census_y_test) / (np.abs(daily_census_svm_poly2_test) + np.abs(daily_census_y_test)))\n",
    "\n",
    "daily_census_smape_poly2_test = smape(daily_census_y_test, daily_census_svm_poly2_test)\n",
    "\n",
    "print(f'daily_census SVM Model poly2 kernel (test) - MAE: {daily_census_mae_poly2_test}, MSE: {daily_census_mse_poly2_test}, RMSE: {daily_census_rmse_poly2_test}, R2: {daily_census_r2_poly2_test}, MASE: {daily_census_mase_poly2_test}, MAPE: {daily_census_mape_poly2_test}, SMAPE: {daily_census_smape_poly2_test}')"
   ]
  },
  {
   "cell_type": "markdown",
   "metadata": {},
   "source": [
    "### daily census with manual grid searching & Poly Kernel, degree = 2 approximation with Nystroem method"
   ]
  },
  {
   "cell_type": "code",
   "execution_count": 39,
   "metadata": {},
   "outputs": [
    {
     "name": "stdout",
     "output_type": "stream",
     "text": [
      "[LibLinear]"
     ]
    },
    {
     "name": "stderr",
     "output_type": "stream",
     "text": [
      "C:\\Users\\A1DF42D\\AppData\\Roaming\\Python\\Python310\\site-packages\\sklearn\\svm\\_base.py:1235: ConvergenceWarning: Liblinear failed to converge, increase the number of iterations.\n",
      "  warnings.warn(\n"
     ]
    }
   ],
   "source": [
    "gamma_value = 1 / daily_census_X_train.shape[1]\n",
    "\n",
    "# Use Nystroem method for kernel approximation\n",
    "nystroem_approx = Nystroem(kernel='poly', degree=2, gamma= gamma_value, n_components=1000)  # You can adjust n_components as needed\n",
    "\n",
    "# Standardize features\n",
    "scaler = StandardScaler()\n",
    "\n",
    "# Create a pipeline that first applies Nyström approximation and then fits the SVM model\n",
    "daily_census_svm_nystroem = Pipeline([\n",
    "    ('scaler', scaler),\n",
    "    ('nystroem', nystroem_approx),\n",
    "    ('svm', LinearSVR(C=1000, verbose=True))\n",
    "])\n",
    "\n",
    "# Fit the model\n",
    "daily_census_svm_nystroem.fit(daily_census_X_train, daily_census_y_train)\n",
    "\n",
    "# Predict on the test set\n",
    "daily_census_y_pred_approx_poly_test = daily_census_svm_nystroem.predict(daily_census_X_test)\n",
    "\n",
    "# Predict on the training set\n",
    "daily_census_y_pred_approx_poly_train = daily_census_svm_nystroem.predict(daily_census_X_train)\n"
   ]
  },
  {
   "cell_type": "code",
   "execution_count": 73,
   "metadata": {},
   "outputs": [
    {
     "name": "stdout",
     "output_type": "stream",
     "text": [
      "daily_census SVM Model poly_approx kernel (train) - MAE: 0.1450257474504414, MSE: 0.09195584612650011, RMSE: 0.30324222352189034, R2: 0.9080417553799, MASE: 0.31040337010144015, MAPE: 0.7756622701392363, SMAPE: 48.65747799497871\n"
     ]
    }
   ],
   "source": [
    "# Evaluate on the training set\n",
    "daily_census_mae_poly_approx_train = mean_absolute_error(daily_census_y_train, daily_census_y_pred_approx_poly_train)\n",
    "daily_census_mse_poly_approx_train = mean_squared_error(daily_census_y_train, daily_census_y_pred_approx_poly_train)\n",
    "daily_census_rmse_poly_approx_train = np.sqrt(daily_census_mse_poly_approx_train)\n",
    "daily_census_r2_poly_approx_train = r2_score(daily_census_y_train, daily_census_y_pred_approx_poly_train)\n",
    "\n",
    "def mase(daily_census_y_train, daily_census_y_pred_approx_poly_train):\n",
    "    # Calculate the mean of the observed values\n",
    "    y_mean = np.mean(daily_census_y_train)\n",
    "    \n",
    "    # Calculate MAE of the model\n",
    "    mae_model = np.mean(np.abs(daily_census_y_train - daily_census_y_pred_approx_poly_train))\n",
    "    \n",
    "    # Calculate MAE of the mean forecast\n",
    "    mae_mean = np.mean(np.abs(daily_census_y_train - y_mean))\n",
    "    \n",
    "    # Calculate MASE\n",
    "    mase_value = mae_model / mae_mean\n",
    "    return mase_value\n",
    "\n",
    "daily_census_mase_poly_approx_train = mase(daily_census_y_train, daily_census_y_pred_approx_poly_train)\n",
    "\n",
    "daily_census_mape_poly_approx_train = mean_absolute_percentage_error(daily_census_y_train, daily_census_y_pred_approx_poly_train)\n",
    "\n",
    "# Custom function for SMAPE\n",
    "def smape(daily_census_y_train, daily_census_y_pred_approx_poly_train):\n",
    "    return 100 * np.mean(2 * np.abs(daily_census_y_pred_approx_poly_train - daily_census_y_train) / (np.abs(daily_census_y_pred_approx_poly_train) + np.abs(daily_census_y_train)))\n",
    "\n",
    "daily_census_smape_poly_approx_train = smape(daily_census_y_train, daily_census_y_pred_approx_poly_train)\n",
    "\n",
    "print(f'daily_census SVM Model poly_approx kernel (train) - MAE: {daily_census_mae_poly_approx_train}, MSE: {daily_census_mse_poly_approx_train}, RMSE: {daily_census_rmse_poly_approx_train}, R2: {daily_census_r2_poly_approx_train}, MASE: {daily_census_mase_poly_approx_train}, MAPE: {daily_census_mape_poly_approx_train}, SMAPE: {daily_census_smape_poly_approx_train}')"
   ]
  },
  {
   "cell_type": "code",
   "execution_count": 40,
   "metadata": {},
   "outputs": [
    {
     "name": "stdout",
     "output_type": "stream",
     "text": [
      "daily_census SVM Model poly_approx kernel (test) - MAE: 0.14794447968067526, MSE: 0.10283662286627743, RMSE: 0.320681497542776, R2: 0.8971526482215821, MASE: 0.3163987256096922, MAPE: 1.5524360781115758, SMAPE: 48.70175458471904\n"
     ]
    }
   ],
   "source": [
    "# Evaluate on the testing set\n",
    "daily_census_mae_poly_approx_test = mean_absolute_error(daily_census_y_test, daily_census_y_pred_approx_poly_test)\n",
    "daily_census_mse_poly_approx_test = mean_squared_error(daily_census_y_test, daily_census_y_pred_approx_poly_test)\n",
    "daily_census_rmse_poly_approx_test = np.sqrt(daily_census_mse_poly_approx_test)\n",
    "daily_census_r2_poly_approx_test = r2_score(daily_census_y_test, daily_census_y_pred_approx_poly_test)\n",
    "\n",
    "def mase(daily_census_y_test, daily_census_y_pred_approx_poly_test):\n",
    "    # Calculate the mean of the observed values\n",
    "    y_mean = np.mean(daily_census_y_test)\n",
    "    \n",
    "    # Calculate MAE of the model\n",
    "    mae_model = np.mean(np.abs(daily_census_y_test - daily_census_y_pred_approx_poly_test))\n",
    "    \n",
    "    # Calculate MAE of the mean forecast\n",
    "    mae_mean = np.mean(np.abs(daily_census_y_test - y_mean))\n",
    "    \n",
    "    # Calculate MASE\n",
    "    mase_value = mae_model / mae_mean\n",
    "    return mase_value\n",
    "\n",
    "daily_census_mase_poly_approx_test = mase(daily_census_y_test, daily_census_y_pred_approx_poly_test)\n",
    "\n",
    "daily_census_mape_poly_approx_test = mean_absolute_percentage_error(daily_census_y_test, daily_census_y_pred_approx_poly_test)\n",
    "\n",
    "# Custom function for SMAPE\n",
    "def smape(daily_census_y_test, daily_census_y_pred_approx_poly_test):\n",
    "    return 100 * np.mean(2 * np.abs(daily_census_y_pred_approx_poly_test - daily_census_y_test) / (np.abs(daily_census_y_pred_approx_poly_test) + np.abs(daily_census_y_test)))\n",
    "\n",
    "daily_census_smape_poly_approx_test = smape(daily_census_y_test, daily_census_y_pred_approx_poly_test)\n",
    "\n",
    "print(f'daily_census SVM Model poly_approx kernel (test) - MAE: {daily_census_mae_poly_approx_test}, MSE: {daily_census_mse_poly_approx_test}, RMSE: {daily_census_rmse_poly_approx_test}, R2: {daily_census_r2_poly_approx_test}, MASE: {daily_census_mase_poly_approx_test}, MAPE: {daily_census_mape_poly_approx_test}, SMAPE: {daily_census_smape_poly_approx_test}')"
   ]
  },
  {
   "cell_type": "markdown",
   "metadata": {},
   "source": [
    "### daily census with grid searching (put # because it takes too long)"
   ]
  },
  {
   "cell_type": "code",
   "execution_count": null,
   "metadata": {},
   "outputs": [],
   "source": [
    "# Define the parameter grid for Poly kernel\n",
    "# param_grid_poly = {\n",
    "    # 'C': [0.1, 1, 10, 100, 1000],\n",
    "    # 'gamma': ['scale', 'auto'],  # gamma is used for poly kernel\n",
    "    # 'degree': [2],  # Degree of the polynomial kernel\n",
    "    # 'kernel': ['poly']  # Specify Poly kernel\n",
    "# }\n",
    "\n",
    "# Initialize and perform Grid Search for poly kernel\n",
    "#param_grid_poly = GridSearchCV(SVR(), param_grid_poly, cv=5, scoring='neg_mean_absolute_error')\n",
    "#param_grid_poly.fit(daily_census_X_train, daily_census_y_train)\n",
    "\n",
    "# Best parameters from Grid Search\n",
    "#print(f'Best parameters for poly kernel: {param_grid_poly.best_params_}')\n",
    "\n",
    "# Get the best model from grid search\n",
    "#best_svm_poly = param_grid_poly.best_estimator_\n",
    "\n",
    "# Predict on the test set\n",
    "#daily_census_best_svm_poly_test = best_svm_poly.predict(daily_census_X_test)\n",
    "\n",
    "# Predict on the training set\n",
    "#daily_census_best_svm_poly_train = best_svm_poly.predict(daily_census_X_train)"
   ]
  },
  {
   "cell_type": "code",
   "execution_count": null,
   "metadata": {},
   "outputs": [],
   "source": [
    "# # # Evaluate on the training set\n",
    "# daily_census_best_mae_poly_train = mean_absolute_error(daily_census_y_train, daily_census_best_svm_poly_train)\n",
    "# daily_census_best_mse_poly_train = mean_squared_error(daily_census_y_train, daily_census_best_svm_poly_train)\n",
    "# daily_census_best_rmse_poly_train = np.sqrt(daily_census_best_mse_poly_train)\n",
    "# # daily_census_best_r2_poly_train = r2_score(daily_census_y_train, daily_census_best_svm_poly_train)\n",
    "\n",
    "# # def mase(daily_census_y_train, daily_census_best_svm_poly_train):\n",
    "# #     # Calculate the mean of the observed values\n",
    "# #     y_mean = np.mean(daily_census_y_train)\n",
    "    \n",
    "# #     # Calculate MAE of the model\n",
    "# #     mae_model = np.mean(np.abs(daily_census_y_train - daily_census_best_svm_poly_train))\n",
    "    \n",
    "# #     # Calculate MAE of the mean forecast\n",
    "# #     mae_mean = np.mean(np.abs(daily_census_y_train - y_mean))\n",
    "    \n",
    "# #     # Calculate MASE\n",
    "# #     mase_value = mae_model / mae_mean\n",
    "# #     return mase_value\n",
    "\n",
    "# # daily_census_best_mase_poly_train = mase(daily_census_y_train, daily_census_best_svm_poly_train)\n",
    "\n",
    "# # daily_census_best_mape_poly_train = mean_absolute_percentage_error(daily_census_y_train, daily_census_best_svm_poly_train)\n",
    "\n",
    "# # # Custom function for SMAPE\n",
    "# # def smape(daily_census_y_train, daily_census_best_svm_poly_train):\n",
    "# #     return 100 * np.mean(2 * np.abs(daily_census_best_svm_poly_train - daily_census_y_train) / (np.abs(daily_census_best_svm_poly_train) + np.abs(daily_census_y_train)))\n",
    "\n",
    "# # daily_census_best_smape_poly_train = smape(daily_census_y_train, daily_census_best_svm_poly_train)\n",
    "\n",
    "# # print(f'daily_census SVM Model poly kernel (train) - MAE: {daily_census_best_mae_poly_train}, MSE: {daily_census_best_mse_poly_train}, RMSE: {daily_census_best_rmse_poly_train}, R2: {daily_census_best_r2_poly_train}, MASE: {daily_census_best_mase_poly_train}, MAPE: {daily_census_best_mape_poly_train}, SMAPE: {daily_census_best_smape_poly_train}')"
   ]
  },
  {
   "cell_type": "code",
   "execution_count": null,
   "metadata": {},
   "outputs": [],
   "source": [
    "# # # Evaluate on the testing set\n",
    "# daily_census_best_mae_poly_test = mean_absolute_error(daily_census_y_test, daily_census_best_svm_poly_test)\n",
    "# daily_census_best_mse_poly_test = mean_squared_error(daily_census_y_test, daily_census_best_svm_poly_test)\n",
    "# daily_census_best_rmse_poly_test = np.sqrt(daily_census_best_mse_poly_test)\n",
    "# # daily_census_best_r2_poly_test = r2_score(daily_census_y_test, daily_census_best_svm_poly_test)\n",
    "\n",
    "# # def mase(daily_census_y_test, daily_census_best_svm_poly_test):\n",
    "# #     # Calculate the mean of the observed values\n",
    "# #     y_mean = np.mean(daily_census_y_test)\n",
    "    \n",
    "# #     # Calculate MAE of the model\n",
    "# #     mae_model = np.mean(np.abs(daily_census_y_test - daily_census_best_svm_poly_test))\n",
    "    \n",
    "# #     # Calculate MAE of the mean forecast\n",
    "# #     mae_mean = np.mean(np.abs(daily_census_y_test - y_mean))\n",
    "    \n",
    "# #     # Calculate MASE\n",
    "# #     mase_value = mae_model / mae_mean\n",
    "# #     return mase_value\n",
    "\n",
    "# # daily_census_best_mase_poly_test = mase(daily_census_y_test, daily_census_best_svm_poly_test)\n",
    "\n",
    "# # daily_census_best_mape_poly_test = mean_absolute_percentage_error(daily_census_y_test, daily_census_best_svm_poly_test)\n",
    "\n",
    "# # # Custom function for SMAPE\n",
    "# # def smape(daily_census_y_test, daily_census_best_svm_poly_test):\n",
    "# #     return 100 * np.mean(2 * np.abs(daily_census_best_svm_poly_test - daily_census_y_test) / (np.abs(daily_census_best_svm_poly_test) + np.abs(daily_census_y_test)))\n",
    "\n",
    "# # daily_census_best_smape_poly_test = smape(daily_census_y_test, daily_census_best_svm_poly_test)\n",
    "\n",
    "# # print(f'daily_census SVM Model poly kernel (test) - MAE: {daily_census_best_mae_poly_test}, MSE: {daily_census_best_mse_poly_test}, RMSE: {daily_census_best_rmse_poly_test}, R2: {daily_census_best_r2_poly_test}, MASE: {daily_census_best_mase_poly_test}, MAPE: {daily_census_best_mape_poly_test}, SMAPE: {daily_census_best_smape_poly_test}')"
   ]
  },
  {
   "cell_type": "markdown",
   "metadata": {},
   "source": [
    "### hourly census without grid searching, degree = 2  (put # because it takes too long)"
   ]
  },
  {
   "cell_type": "code",
   "execution_count": null,
   "metadata": {},
   "outputs": [],
   "source": [
    "# Train SVM model with polynomial kernel, degree = 2\n",
    "# hourly_census_svm_poly2 = SVR(kernel ='poly', verbose=True, C=100, degree = 2)\n",
    "# hourly_census_svm_poly2.fit(hourly_census_X_train, hourly_census_y_train)\n",
    "\n",
    "# Predict on the test set\n",
    "# hourly_census_svm_poly2_test = hourly_census_svm_poly2.predict(hourly_census_X_test)\n",
    "\n",
    "# Predict on the training set\n",
    "# hourly_census_svm_poly2_train = hourly_census_svm_poly2.predict(hourly_census_X_train)"
   ]
  },
  {
   "cell_type": "code",
   "execution_count": null,
   "metadata": {},
   "outputs": [],
   "source": [
    "# # Evaluate on the training set\n",
    "# hourly_census_mae_poly2_train = mean_absolute_error(hourly_census_y_train, hourly_census_svm_poly2_train)\n",
    "# hourly_census_mse_poly2_train = mean_squared_error(hourly_census_y_train, hourly_census_svm_poly2_train)\n",
    "# hourly_census_rmse_poly2_train = np.sqrt(hourly_census_mse_poly2_train)\n",
    "# hourly_census_r2_poly2_train = r2_score(hourly_census_y_train, hourly_census_svm_poly2_train)\n",
    "\n",
    "# def mase(hourly_census_y_train, hourly_census_svm_poly2_train):\n",
    "#     # Calculate the mean of the observed values\n",
    "#     y_mean = np.mean(hourly_census_y_train)\n",
    "    \n",
    "#     # Calculate MAE of the model\n",
    "#     mae_model = np.mean(np.abs(hourly_census_y_train - hourly_census_svm_poly2_train))\n",
    "    \n",
    "#     # Calculate MAE of the mean forecast\n",
    "#     mae_mean = np.mean(np.abs(hourly_census_y_train - y_mean))\n",
    "    \n",
    "#     # Calculate MASE\n",
    "#     mase_value = mae_model / mae_mean\n",
    "#     return mase_value\n",
    "\n",
    "# hourly_census_mase_poly2_train = mase(hourly_census_y_train, hourly_census_svm_poly2_train)\n",
    "\n",
    "# hourly_census_mape_poly2_train = mean_absolute_percentage_error(hourly_census_y_train, hourly_census_svm_poly2_train)\n",
    "\n",
    "# # Custom function for SMAPE\n",
    "# def smape(hourly_census_y_train, hourly_census_svm_poly2_train):\n",
    "#     return 100 * np.mean(2 * np.abs(hourly_census_svm_poly2_train - hourly_census_y_train) / (np.abs(hourly_census_svm_poly2_train) + np.abs(hourly_census_y_train)))\n",
    "\n",
    "# hourly_census_smape_poly2_train = smape(hourly_census_y_train, hourly_census_svm_poly2_train)\n",
    "\n",
    "# print(f'hourly_census SVM Model poly2 kernel (train) - MAE: {hourly_census_mae_poly2_train}, MSE: {hourly_census_mse_poly2_train}, RMSE: {hourly_census_rmse_poly2_train}, R2: {hourly_census_r2_poly2_train}, MASE: {hourly_census_mase_poly2_train}, MAPE: {hourly_census_mape_poly2_train}, SMAPE: {hourly_census_smape_poly2_train}')"
   ]
  },
  {
   "cell_type": "code",
   "execution_count": null,
   "metadata": {},
   "outputs": [],
   "source": [
    "# # Evaluate on the testing set\n",
    "# hourly_census_mae_poly2_test = mean_absolute_error(hourly_census_y_test, hourly_census_svm_poly2_test)\n",
    "# hourly_census_mse_poly2_test = mean_squared_error(hourly_census_y_test, hourly_census_svm_poly2_test)\n",
    "# hourly_census_rmse_poly2_test = np.sqrt(hourly_census_mse_poly2_test)\n",
    "# hourly_census_r2_poly2_test = r2_score(hourly_census_y_test, hourly_census_svm_poly2_test)\n",
    "\n",
    "# def mase(hourly_census_y_test, hourly_census_svm_poly2_test):\n",
    "#     # Calculate the mean of the observed values\n",
    "#     y_mean = np.mean(hourly_census_y_test)\n",
    "    \n",
    "#     # Calculate MAE of the model\n",
    "#     mae_model = np.mean(np.abs(hourly_census_y_test - hourly_census_svm_poly2_test))\n",
    "    \n",
    "#     # Calculate MAE of the mean forecast\n",
    "#     mae_mean = np.mean(np.abs(hourly_census_y_test - y_mean))\n",
    "    \n",
    "#     # Calculate MASE\n",
    "#     mase_value = mae_model / mae_mean\n",
    "#     return mase_value\n",
    "\n",
    "# hourly_census_mase_poly2_test = mase(hourly_census_y_test, hourly_census_svm_poly2_test)\n",
    "\n",
    "# hourly_census_mape_poly2_test = mean_absolute_percentage_error(hourly_census_y_test, hourly_census_svm_poly2_test)\n",
    "\n",
    "# # Custom function for SMAPE\n",
    "# def smape(hourly_census_y_test, hourly_census_svm_poly2_test):\n",
    "#     return 100 * np.mean(2 * np.abs(hourly_census_svm_poly2_test - hourly_census_y_test) / (np.abs(hourly_census_svm_poly2_test) + np.abs(hourly_census_y_test)))\n",
    "\n",
    "# hourly_census_smape_poly2_test = smape(hourly_census_y_test, hourly_census_svm_poly2_test)\n",
    "\n",
    "# print(f'hourly_census SVM Model poly2 kernel (test) - MAE: {hourly_census_mae_poly2_test}, MSE: {hourly_census_mse_poly2_test}, RMSE: {hourly_census_rmse_poly2_test}, R2: {hourly_census_r2_poly2_test}, MASE: {hourly_census_mase_poly2_test}, MAPE: {hourly_census_mape_poly2_test}, SMAPE: {hourly_census_smape_poly2_test}')"
   ]
  },
  {
   "cell_type": "markdown",
   "metadata": {},
   "source": [
    "### hourly census with manual grid searching & Poly Kernel, degree = 2 approximation with Nystroem method"
   ]
  },
  {
   "cell_type": "code",
   "execution_count": 41,
   "metadata": {},
   "outputs": [
    {
     "name": "stdout",
     "output_type": "stream",
     "text": [
      "[LibLinear]"
     ]
    },
    {
     "name": "stderr",
     "output_type": "stream",
     "text": [
      "C:\\Users\\A1DF42D\\AppData\\Roaming\\Python\\Python310\\site-packages\\sklearn\\svm\\_base.py:1235: ConvergenceWarning: Liblinear failed to converge, increase the number of iterations.\n",
      "  warnings.warn(\n"
     ]
    }
   ],
   "source": [
    "gamma_value = 1 / hourly_census_X_train.shape[1]\n",
    "\n",
    "# Use Nystroem method for kernel approximation\n",
    "nystroem_approx = Nystroem(kernel='poly', degree=2, gamma= gamma_value, n_components=1000)  # You can adjust n_components as needed\n",
    "\n",
    "# Standardize features\n",
    "scaler = StandardScaler()\n",
    "\n",
    "# Create a pipeline that first applies Nyström approximation and then fits the SVM model\n",
    "hourly_census_svm_nystroem = Pipeline([\n",
    "    ('scaler', scaler),\n",
    "    ('nystroem', nystroem_approx),\n",
    "    ('svm', LinearSVR(C=1000, verbose=True))\n",
    "])\n",
    "\n",
    "# Fit the model\n",
    "hourly_census_svm_nystroem.fit(hourly_census_X_train, hourly_census_y_train)\n",
    "\n",
    "# Predict on the test set\n",
    "hourly_census_y_pred_approx_poly_test = hourly_census_svm_nystroem.predict(hourly_census_X_test)\n",
    "\n",
    "# Predict on the training set\n",
    "hourly_census_y_pred_approx_poly_train = hourly_census_svm_nystroem.predict(hourly_census_X_train)\n"
   ]
  },
  {
   "cell_type": "code",
   "execution_count": 74,
   "metadata": {},
   "outputs": [
    {
     "name": "stdout",
     "output_type": "stream",
     "text": [
      "hourly_census SVM Model poly_approx kernel (train) - MAE: 0.24521473195033197, MSE: 0.21773302629153976, RMSE: 0.46661871618221634, R2: 0.7822664439173361, MASE: 0.4778265831933453, MAPE: 1.1598906358941499, SMAPE: 61.93311808886107\n"
     ]
    }
   ],
   "source": [
    "# Evaluate on the training set\n",
    "hourly_census_mae_poly_approx_train = mean_absolute_error(hourly_census_y_train, hourly_census_y_pred_approx_poly_train)\n",
    "hourly_census_mse_poly_approx_train = mean_squared_error(hourly_census_y_train, hourly_census_y_pred_approx_poly_train)\n",
    "hourly_census_rmse_poly_approx_train = np.sqrt(hourly_census_mse_poly_approx_train)\n",
    "hourly_census_r2_poly_approx_train = r2_score(hourly_census_y_train, hourly_census_y_pred_approx_poly_train)\n",
    "\n",
    "def mase(hourly_census_y_train, hourly_census_y_pred_approx_poly_train):\n",
    "    # Calculate the mean of the observed values\n",
    "    y_mean = np.mean(hourly_census_y_train)\n",
    "    \n",
    "    # Calculate MAE of the model\n",
    "    mae_model = np.mean(np.abs(hourly_census_y_train - hourly_census_y_pred_approx_poly_train))\n",
    "    \n",
    "    # Calculate MAE of the mean forecast\n",
    "    mae_mean = np.mean(np.abs(hourly_census_y_train - y_mean))\n",
    "    \n",
    "    # Calculate MASE\n",
    "    mase_value = mae_model / mae_mean\n",
    "    return mase_value\n",
    "\n",
    "hourly_census_mase_poly_approx_train = mase(hourly_census_y_train, hourly_census_y_pred_approx_poly_train)\n",
    "\n",
    "hourly_census_mape_poly_approx_train = mean_absolute_percentage_error(hourly_census_y_train, hourly_census_y_pred_approx_poly_train)\n",
    "\n",
    "# Custom function for SMAPE\n",
    "def smape(hourly_census_y_train, hourly_census_y_pred_approx_poly_train):\n",
    "    return 100 * np.mean(2 * np.abs(hourly_census_y_pred_approx_poly_train - hourly_census_y_train) / (np.abs(hourly_census_y_pred_approx_poly_train) + np.abs(hourly_census_y_train)))\n",
    "\n",
    "hourly_census_smape_poly_approx_train = smape(hourly_census_y_train, hourly_census_y_pred_approx_poly_train)\n",
    "\n",
    "print(f'hourly_census SVM Model poly_approx kernel (train) - MAE: {hourly_census_mae_poly_approx_train}, MSE: {hourly_census_mse_poly_approx_train}, RMSE: {hourly_census_rmse_poly_approx_train}, R2: {hourly_census_r2_poly_approx_train}, MASE: {hourly_census_mase_poly_approx_train}, MAPE: {hourly_census_mape_poly_approx_train}, SMAPE: {hourly_census_smape_poly_approx_train}')"
   ]
  },
  {
   "cell_type": "code",
   "execution_count": 42,
   "metadata": {},
   "outputs": [
    {
     "name": "stdout",
     "output_type": "stream",
     "text": [
      "hourly_census SVM Model poly_approx kernel (test) - MAE: 0.24469013608408252, MSE: 0.21860543556567927, RMSE: 0.46755260192376136, R2: 0.781392436763259, MASE: 0.47658941637321534, MAPE: 1.1620008585899062, SMAPE: 62.07850914993237\n"
     ]
    }
   ],
   "source": [
    "# Evaluate on the testing set\n",
    "hourly_census_mae_poly_approx_test = mean_absolute_error(hourly_census_y_test, hourly_census_y_pred_approx_poly_test)\n",
    "hourly_census_mse_poly_approx_test = mean_squared_error(hourly_census_y_test, hourly_census_y_pred_approx_poly_test)\n",
    "hourly_census_rmse_poly_approx_test = np.sqrt(hourly_census_mse_poly_approx_test)\n",
    "hourly_census_r2_poly_approx_test = r2_score(hourly_census_y_test, hourly_census_y_pred_approx_poly_test)\n",
    "\n",
    "def mase(hourly_census_y_test, hourly_census_y_pred_approx_poly_test):\n",
    "    # Calculate the mean of the observed values\n",
    "    y_mean = np.mean(hourly_census_y_test)\n",
    "    \n",
    "    # Calculate MAE of the model\n",
    "    mae_model = np.mean(np.abs(hourly_census_y_test - hourly_census_y_pred_approx_poly_test))\n",
    "    \n",
    "    # Calculate MAE of the mean forecast\n",
    "    mae_mean = np.mean(np.abs(hourly_census_y_test - y_mean))\n",
    "    \n",
    "    # Calculate MASE\n",
    "    mase_value = mae_model / mae_mean\n",
    "    return mase_value\n",
    "\n",
    "hourly_census_mase_poly_approx_test = mase(hourly_census_y_test, hourly_census_y_pred_approx_poly_test)\n",
    "\n",
    "hourly_census_mape_poly_approx_test = mean_absolute_percentage_error(hourly_census_y_test, hourly_census_y_pred_approx_poly_test)\n",
    "\n",
    "# Custom function for SMAPE\n",
    "def smape(hourly_census_y_test, hourly_census_y_pred_approx_poly_test):\n",
    "    return 100 * np.mean(2 * np.abs(hourly_census_y_pred_approx_poly_test - hourly_census_y_test) / (np.abs(hourly_census_y_pred_approx_poly_test) + np.abs(hourly_census_y_test)))\n",
    "\n",
    "hourly_census_smape_poly_approx_test = smape(hourly_census_y_test, hourly_census_y_pred_approx_poly_test)\n",
    "\n",
    "print(f'hourly_census SVM Model poly_approx kernel (test) - MAE: {hourly_census_mae_poly_approx_test}, MSE: {hourly_census_mse_poly_approx_test}, RMSE: {hourly_census_rmse_poly_approx_test}, R2: {hourly_census_r2_poly_approx_test}, MASE: {hourly_census_mase_poly_approx_test}, MAPE: {hourly_census_mape_poly_approx_test}, SMAPE: {hourly_census_smape_poly_approx_test}')"
   ]
  },
  {
   "cell_type": "markdown",
   "metadata": {},
   "source": [
    "### hourly census with grid searching (put # because it takes too long)"
   ]
  },
  {
   "cell_type": "code",
   "execution_count": null,
   "metadata": {},
   "outputs": [],
   "source": [
    "# Define the parameter grid for Poly kernel\n",
    "# param_grid_poly = {\n",
    "    # 'C': [0.1, 1, 10, 100, 1000],\n",
    "    # 'gamma': ['scale', 'auto'],  # gamma is used for poly kernel\n",
    "    # 'degree': [2],  # Degree of the polynomial kernel\n",
    "    # 'kernel': ['poly']  # Specify Poly kernel\n",
    "# }\n",
    "\n",
    "# Initialize and perform Grid Search for poly kernel\n",
    "#param_grid_poly = GridSearchCV(SVR(), param_grid_poly, cv=5, scoring='neg_mean_absolute_error')\n",
    "#param_grid_poly.fit(hourly_census_X_train, hourly_census_y_train)\n",
    "\n",
    "# Best parameters from Grid Search\n",
    "#print(f'Best parameters for poly kernel: {param_grid_poly.best_params_}')\n",
    "\n",
    "# Get the best model from grid search\n",
    "#best_svm_poly = param_grid_poly.best_estimator_\n",
    "\n",
    "# Predict on the test set\n",
    "#hourly_census_best_svm_poly_test = best_svm_poly.predict(hourly_census_X_test)\n",
    "\n",
    "# Predict on the training set\n",
    "#hourly_census_best_svm_poly_train = best_svm_poly.predict(hourly_census_X_train)"
   ]
  },
  {
   "cell_type": "code",
   "execution_count": null,
   "metadata": {},
   "outputs": [],
   "source": [
    "# # # Evaluate on the training set\n",
    "# hourly_census_best_mae_poly_train = mean_absolute_error(hourly_census_y_train, hourly_census_best_svm_poly_train)\n",
    "# hourly_census_best_mse_poly_train = mean_squared_error(hourly_census_y_train, hourly_census_best_svm_poly_train)\n",
    "# hourly_census_best_rmse_poly_train = np.sqrt(hourly_census_best_mse_poly_train)\n",
    "# # hourly_census_best_r2_poly_train = r2_score(hourly_census_y_train, hourly_census_best_svm_poly_train)\n",
    "\n",
    "# # def mase(hourly_census_y_train, hourly_census_best_svm_poly_train):\n",
    "# #     # Calculate the mean of the observed values\n",
    "# #     y_mean = np.mean(hourly_census_y_train)\n",
    "    \n",
    "# #     # Calculate MAE of the model\n",
    "# #     mae_model = np.mean(np.abs(hourly_census_y_train - hourly_census_best_svm_poly_train))\n",
    "    \n",
    "# #     # Calculate MAE of the mean forecast\n",
    "# #     mae_mean = np.mean(np.abs(hourly_census_y_train - y_mean))\n",
    "    \n",
    "# #     # Calculate MASE\n",
    "# #     mase_value = mae_model / mae_mean\n",
    "# #     return mase_value\n",
    "\n",
    "# # hourly_census_best_mase_poly_train = mase(hourly_census_y_train, hourly_census_best_svm_poly_train)\n",
    "\n",
    "# # hourly_census_best_mape_poly_train = mean_absolute_percentage_error(hourly_census_y_train, hourly_census_best_svm_poly_train)\n",
    "\n",
    "# # # Custom function for SMAPE\n",
    "# # def smape(hourly_census_y_train, hourly_census_best_svm_poly_train):\n",
    "# #     return 100 * np.mean(2 * np.abs(hourly_census_best_svm_poly_train - hourly_census_y_train) / (np.abs(hourly_census_best_svm_poly_train) + np.abs(hourly_census_y_train)))\n",
    "\n",
    "# # hourly_census_best_smape_poly_train = smape(hourly_census_y_train, hourly_census_best_svm_poly_train)\n",
    "\n",
    "# # print(f'hourly_census SVM Model poly kernel (train) - MAE: {hourly_census_best_mae_poly_train}, MSE: {hourly_census_best_mse_poly_train}, RMSE: {hourly_census_best_rmse_poly_train}, R2: {hourly_census_best_r2_poly_train}, MASE: {hourly_census_best_mase_poly_train}, MAPE: {hourly_census_best_mape_poly_train}, SMAPE: {hourly_census_best_smape_poly_train}')"
   ]
  },
  {
   "cell_type": "code",
   "execution_count": null,
   "metadata": {},
   "outputs": [],
   "source": [
    "# # # Evaluate on the testing set\n",
    "# hourly_census_best_mae_poly_test = mean_absolute_error(hourly_census_y_test, hourly_census_best_svm_poly_test)\n",
    "# hourly_census_best_mse_poly_test = mean_squared_error(hourly_census_y_test, hourly_census_best_svm_poly_test)\n",
    "# hourly_census_best_rmse_poly_test = np.sqrt(hourly_census_best_mse_poly_test)\n",
    "# # hourly_census_best_r2_poly_test = r2_score(hourly_census_y_test, hourly_census_best_svm_poly_test)\n",
    "\n",
    "# # def mase(hourly_census_y_test, hourly_census_best_svm_poly_test):\n",
    "# #     # Calculate the mean of the observed values\n",
    "# #     y_mean = np.mean(hourly_census_y_test)\n",
    "    \n",
    "# #     # Calculate MAE of the model\n",
    "# #     mae_model = np.mean(np.abs(hourly_census_y_test - hourly_census_best_svm_poly_test))\n",
    "    \n",
    "# #     # Calculate MAE of the mean forecast\n",
    "# #     mae_mean = np.mean(np.abs(hourly_census_y_test - y_mean))\n",
    "    \n",
    "# #     # Calculate MASE\n",
    "# #     mase_value = mae_model / mae_mean\n",
    "# #     return mase_value\n",
    "\n",
    "# # hourly_census_best_mase_poly_test = mase(hourly_census_y_test, hourly_census_best_svm_poly_test)\n",
    "\n",
    "# # hourly_census_best_mape_poly_test = mean_absolute_percentage_error(hourly_census_y_test, hourly_census_best_svm_poly_test)\n",
    "\n",
    "# # # Custom function for SMAPE\n",
    "# # def smape(hourly_census_y_test, hourly_census_best_svm_poly_test):\n",
    "# #     return 100 * np.mean(2 * np.abs(hourly_census_best_svm_poly_test - hourly_census_y_test) / (np.abs(hourly_census_best_svm_poly_test) + np.abs(hourly_census_y_test)))\n",
    "\n",
    "# # hourly_census_best_smape_poly_test = smape(hourly_census_y_test, hourly_census_best_svm_poly_test)\n",
    "\n",
    "# # print(f'hourly_census SVM Model poly kernel (test) - MAE: {hourly_census_best_mae_poly_test}, MSE: {hourly_census_best_mse_poly_test}, RMSE: {hourly_census_best_rmse_poly_test}, R2: {hourly_census_best_r2_poly_test}, MASE: {hourly_census_best_mase_poly_test}, MAPE: {hourly_census_best_mape_poly_test}, SMAPE: {hourly_census_best_smape_poly_test}')\n"
   ]
  },
  {
   "cell_type": "markdown",
   "metadata": {},
   "source": [
    "### Evaluation"
   ]
  },
  {
   "cell_type": "code",
   "execution_count": null,
   "metadata": {},
   "outputs": [],
   "source": [
    "sns.set_theme(style=\"darkgrid\")\n",
    "\n",
    "fig, ax = plt.subplots()\n",
    "\n",
    "ax.plot(dc_nm.index, dc_nm['val_mae'], '-', c='red', label='Daily Census Tract')\n",
    "ax.plot(hc_nm.index, hc_nm['val_mae'], '-', c='orange', label='Hourly Census Tract')\n",
    "ax.plot(dh_nm.index, dh_nm['val_mae'], '-', c='blueviolet', label='Daily Hexagon')\n",
    "ax.plot(hh_nm.index, hh_nm['val_mae'], '-', c='magenta', label='Hourly Hexagon')\n",
    "plt.suptitle('Validation MAE for different Temporal-Spatial Resolutions')\n",
    "plt.title('(Standardized Targets)')\n",
    "plt.xlabel('Epochs')\n",
    "plt.ylabel('MAE')\n",
    "plt.legend()\n",
    "plt.show()"
   ]
  },
  {
   "cell_type": "code",
   "execution_count": 58,
   "metadata": {},
   "outputs": [
    {
     "data": {
      "text/html": [
       "<div>\n",
       "<style scoped>\n",
       "    .dataframe tbody tr th:only-of-type {\n",
       "        vertical-align: middle;\n",
       "    }\n",
       "\n",
       "    .dataframe tbody tr th {\n",
       "        vertical-align: top;\n",
       "    }\n",
       "\n",
       "    .dataframe thead th {\n",
       "        text-align: right;\n",
       "    }\n",
       "</style>\n",
       "<table border=\"1\" class=\"dataframe\">\n",
       "  <thead>\n",
       "    <tr style=\"text-align: right;\">\n",
       "      <th></th>\n",
       "      <th>Data</th>\n",
       "      <th>MAE</th>\n",
       "      <th>MSE</th>\n",
       "      <th>R2</th>\n",
       "    </tr>\n",
       "  </thead>\n",
       "  <tbody>\n",
       "    <tr>\n",
       "      <th>0</th>\n",
       "      <td>daily_hexagon</td>\n",
       "      <td>0.116573</td>\n",
       "      <td>0.082750</td>\n",
       "      <td>0.917239</td>\n",
       "    </tr>\n",
       "    <tr>\n",
       "      <th>1</th>\n",
       "      <td>hourly_hexagon</td>\n",
       "      <td>0.144051</td>\n",
       "      <td>0.136134</td>\n",
       "      <td>0.863864</td>\n",
       "    </tr>\n",
       "    <tr>\n",
       "      <th>2</th>\n",
       "      <td>daily_census</td>\n",
       "      <td>0.193458</td>\n",
       "      <td>0.100696</td>\n",
       "      <td>0.899294</td>\n",
       "    </tr>\n",
       "    <tr>\n",
       "      <th>3</th>\n",
       "      <td>hourly_census</td>\n",
       "      <td>0.248611</td>\n",
       "      <td>0.203481</td>\n",
       "      <td>0.796517</td>\n",
       "    </tr>\n",
       "  </tbody>\n",
       "</table>\n",
       "</div>"
      ],
      "text/plain": [
       "             Data       MAE       MSE        R2\n",
       "0   daily_hexagon  0.116573  0.082750  0.917239\n",
       "1  hourly_hexagon  0.144051  0.136134  0.863864\n",
       "2    daily_census  0.193458  0.100696  0.899294\n",
       "3   hourly_census  0.248611  0.203481  0.796517"
      ]
     },
     "metadata": {},
     "output_type": "display_data"
    }
   ],
   "source": [
    "data_rbf = {\n",
    "    'Data': ['daily_hexagon', 'hourly_hexagon', 'daily_census', 'hourly_census'],\n",
    "    'MAE': [daily_hexagon_mae_rbf_approx_test, hourly_hexagon_mae_rbf_approx_test, daily_census_mae_rbf_approx_test, hourly_census_mae_rbf_approx_test],\n",
    "    'MSE': [daily_hexagon_mse_rbf_approx_test, hourly_hexagon_mse_rbf_approx_test, daily_census_mse_rbf_approx_test, hourly_census_mse_rbf_approx_test],\n",
    "    'R2': [daily_hexagon_r2_rbf_approx_test, hourly_hexagon_r2_rbf_approx_test, daily_census_r2_rbf_approx_test, hourly_census_r2_rbf_approx_test]\n",
    "}\n",
    "\n",
    "df_rbf_approx = pd.DataFrame(data_rbf)\n",
    "display(df_rbf_approx)"
   ]
  },
  {
   "cell_type": "code",
   "execution_count": 65,
   "metadata": {},
   "outputs": [
    {
     "data": {
      "image/png": "[encoded data removed]",
      "text/plain": [
       "<Figure size 1000x600 with 1 Axes>"
      ]
     },
     "metadata": {},
     "output_type": "display_data"
    }
   ],
   "source": [
    "# Melt the DataFrame to long-form format for easier plotting with Seaborn\n",
    "df_melted = pd.melt(df_rbf_approx, id_vars=['Data'], value_vars=['MAE', 'R2'], var_name='Metric', value_name='Value')\n",
    "\n",
    "# Set the Seaborn theme\n",
    "sns.set_theme(style=\"darkgrid\")\n",
    "\n",
    "# Create the bar plot\n",
    "plt.figure(figsize=(10, 6))\n",
    "sns.barplot(x='Data', y='Value', hue='Metric', data=df_melted)\n",
    "\n",
    "# Set titles and labels\n",
    "plt.suptitle('Comparison of MAE and R2 for Different Temporal-Spatial Resolutions with RBF Kernel')\n",
    "plt.title('(Standardized Targets)', fontsize=10)\n",
    "plt.xlabel('Temporal-Spatial Resolutions')\n",
    "plt.ylabel('Value of R2 and MAE')\n",
    "\n",
    "# Display the plot\n",
    "plt.show()"
   ]
  },
  {
   "cell_type": "code",
   "execution_count": 60,
   "metadata": {},
   "outputs": [
    {
     "data": {
      "text/html": [
       "<div>\n",
       "<style scoped>\n",
       "    .dataframe tbody tr th:only-of-type {\n",
       "        vertical-align: middle;\n",
       "    }\n",
       "\n",
       "    .dataframe tbody tr th {\n",
       "        vertical-align: top;\n",
       "    }\n",
       "\n",
       "    .dataframe thead th {\n",
       "        text-align: right;\n",
       "    }\n",
       "</style>\n",
       "<table border=\"1\" class=\"dataframe\">\n",
       "  <thead>\n",
       "    <tr style=\"text-align: right;\">\n",
       "      <th></th>\n",
       "      <th>Data</th>\n",
       "      <th>MAE</th>\n",
       "      <th>MSE</th>\n",
       "      <th>R2</th>\n",
       "    </tr>\n",
       "  </thead>\n",
       "  <tbody>\n",
       "    <tr>\n",
       "      <th>0</th>\n",
       "      <td>daily_hexagon</td>\n",
       "      <td>0.099431</td>\n",
       "      <td>0.078798</td>\n",
       "      <td>0.921193</td>\n",
       "    </tr>\n",
       "    <tr>\n",
       "      <th>1</th>\n",
       "      <td>hourly_hexagon</td>\n",
       "      <td>0.158477</td>\n",
       "      <td>0.112547</td>\n",
       "      <td>0.887452</td>\n",
       "    </tr>\n",
       "    <tr>\n",
       "      <th>2</th>\n",
       "      <td>daily_census</td>\n",
       "      <td>0.147944</td>\n",
       "      <td>0.102837</td>\n",
       "      <td>0.897153</td>\n",
       "    </tr>\n",
       "    <tr>\n",
       "      <th>3</th>\n",
       "      <td>hourly_census</td>\n",
       "      <td>0.244690</td>\n",
       "      <td>0.218605</td>\n",
       "      <td>0.781392</td>\n",
       "    </tr>\n",
       "  </tbody>\n",
       "</table>\n",
       "</div>"
      ],
      "text/plain": [
       "             Data       MAE       MSE        R2\n",
       "0   daily_hexagon  0.099431  0.078798  0.921193\n",
       "1  hourly_hexagon  0.158477  0.112547  0.887452\n",
       "2    daily_census  0.147944  0.102837  0.897153\n",
       "3   hourly_census  0.244690  0.218605  0.781392"
      ]
     },
     "metadata": {},
     "output_type": "display_data"
    }
   ],
   "source": [
    "data_poly = {\n",
    "    'Data': ['daily_hexagon', 'hourly_hexagon', 'daily_census', 'hourly_census'],\n",
    "    'MAE': [daily_hexagon_mae_poly_approx_test, hourly_hexagon_mae_poly_approx_test, daily_census_mae_poly_approx_test, hourly_census_mae_poly_approx_test],\n",
    "    'MSE': [daily_hexagon_mse_poly_approx_test, hourly_hexagon_mse_poly_approx_test, daily_census_mse_poly_approx_test, hourly_census_mse_poly_approx_test],\n",
    "    'R2': [daily_hexagon_r2_poly_approx_test, hourly_hexagon_r2_poly_approx_test, daily_census_r2_poly_approx_test, hourly_census_r2_poly_approx_test]\n",
    "}\n",
    "\n",
    "df_poly_approx = pd.DataFrame(data_poly)\n",
    "display(df_poly_approx)\n"
   ]
  },
  {
   "cell_type": "code",
   "execution_count": 66,
   "metadata": {},
   "outputs": [
    {
     "data": {
      "image/png": "[encoded data removed]",
      "text/plain": [
       "<Figure size 1000x600 with 1 Axes>"
      ]
     },
     "metadata": {},
     "output_type": "display_data"
    }
   ],
   "source": [
    "# Melt the DataFrame to long-form format for easier plotting with Seaborn\n",
    "df_melted = pd.melt(df_poly_approx, id_vars=['Data'], value_vars=['MAE', 'R2'], var_name='Metric', value_name='Value')\n",
    "\n",
    "# Set the Seaborn theme\n",
    "sns.set_theme(style=\"darkgrid\")\n",
    "\n",
    "# Create the bar plot\n",
    "plt.figure(figsize=(10, 6))\n",
    "sns.barplot(x='Data', y='Value', hue='Metric', data=df_melted)\n",
    "\n",
    "# Set titles and labels\n",
    "plt.suptitle('Comparison of MAE and R2 for Different Temporal-Spatial Resolutions with Polynomial Kernel')\n",
    "plt.title('(Standardized Targets)', fontsize=10)\n",
    "plt.xlabel('Temporal-Spatial Resolutions')\n",
    "plt.ylabel('VaValue of R2 and MAElue')\n",
    "\n",
    "# Display the plot\n",
    "plt.show()"
   ]
  }
 ],
 "metadata": {
  "kernelspec": {
   "display_name": "Python 3",
   "language": "python",
   "name": "python3"
  },
  "language_info": {
   "codemirror_mode": {
    "name": "ipython",
    "version": 3
   },
   "file_extension": ".py",
   "mimetype": "text/x-python",
   "name": "python",
   "nbconvert_exporter": "python",
   "pygments_lexer": "ipython3",
   "version": "3.10.0"
  }
 },
 "nbformat": 4,
 "nbformat_minor": 2
}
